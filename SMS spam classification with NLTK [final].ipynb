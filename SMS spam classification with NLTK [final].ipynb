{
 "cells": [
  {
   "cell_type": "code",
   "execution_count": 6,
   "metadata": {
    "collapsed": true
   },
   "outputs": [],
   "source": [
    "#import the Natural Language Toolkit module\n",
    "import nltk\n",
    "\n",
    "#import pandas module and pandas functions\n",
    "import pandas as pd\n",
    "from pandas import Series, DataFrame"
   ]
  },
  {
   "cell_type": "code",
   "execution_count": 7,
   "metadata": {
    "collapsed": false
   },
   "outputs": [
    {
     "name": "stdout",
     "output_type": "stream",
     "text": [
      "<class 'pandas.core.frame.DataFrame'>\n"
     ]
    },
    {
     "data": {
      "text/html": [
       "<div>\n",
       "<table border=\"1\" class=\"dataframe\">\n",
       "  <thead>\n",
       "    <tr style=\"text-align: right;\">\n",
       "      <th></th>\n",
       "      <th>v1</th>\n",
       "      <th>v2</th>\n",
       "      <th>Unnamed: 2</th>\n",
       "      <th>Unnamed: 3</th>\n",
       "      <th>Unnamed: 4</th>\n",
       "    </tr>\n",
       "  </thead>\n",
       "  <tbody>\n",
       "    <tr>\n",
       "      <th>0</th>\n",
       "      <td>ham</td>\n",
       "      <td>Go until jurong point, crazy.. Available only ...</td>\n",
       "      <td>NaN</td>\n",
       "      <td>NaN</td>\n",
       "      <td>NaN</td>\n",
       "    </tr>\n",
       "    <tr>\n",
       "      <th>1</th>\n",
       "      <td>ham</td>\n",
       "      <td>Ok lar... Joking wif u oni...</td>\n",
       "      <td>NaN</td>\n",
       "      <td>NaN</td>\n",
       "      <td>NaN</td>\n",
       "    </tr>\n",
       "    <tr>\n",
       "      <th>2</th>\n",
       "      <td>spam</td>\n",
       "      <td>Free entry in 2 a wkly comp to win FA Cup fina...</td>\n",
       "      <td>NaN</td>\n",
       "      <td>NaN</td>\n",
       "      <td>NaN</td>\n",
       "    </tr>\n",
       "    <tr>\n",
       "      <th>3</th>\n",
       "      <td>ham</td>\n",
       "      <td>U dun say so early hor... U c already then say...</td>\n",
       "      <td>NaN</td>\n",
       "      <td>NaN</td>\n",
       "      <td>NaN</td>\n",
       "    </tr>\n",
       "    <tr>\n",
       "      <th>4</th>\n",
       "      <td>ham</td>\n",
       "      <td>Nah I don't think he goes to usf, he lives aro...</td>\n",
       "      <td>NaN</td>\n",
       "      <td>NaN</td>\n",
       "      <td>NaN</td>\n",
       "    </tr>\n",
       "  </tbody>\n",
       "</table>\n",
       "</div>"
      ],
      "text/plain": [
       "     v1                                                 v2 Unnamed: 2  \\\n",
       "0   ham  Go until jurong point, crazy.. Available only ...        NaN   \n",
       "1   ham                      Ok lar... Joking wif u oni...        NaN   \n",
       "2  spam  Free entry in 2 a wkly comp to win FA Cup fina...        NaN   \n",
       "3   ham  U dun say so early hor... U c already then say...        NaN   \n",
       "4   ham  Nah I don't think he goes to usf, he lives aro...        NaN   \n",
       "\n",
       "  Unnamed: 3 Unnamed: 4  \n",
       "0        NaN        NaN  \n",
       "1        NaN        NaN  \n",
       "2        NaN        NaN  \n",
       "3        NaN        NaN  \n",
       "4        NaN        NaN  "
      ]
     },
     "execution_count": 7,
     "metadata": {},
     "output_type": "execute_result"
    }
   ],
   "source": [
    "#download the SMS spam collection datasets from \n",
    "#https://www.kaggle.com/uciml/sms-spam-collection-dataset\n",
    "#import it as a pandas dataframe for straightforward manipulation\n",
    "sms_dataset = pd.read_csv(\"SMS_dataset.csv\", encoding=\"latin-1\")\n",
    "print(type(sms_dataset))\n",
    "\n",
    "#this shows the top 5 rows of our dataframe as well as headers and index\n",
    "sms_dataset.head()"
   ]
  },
  {
   "cell_type": "code",
   "execution_count": 8,
   "metadata": {
    "collapsed": false
   },
   "outputs": [
    {
     "data": {
      "text/html": [
       "<div>\n",
       "<table border=\"1\" class=\"dataframe\">\n",
       "  <thead>\n",
       "    <tr style=\"text-align: right;\">\n",
       "      <th></th>\n",
       "      <th>v1</th>\n",
       "      <th>v2</th>\n",
       "      <th>Unnamed: 2</th>\n",
       "      <th>Unnamed: 3</th>\n",
       "      <th>Unnamed: 4</th>\n",
       "    </tr>\n",
       "  </thead>\n",
       "  <tbody>\n",
       "    <tr>\n",
       "      <th>5567</th>\n",
       "      <td>spam</td>\n",
       "      <td>This is the 2nd time we have tried 2 contact u...</td>\n",
       "      <td>NaN</td>\n",
       "      <td>NaN</td>\n",
       "      <td>NaN</td>\n",
       "    </tr>\n",
       "    <tr>\n",
       "      <th>5568</th>\n",
       "      <td>ham</td>\n",
       "      <td>Will Ì_ b going to esplanade fr home?</td>\n",
       "      <td>NaN</td>\n",
       "      <td>NaN</td>\n",
       "      <td>NaN</td>\n",
       "    </tr>\n",
       "    <tr>\n",
       "      <th>5569</th>\n",
       "      <td>ham</td>\n",
       "      <td>Pity, * was in mood for that. So...any other s...</td>\n",
       "      <td>NaN</td>\n",
       "      <td>NaN</td>\n",
       "      <td>NaN</td>\n",
       "    </tr>\n",
       "    <tr>\n",
       "      <th>5570</th>\n",
       "      <td>ham</td>\n",
       "      <td>The guy did some bitching but I acted like i'd...</td>\n",
       "      <td>NaN</td>\n",
       "      <td>NaN</td>\n",
       "      <td>NaN</td>\n",
       "    </tr>\n",
       "    <tr>\n",
       "      <th>5571</th>\n",
       "      <td>ham</td>\n",
       "      <td>Rofl. Its true to its name</td>\n",
       "      <td>NaN</td>\n",
       "      <td>NaN</td>\n",
       "      <td>NaN</td>\n",
       "    </tr>\n",
       "  </tbody>\n",
       "</table>\n",
       "</div>"
      ],
      "text/plain": [
       "        v1                                                 v2 Unnamed: 2  \\\n",
       "5567  spam  This is the 2nd time we have tried 2 contact u...        NaN   \n",
       "5568   ham              Will Ì_ b going to esplanade fr home?        NaN   \n",
       "5569   ham  Pity, * was in mood for that. So...any other s...        NaN   \n",
       "5570   ham  The guy did some bitching but I acted like i'd...        NaN   \n",
       "5571   ham                         Rofl. Its true to its name        NaN   \n",
       "\n",
       "     Unnamed: 3 Unnamed: 4  \n",
       "5567        NaN        NaN  \n",
       "5568        NaN        NaN  \n",
       "5569        NaN        NaN  \n",
       "5570        NaN        NaN  \n",
       "5571        NaN        NaN  "
      ]
     },
     "execution_count": 8,
     "metadata": {},
     "output_type": "execute_result"
    }
   ],
   "source": [
    "#this shows the last 5 rows of our dataframe as well as headers and index\n",
    "sms_dataset.tail()"
   ]
  },
  {
   "cell_type": "code",
   "execution_count": 9,
   "metadata": {
    "collapsed": false
   },
   "outputs": [
    {
     "data": {
      "text/html": [
       "<div>\n",
       "<table border=\"1\" class=\"dataframe\">\n",
       "  <thead>\n",
       "    <tr style=\"text-align: right;\">\n",
       "      <th></th>\n",
       "      <th>v1</th>\n",
       "      <th>v2</th>\n",
       "    </tr>\n",
       "  </thead>\n",
       "  <tbody>\n",
       "    <tr>\n",
       "      <th>0</th>\n",
       "      <td>ham</td>\n",
       "      <td>Go until jurong point, crazy.. Available only ...</td>\n",
       "    </tr>\n",
       "    <tr>\n",
       "      <th>1</th>\n",
       "      <td>ham</td>\n",
       "      <td>Ok lar... Joking wif u oni...</td>\n",
       "    </tr>\n",
       "    <tr>\n",
       "      <th>2</th>\n",
       "      <td>spam</td>\n",
       "      <td>Free entry in 2 a wkly comp to win FA Cup fina...</td>\n",
       "    </tr>\n",
       "    <tr>\n",
       "      <th>3</th>\n",
       "      <td>ham</td>\n",
       "      <td>U dun say so early hor... U c already then say...</td>\n",
       "    </tr>\n",
       "    <tr>\n",
       "      <th>4</th>\n",
       "      <td>ham</td>\n",
       "      <td>Nah I don't think he goes to usf, he lives aro...</td>\n",
       "    </tr>\n",
       "  </tbody>\n",
       "</table>\n",
       "</div>"
      ],
      "text/plain": [
       "     v1                                                 v2\n",
       "0   ham  Go until jurong point, crazy.. Available only ...\n",
       "1   ham                      Ok lar... Joking wif u oni...\n",
       "2  spam  Free entry in 2 a wkly comp to win FA Cup fina...\n",
       "3   ham  U dun say so early hor... U c already then say...\n",
       "4   ham  Nah I don't think he goes to usf, he lives aro..."
      ]
     },
     "execution_count": 9,
     "metadata": {},
     "output_type": "execute_result"
    }
   ],
   "source": [
    "#as you probably noticed, we have three columns at the end\n",
    "#called \"Unnamed: 2\" - \"Unnamed: 4\" that do not contain important data\n",
    "#and so we will clean up the dataframe further by removing those columns\n",
    "sms_dataset.drop([\"Unnamed: 2\",\"Unnamed: 3\",\"Unnamed: 4\"], axis = 1, inplace = True)\n",
    "#the default axis is 0, which is the index column\n",
    "\n",
    "sms_dataset.head()"
   ]
  },
  {
   "cell_type": "code",
   "execution_count": 10,
   "metadata": {
    "collapsed": false
   },
   "outputs": [
    {
     "data": {
      "text/html": [
       "<div>\n",
       "<table border=\"1\" class=\"dataframe\">\n",
       "  <thead>\n",
       "    <tr style=\"text-align: right;\">\n",
       "      <th></th>\n",
       "      <th>sms_type</th>\n",
       "      <th>message</th>\n",
       "    </tr>\n",
       "  </thead>\n",
       "  <tbody>\n",
       "    <tr>\n",
       "      <th>0</th>\n",
       "      <td>ham</td>\n",
       "      <td>Go until jurong point, crazy.. Available only ...</td>\n",
       "    </tr>\n",
       "    <tr>\n",
       "      <th>1</th>\n",
       "      <td>ham</td>\n",
       "      <td>Ok lar... Joking wif u oni...</td>\n",
       "    </tr>\n",
       "    <tr>\n",
       "      <th>2</th>\n",
       "      <td>spam</td>\n",
       "      <td>Free entry in 2 a wkly comp to win FA Cup fina...</td>\n",
       "    </tr>\n",
       "    <tr>\n",
       "      <th>3</th>\n",
       "      <td>ham</td>\n",
       "      <td>U dun say so early hor... U c already then say...</td>\n",
       "    </tr>\n",
       "    <tr>\n",
       "      <th>4</th>\n",
       "      <td>ham</td>\n",
       "      <td>Nah I don't think he goes to usf, he lives aro...</td>\n",
       "    </tr>\n",
       "  </tbody>\n",
       "</table>\n",
       "</div>"
      ],
      "text/plain": [
       "  sms_type                                            message\n",
       "0      ham  Go until jurong point, crazy.. Available only ...\n",
       "1      ham                      Ok lar... Joking wif u oni...\n",
       "2     spam  Free entry in 2 a wkly comp to win FA Cup fina...\n",
       "3      ham  U dun say so early hor... U c already then say...\n",
       "4      ham  Nah I don't think he goes to usf, he lives aro..."
      ]
     },
     "execution_count": 10,
     "metadata": {},
     "output_type": "execute_result"
    }
   ],
   "source": [
    "#next, let's rename \"v1\" and \"v2\" headers to something more meaningful\n",
    "sms_dataset = sms_dataset.rename(columns = {\"v1\":\"sms_type\",\"v2\":\"message\"})\n",
    "sms_dataset.head()"
   ]
  },
  {
   "cell_type": "code",
   "execution_count": 11,
   "metadata": {
    "collapsed": false
   },
   "outputs": [
    {
     "name": "stdout",
     "output_type": "stream",
     "text": [
      "5572 \n",
      "\n",
      "Go until jurong point, crazy.. Available only in bugis n great world la e buffet... Cine there got amore wat...\n",
      "<class 'str'>\n",
      "ham\n",
      "<class 'str'>\n"
     ]
    }
   ],
   "source": [
    "print(len(sms_dataset.index), \"\\n\")\n",
    "#so we have 5572 SMS messages in this dataframe\n",
    "\n",
    "print(sms_dataset.loc[0][\"message\"])\n",
    "print(type(sms_dataset.loc[0][\"message\"]))\n",
    "print(sms_dataset.loc[5571][\"sms_type\"])\n",
    "print(type(sms_dataset.loc[5571][\"sms_type\"]))\n",
    "#the data in both sms_type and message columns are strings"
   ]
  },
  {
   "cell_type": "code",
   "execution_count": 12,
   "metadata": {
    "collapsed": false
   },
   "outputs": [
    {
     "name": "stdout",
     "output_type": "stream",
     "text": [
      "{'needn', 'what', 've', 'himself', 'hers', 'up', 'nor', 'of', 't', 'isn', 'who', 'no', 'off', 'which', 'were', 'about', 'y', 'until', 'hasn', 'been', 'under', 'her', 'll', 'doesn', 'shouldn', 'ourselves', 'won', 'our', 'further', 'now', 'doing', 'both', 'wasn', 'why', 'each', 're', 'mightn', 'has', 'shan', 'for', 'it', 'was', 'any', 'be', 'ours', 'themselves', 'being', 'during', 'she', 'against', 'so', 'a', 'than', 'then', 'couldn', 'are', 'm', 'these', 'on', 'by', 'into', 'myself', 'while', 'my', 'at', 'there', 'they', 'few', 'an', 'with', 'haven', 'as', 'did', 'aren', 'do', 'their', 'just', 'again', 'the', 'such', 'its', 'those', 'don', 'same', 'will', 'your', 'own', 'i', 'should', 'too', 'yourselves', 'him', 'most', 'when', 'you', 'his', 'that', 'me', 'is', 'ain', 'whom', 'out', 'have', 'he', 'where', 'more', 'only', 's', 'if', 'once', 'before', 'some', 'other', 'this', 'u', 'had', 'after', 'ma', 'but', 'we', 'over', 'itself', 'here', 'through', 'am', 'd', 'because', 'herself', 'to', 'can', 'below', 'them', 'very', 'does', 'down', 'hadn', 'mustn', 'theirs', 'not', 'all', 'in', 'how', 'o', 'didn', 'weren', 'or', 'above', 'between', 'wouldn', 'having', 'yourself', 'from', 'yours', 'and'}\n"
     ]
    }
   ],
   "source": [
    "from nltk.corpus import stopwords\n",
    "\n",
    "#stop words are some of the most common words used in a language\n",
    "#in our case, the English language\n",
    "#and they will be removed from the data before data processing\n",
    "stop_words = set(stopwords.words('english'))\n",
    "\n",
    "stop_words.update([\"u\"]) \n",
    "#\"u\" was added to the list of stopwords because\n",
    "#it shows up so often in casual text messages,\n",
    "#likely as often as \"you\" shows up in more formal communications\n",
    "\n",
    "print(stop_words)"
   ]
  },
  {
   "cell_type": "code",
   "execution_count": 30,
   "metadata": {
    "collapsed": false
   },
   "outputs": [
    {
     "name": "stdout",
     "output_type": "stream",
     "text": [
      "['I', 'love', 'you', '.', 'You', 'love', 'me', '.', 'We', \"'re\", 'a', 'happy', 'family', '.']\n",
      "mouse\n",
      "clock\n",
      "jump\n",
      "fast\n"
     ]
    }
   ],
   "source": [
    "#to further pre-process our data, we will use the following\n",
    "\n",
    "from nltk.tokenize import sent_tokenize, word_tokenize\n",
    "#according to nltk documentation (http://www.nltk.org/api/nltk.tokenize.html)\n",
    "#word_tokenize function should be applied to one sentence at a time\n",
    "#but this seems to have been fixed so that the function works on a multi-sentence arg\n",
    "#e.g., https://github.com/nltk/nltk_book/issues/33 and trying out\n",
    "#print(word_tokenize(\"I love you. You love me. We're a happy family.\"))\n",
    "#we will still run sent_tokenize before running word_tokenize \n",
    "#for the sake of exploring a bit more about what nltk has to offer\n",
    "\n",
    "from nltk.stem import WordNetLemmatizer\n",
    "lemmatizer = WordNetLemmatizer()\n",
    "#lemmatizer function finds the lemma of a word argument\n",
    "#according to https://simple.wikipedia.org/wiki/Lemma_(linguistics) is \n",
    "#a word which stands at the head of a definition in a dictionary\n",
    "\n",
    "#this function has a default part of speech parameter of noun\n",
    "print(lemmatizer.lemmatize(\"mice\"))\n",
    "print(lemmatizer.lemmatize(\"clocks\"))\n",
    "print(lemmatizer.lemmatize(\"jumping\", \"v\"))\n",
    "print(lemmatizer.lemmatize(\"fastest\", pos=\"a\"))"
   ]
  },
  {
   "cell_type": "code",
   "execution_count": 14,
   "metadata": {
    "collapsed": false,
    "scrolled": true
   },
   "outputs": [
    {
     "data": {
      "text/html": [
       "<div>\n",
       "<table border=\"1\" class=\"dataframe\">\n",
       "  <thead>\n",
       "    <tr style=\"text-align: right;\">\n",
       "      <th></th>\n",
       "      <th>sms_type</th>\n",
       "      <th>message</th>\n",
       "    </tr>\n",
       "  </thead>\n",
       "  <tbody>\n",
       "    <tr>\n",
       "      <th>0</th>\n",
       "      <td>ham</td>\n",
       "      <td>go jurong point , crazy.. available bugis n gr...</td>\n",
       "    </tr>\n",
       "    <tr>\n",
       "      <th>1</th>\n",
       "      <td>ham</td>\n",
       "      <td>ok lar ... joking wif oni ...</td>\n",
       "    </tr>\n",
       "    <tr>\n",
       "      <th>2</th>\n",
       "      <td>spam</td>\n",
       "      <td>free entry 2 wkly comp win fa cup final tkts 2...</td>\n",
       "    </tr>\n",
       "    <tr>\n",
       "      <th>3</th>\n",
       "      <td>ham</td>\n",
       "      <td>dun say early hor ... c already say ...</td>\n",
       "    </tr>\n",
       "    <tr>\n",
       "      <th>4</th>\n",
       "      <td>ham</td>\n",
       "      <td>nah n't think go usf , life around though</td>\n",
       "    </tr>\n",
       "    <tr>\n",
       "      <th>5</th>\n",
       "      <td>spam</td>\n",
       "      <td>freemsg hey darling 's 3 week 's word back ! '...</td>\n",
       "    </tr>\n",
       "    <tr>\n",
       "      <th>6</th>\n",
       "      <td>ham</td>\n",
       "      <td>even brother like speak . treat like aid patent .</td>\n",
       "    </tr>\n",
       "    <tr>\n",
       "      <th>7</th>\n",
       "      <td>ham</td>\n",
       "      <td>per request 'melle melle ( oru minnaminunginte...</td>\n",
       "    </tr>\n",
       "    <tr>\n",
       "      <th>8</th>\n",
       "      <td>spam</td>\n",
       "      <td>winner ! ! valued network customer selected re...</td>\n",
       "    </tr>\n",
       "    <tr>\n",
       "      <th>9</th>\n",
       "      <td>spam</td>\n",
       "      <td>mobile 11 month ? r entitled update latest col...</td>\n",
       "    </tr>\n",
       "  </tbody>\n",
       "</table>\n",
       "</div>"
      ],
      "text/plain": [
       "  sms_type                                            message\n",
       "0      ham  go jurong point , crazy.. available bugis n gr...\n",
       "1      ham                      ok lar ... joking wif oni ...\n",
       "2     spam  free entry 2 wkly comp win fa cup final tkts 2...\n",
       "3      ham            dun say early hor ... c already say ...\n",
       "4      ham          nah n't think go usf , life around though\n",
       "5     spam  freemsg hey darling 's 3 week 's word back ! '...\n",
       "6      ham  even brother like speak . treat like aid patent .\n",
       "7      ham  per request 'melle melle ( oru minnaminunginte...\n",
       "8     spam  winner ! ! valued network customer selected re...\n",
       "9     spam  mobile 11 month ? r entitled update latest col..."
      ]
     },
     "execution_count": 14,
     "metadata": {},
     "output_type": "execute_result"
    }
   ],
   "source": [
    "#for i from index 0 to index 5571\n",
    "for i in range(len(sms_dataset.index)):\n",
    "    #create a list of word tokens by\n",
    "    \n",
    "    #tokenizing each string in the \"message\" column into sentences\n",
    "    #which returns a list of sentence strings\n",
    "    \n",
    "    #and then tokeninzing each sentence into words\n",
    "    #which returns a list of word strings\n",
    "    \n",
    "    #next we take each word and find their lemmas\n",
    "    #unfortunately, we will have to assume that all words are nouns\n",
    "    word_tokens = [lemmatizer.lemmatize(word.lower()) \n",
    "                   for sent in sent_tokenize(sms_dataset.loc[i][\"message\"])\n",
    "                   for word in word_tokenize(sent)] #better than str.split(sent)\n",
    "    #then from the word_tokens list we take elements that are not stopwords\n",
    "    #and add them to a new list\n",
    "    without_stop = [w for w in word_tokens if w not in stop_words]\n",
    "    #we convert this new list of words into a string\n",
    "    without_stop_str = \" \".join(without_stop)\n",
    "    #and replace all messages with lemmatized versions of the original\n",
    "    #that do not include stopwords\n",
    "    sms_dataset.loc[i][\"message\"] = without_stop_str\n",
    "\n",
    "sms_dataset.head(10)"
   ]
  },
  {
   "cell_type": "code",
   "execution_count": 15,
   "metadata": {
    "collapsed": false
   },
   "outputs": [
    {
     "data": {
      "text/html": [
       "<div>\n",
       "<table border=\"1\" class=\"dataframe\">\n",
       "  <thead>\n",
       "    <tr style=\"text-align: right;\">\n",
       "      <th></th>\n",
       "      <th>sms_type</th>\n",
       "      <th>message</th>\n",
       "    </tr>\n",
       "  </thead>\n",
       "  <tbody>\n",
       "    <tr>\n",
       "      <th>5567</th>\n",
       "      <td>spam</td>\n",
       "      <td>2nd time tried 2 contact u. å£750 pound prize ...</td>\n",
       "    </tr>\n",
       "    <tr>\n",
       "      <th>5568</th>\n",
       "      <td>ham</td>\n",
       "      <td>ì_ b going esplanade fr home ?</td>\n",
       "    </tr>\n",
       "    <tr>\n",
       "      <th>5569</th>\n",
       "      <td>ham</td>\n",
       "      <td>pity , * wa mood . ... suggestion ?</td>\n",
       "    </tr>\n",
       "    <tr>\n",
       "      <th>5570</th>\n",
       "      <td>ham</td>\n",
       "      <td>guy bitching acted like 'd interested buying s...</td>\n",
       "    </tr>\n",
       "    <tr>\n",
       "      <th>5571</th>\n",
       "      <td>ham</td>\n",
       "      <td>rofl . true name</td>\n",
       "    </tr>\n",
       "  </tbody>\n",
       "</table>\n",
       "</div>"
      ],
      "text/plain": [
       "     sms_type                                            message\n",
       "5567     spam  2nd time tried 2 contact u. å£750 pound prize ...\n",
       "5568      ham                     ì_ b going esplanade fr home ?\n",
       "5569      ham                pity , * wa mood . ... suggestion ?\n",
       "5570      ham  guy bitching acted like 'd interested buying s...\n",
       "5571      ham                                   rofl . true name"
      ]
     },
     "execution_count": 15,
     "metadata": {},
     "output_type": "execute_result"
    }
   ],
   "source": [
    "sms_dataset.tail()"
   ]
  },
  {
   "cell_type": "code",
   "execution_count": 16,
   "metadata": {
    "collapsed": false
   },
   "outputs": [
    {
     "name": "stdout",
     "output_type": "stream",
     "text": [
      "ham\n",
      "go jurong point , crazy.. available bugis n great world la e buffet ... cine got amore wat ... \n",
      "\n",
      "[(['go', 'jurong', 'point', ',', 'crazy..', 'available', 'bugis', 'n', 'great', 'world', 'la', 'e', 'buffet', '...', 'cine', 'got', 'amore', 'wat', '...'], 'ham'), (['ok', 'lar', '...', 'joking', 'wif', 'oni', '...'], 'ham'), (['free', 'entry', '2', 'wkly', 'comp', 'win', 'fa', 'cup', 'final', 'tkts', '21st', 'may', '2005', '.', 'text', 'fa', '87121', 'receive', 'entry', 'question', '(', 'std', 'txt', 'rate', ')', '&', 'c', \"'s\", 'apply', '08452810075over18', \"'s\"], 'spam'), (['dun', 'say', 'early', 'hor', '...', 'c', 'already', 'say', '...'], 'ham'), (['nah', \"n't\", 'think', 'go', 'usf', ',', 'life', 'around', 'though'], 'ham'), (['freemsg', 'hey', 'darling', \"'s\", '3', 'week', \"'s\", 'word', 'back', '!', \"'d\", 'like', 'fun', 'still', '?', 'tb', 'ok', '!', 'xxx', 'std', 'chgs', 'send', ',', 'å£1.50', 'rcv'], 'spam')]\n"
     ]
    }
   ],
   "source": [
    "#now following the template set in the python programming nltk tutorial\n",
    "#we format all the information in the dataframe into a list of tuples\n",
    "\n",
    "#this shows how you access strings in the sms_type and message columns\n",
    "for row in sms_dataset.iterrows():\n",
    "    print(row[1][0])\n",
    "    print(row[1][1], \"\\n\")\n",
    "    break\n",
    "\n",
    "all_messages = []\n",
    "\n",
    "for row in sms_dataset.iterrows():\n",
    "    #we had to tokenize strings into lists,\n",
    "    #convert lists into strings\n",
    "    #and finally tokenize the cleaned-up string again\n",
    "    #because pandas dataframes will not accept lists\n",
    "    all_messages.append((word_tokenize(row[1][1]),row[1][0]))\n",
    "\n",
    "print(all_messages[:6])"
   ]
  },
  {
   "cell_type": "code",
   "execution_count": 17,
   "metadata": {
    "collapsed": false
   },
   "outputs": [
    {
     "name": "stdout",
     "output_type": "stream",
     "text": [
      "(['r', 'much', 'close', 'heart', '.', 'go', 'away', 'shattered', '.', 'plz', 'stay', '.'], 'ham')\n",
      "(['yes', 'princess', '!', 'want', 'make', 'happy', '...'], 'ham')\n"
     ]
    }
   ],
   "source": [
    "#in case there was some pattern already set in the SMS dataset\n",
    "#such as all spam type messages living the first half\n",
    "#we are going to shuffle all the messages so that the different types\n",
    "#are better distributed throughout the all_messages list\n",
    "\n",
    "import random\n",
    "\n",
    "random.shuffle(all_messages)\n",
    "print(all_messages[0])\n",
    "print(all_messages[5571])"
   ]
  },
  {
   "cell_type": "code",
   "execution_count": 18,
   "metadata": {
    "collapsed": false
   },
   "outputs": [
    {
     "name": "stdout",
     "output_type": "stream",
     "text": [
      "68090\n",
      "9181\n",
      "<class 'nltk.probability.FreqDist'>\n",
      "[('.', 4933), (',', 1872), ('?', 1541), ('!', 1381), ('...', 1233), ('&', 916), (';', 764), (':', 717), ('call', 600), (')', 494), (\"'s\", 492), ('2', 485), ('get', 396), (\"'m\", 395), ('ur', 381), (\"n't\", 361), ('gt', 318), ('lt', 316), ('go', 303), (\"''\", 293), ('#', 287), ('free', 275), ('know', 269), ('4', 268), ('ok', 251)]\n"
     ]
    }
   ],
   "source": [
    "#now we will compile all words from all messages into a list\n",
    "#in order to extract the most common ones to use as features\n",
    "#that can help identify either spam or non-spam (ham)\n",
    "\n",
    "all_words = []\n",
    "#again, this is index 0 to index 5571\n",
    "for i in range(len(all_messages)):\n",
    "    #accessing the list of words for message with index i\n",
    "    for j in range(len(all_messages[i][0])):\n",
    "        #adding word from position j to the all_words list\n",
    "        all_words.append(all_messages[i][0][j])\n",
    "        \n",
    "print(len(all_words))\n",
    "#this just shows you that we have a lot of duplicate words\n",
    "print(len(set(all_words)))\n",
    "\n",
    "words_freq = nltk.FreqDist(all_words)\n",
    "print(type(words_freq))\n",
    "print(words_freq.most_common(25))"
   ]
  },
  {
   "cell_type": "code",
   "execution_count": 19,
   "metadata": {
    "collapsed": false
   },
   "outputs": [],
   "source": [
    "#taking only the 3000 most common words of 9181 from the FreqDist\n",
    "top_3000_dict = dict(words_freq.most_common(3000)).keys()\n",
    "#we create a feature list that will identify patterns in spam vs ham\n",
    "word_features = list(top_3000_dict)"
   ]
  },
  {
   "cell_type": "code",
   "execution_count": 20,
   "metadata": {
    "collapsed": false
   },
   "outputs": [],
   "source": [
    "#based off of pythonprogramming tutorial code,\n",
    "#we create a function using dictionary comprehension\n",
    "#that will tell use which of these 3000 most common words\n",
    "#exist in each of the messages\n",
    "\n",
    "def find_features(document):\n",
    "    words = set(document)\n",
    "    return {w: (True if w in words else False) for w in word_features}\n",
    "    \n",
    "\n",
    "#original pythonprogramming tutorial code\n",
    "# def find_features(document):\n",
    "#     words = set(document)\n",
    "#     features = {}\n",
    "#     for w in word_features:\n",
    "#         features[w] = (w in words)\n",
    "#     return features"
   ]
  },
  {
   "cell_type": "code",
   "execution_count": 21,
   "metadata": {
    "collapsed": false
   },
   "outputs": [
    {
     "name": "stdout",
     "output_type": "stream",
     "text": [
      "({'.': True, ',': False, '?': False, '!': False, '...': False, '&': False, ';': False, ':': False, 'call': False, ')': False, \"'s\": False, '2': False, 'get': False, \"'m\": False, 'ur': False, \"n't\": False, 'gt': False, 'lt': False, 'go': True, \"''\": False, '#': False, 'free': False, 'know': False, '4': False, 'ok': False, 'got': False, 'come': False, 'like': False, 'wa': False, 'good': False, 'time': False, 'day': False, \"'ll\": False, '-': False, 'text': False, 'want': False, 'love': False, 'send': False, 'one': False, 'need': False, 'going': False, 'txt': False, 'today': False, 'r': True, 'home': False, 'sorry': False, 'see': False, 'lor': False, 'still': False, 'stop': False, 'back': False, 'c': False, 'mobile': False, 'n': False, 'take': False, 'think': False, 'reply': False, 'tell': False, 'da': False, 'phone': False, 'dont': False, 'ha': False, 'new': False, 'later': False, 'week': False, 'hi': False, 'please': False, 'make': False, 'night': False, 'ì_': False, 'say': False, '(': False, 'pls': False, 'claim': False, 'thing': False, 'much': True, 'great': False, 'well': False, 'oh': False, 'hope': False, 'dear': False, 'na': False, 'number': False, 'give': False, 'happy': False, 'hey': False, 'work': False, 'message': False, 'wat': False, 'way': False, 'friend': False, 'prize': False, 'right': False, 'wan': False, 'let': False, 'msg': False, \"'ve\": False, '1': False, \"'re\": False, 'already': False, 'tomorrow': False, 'ask': False, 'said': False, 'yeah': False, 'amp': False, 'really': False, 'yes': False, 'k': False, 'babe': False, 'min': False, 'meet': False, '3': False, 'co': False, 'would': False, 'e': False, 'im': False, 'last': False, 'life': False, 'service': False, 'win': False, 'miss': False, 'morning': False, 'year': False, 'thanks': False, 'lol': False, 'cash': False, 'tone': False, 'anything': False, 'find': False, 'every': False, 'feel': False, 'sure': False, 'pick': False, 'keep': False, 'also': False, 'contact': False, 'something': False, 'sent': False, 'nokia': False, 'care': False, 'urgent': False, 'could': False, 'buy': False, 'b': False, 'cant': False, 'guy': False, 'someone': False, 'place': False, 'next': False, 'wish': False, 'tonight': False, 'around': False, 'show': False, 'even': False, 'went': False, 'wait': False, 'first': False, 'ca': False, 'customer': False, 'gon': False, 'many': False, 'late': False, 'money': False, 'word': False, 'soon': False, 'nice': False, 'leave': False, 'ya': False, 'per': False, 'always': False, '\\\\': False, 'dun': False, 'chat': False, 'sleep': False, 'told': False, 'ìï': False, 'help': False, 'waiting': False, 'gud': False, 'name': False, 'minute': False, 'people': False, 'hour': False, 'haha': False, 'guaranteed': False, 'coming': False, 'thk': False, 'yet': False, 'girl': False, 'lot': False, 'getting': False, 'may': False, 'try': False, 'done': False, 'end': False, 'v': False, 'doe': False, 'fine': False, 'offer': False, 'class': False, 'talk': False, 'person': False, 'use': False, 'line': False, 'mean': False, 'lunch': False, 'best': False, 'thought': False, 'heart': True, 'stuff': False, 'man': False, 'x': False, 'finish': False, 'draw': False, 'car': False, 'live': False, 'start': False, 'bit': False, 'job': False, 'god': False, 'holiday': False, 'sm': False, 'yup': False, 'month': False, 'trying': False, 'special': False, 'meeting': False, 'plan': False, 'never': False, \"'\": False, 'hello': False, 'ill': False, '5': False, 'long': False, 'ready': False, '..': False, 'smile': False, 'mind': False, 'better': False, 'chance': False, 'account': False, 'dat': False, 'cool': False, 'weekend': False, 'latest': False, 'thats': False, 'problem': False, 'room': False, 'sir': False, 'guess': False, 'awarded': False, 'play': False, '*': False, 'yo': False, 'half': False, 'eat': False, 'cost': False, 'game': False, 'nothing': False, 'check': False, '1st': False, 'look': False, 'enjoy': False, 'another': False, 'lar': False, 'voucher': False, 'world': False, 'receive': False, 'house': False, 'real': False, 'landline': False, 'camera': False, 'big': False, 'birthday': False, 'boy': False, 'shit': False, 'ever': False, 'dinner': False, 'liao': False, 'å£1000': False, 'pic': False, 'box': False, 'luv': False, '@': False, 'jus': False, 'watching': False, '150ppm': False, 'watch': False, 'might': False, 'quite': False, 'probably': False, 'point': False, 'ah': False, 'sweet': False, 'rate': False, 'aight': False, 'baby': False, 'called': False, 'bed': False, 'fun': False, '6': False, 'speak': False, 'wont': False, 'remember': False, 'video': False, 'network': False, 'den': False, 'hear': False, 'orange': False, 'actually': False, 'po': False, 'princess': False, 'two': False, 'question': False, 'dunno': False, 'easy': False, 'part': False, 'worry': False, 'shopping': False, 'pay': False, 'sat': False, 'maybe': False, 'shall': False, 'apply': False, 'bad': False, 'early': False, 'reach': False, 'face': False, 'bus': False, 'didnt': False, 'put': False, 'fuck': False, 'dad': False, 'code': False, '>': False, 'dis': False, 'forgot': False, 'little': False, 'thanx': False, '2nd': False, 'leh': False, 'left': False, 'school': False, '+': False, 'enough': False, 'looking': False, 'ringtone': False, 'afternoon': False, 'award': False, 'working': False, 'made': False, 'mate': False, 'selected': False, 'everything': False, 'movie': False, 'hurt': False, 'thank': False, 'i.ll': False, 'evening': False, 'asked': False, 'without': False, 'collect': False, 'tv': False, 'anyway': False, 'town': False, '150p': False, 'join': False, \"'d\": False, 'wif': False, 'sexy': False, 'tmr': False, 'pound': False, 'since': False, 'came': False, 'hav': False, 'xmas': False, 'detail': False, 'must': False, 'sound': False, 'though': False, 'price': False, 'wake': False, 'wanted': False, 'xxx': False, 'mail': False, 'entry': False, 'okay': False, 'pa': False, 'run': False, 'important': False, 'gift': False, 'able': False, 'uk': False, 'collection': False, 'bring': False, 'abt': False, 'away': True, 'plz': True, 'stay': True, 'decimal': False, 'plus': False, 'juz': False, 'lesson': False, 'change': False, '16': False, 'book': False, 'wot': False, '7': False, 'dream': False, 'charge': False, 'wife': False, 'test': False, '16+': False, 'pain': False, 'mob': False, 'date': False, 'dude': False, 'answer': False, 'update': False, 'u.': False, 'weekly': False, '18': False, 'saw': False, 'yesterday': False, 'wo': False, 'else': False, '4*': False, 'wk': False, 'till': False, 'true': False, 'havent': False, 'bt': False, 'hair': False, 'attempt': False, 'de': False, 'office': False, 'valid': False, 'haf': False, 'online': False, 'music': False, 'top': False, 'oso': False, 'bored': False, 'colour': False, '$': False, 'trip': False, 'double': False, 'food': False, 'making': False, '500': False, 'missing': False, 'tried': False, 'delivery': False, 'sch': False, 'alright': False, 'til': False, 'hot': False, 'yr': False, 'wen': False, 'lei': False, 'goin': False, 'driving': False, 'either': False, 'å£100': False, 'ard': False, 'credit': False, 'missed': False, 'together': False, 'player': False, 'family': False, 'coz': False, 'address': False, 'sae': False, 'beautiful': False, 'story': False, 'tot': False, 'wid': False, 'nite': False, 'order': False, 'mom': False, '9': False, 'drink': False, 'lose': False, '8007': False, 'bonus': False, 'close': True, 'old': False, 'set': False, 'å£2000': False, 'head': False, 'full': False, 'eve': False, 'noe': False, 'huh': False, 'smoke': False, 'ring': False, 'id': False, 'happen': False, 'post': False, 'club': False, 'calling': False, 'feeling': False, 'believe': False, 'å£5000': False, 'await': False, 'sad': False, 'brother': False, 'si': False, 'saying': False, 'land': False, 'busy': False, 'tomo': False, 'took': False, 'shop': False, 'gr8': False, 'rite': False, 'walk': False, 'parent': False, 'second': False, 'drive': False, 'awesome': False, 'private': False, 'aft': False, 'drop': False, 'finished': False, 'smiling': False, 'å£500': False, 'leaving': False, 'congrats': False, '18+': False, 'mum': False, 'cause': False, 'match': False, 'http': False, 'email': False, '86688': False, 'caller': False, 'started': False, 'angry': False, '750': False, 'content': False, 'neva': False, 'news': False, 'statement': False, 'friendship': False, 'card': False, 'å£1.50': False, 'unsubscribe': False, 'final': False, 'company': False, 'taking': False, 'wil': False, 'pub': False, 'g': False, 'mine': False, 'thinking': False, 'gd': False, 'break': False, 'everyone': False, 'ta': False, 'okie': False, 'forget': False, 'ok.': False, '12hrs': False, 'fancy': False, 'auction': False, 'search': False, 'lucky': False, 'dating': False, 'reason': False, '100': False, 'expires': False, 'touch': False, 'valentine': False, 'choose': False, 'poly': False, 'open': False, 'sister': False, 'found': False, 'bank': False, '8': False, 'treat': False, 'knw': False, 'age': False, 'worth': False, 'anyone': False, 'sleeping': False, 'whatever': False, 'available': False, 'boytoy': False, 'pobox': False, 'alone': False, '08000930705': False, 'exam': False, 'hit': False, 'saturday': False, 'w': False, 'uncle': False, 'kind': False, 'winner': False, 'anytime': False, 'secret': False, 'hard': False, 'sun': False, 'type': False, 'kiss': False, 'party': False, 'identifier': False, 'tho': False, 'mobileupd8': False, 'college': False, 'carlos': False, 'ticket': False, 'gone': False, 'decided': False, 'far': False, 'congratulation': False, 'info': False, '10': False, 'drug': False, 'fucking': False, 'camcorder': False, 'happened': False, 'wit': False, 'wrong': False, '150p/msg': False, 'visit': False, 'lovely': False, '08000839402': False, 'project': False, 'operator': False, 'read': False, 'nope': False, 'hand': False, 'wonder': False, 'prob': False, 'friday': False, 'chennai': False, 'th': False, 'bout': False, 'pretty': False, 'hows': False, 'light': False, 'used': False, 'outside': False, 'frnd': False, 'finally': False, 'mu': False, 'fast': False, 'wonderful': False, 'b4': False, 'log': False, 'whats': False, 'fone': False, 'unlimited': False, 'snow': False, 'å£250': False, 'wkly': False, 'least': False, 'ten': False, 'freemsg': False, 'sea': False, 'fri': False, 'course': False, 'welcome': False, 'oredi': False, 'jay': False, 'hold': False, 'xx': False, 'cd': False, 'telling': False, '\\x89û_': False, 'seeing': False, 'hungry': False, 'meant': False, 'cum': False, 'nt': False, 'term': False, 'whole': False, 'case': False, 'quiz': False, 'listen': False, '10p': False, 'darlin': False, 'smth': False, 'gal': False, 'crazy': False, 'press': False, 'download': False, 'march': False, 'blue': False, 'lost': False, '||': False, 'film': False, 'side': False, 'opt': False, 'song': False, 'invited': False, 'pm': False, 'rock': False, 'ltd': False, 'enter': False, '2003': False, '800': False, 'couple': False, 'paper': False, 'motorola': False, 'within': False, 'sex': False, 'hmm': False, 'goodmorning': False, '87066': False, 'area': False, 'support': False, 'txts': False, 'cut': False, 'yar': False, 'dnt': False, 'christmas': False, 'gas': False, 'reading': False, 'le': False, '0800': False, 'felt': False, 'tel': False, 'bslvyl': False, 'valued': False, 'fr': False, 'almost': False, 'talking': False, 'single': False, 'earlier': False, 'mayb': False, 'savamob': False, 'father': False, 'currently': False, 'move': False, 'moment': False, 'etc': False, 'å£350': False, 'swing': False, 'photo': False, 'semester': False, 'shower': False, 'seen': False, 'sell': False, 'park': False, 'darren': False, 'mah': False, 'kiss*': False, '*grins*': False, 'national': False, 'supposed': False, 'load': False, 'un-redeemed': False, 'hospital': False, 'return': False, 'figure': False, 'rental': False, 'mrng': False, 'tc': False, 'store': False, 'direct': False, 'ugh': False, 'gym': False, 'st': False, 'picking': False, 'correct': False, 'sort': False, 'promise': False, 'ni8': False, 'bill': False, 'sending': False, 'eye': False, 'surprise': False, 'pas': False, 'die': False, 'luck': False, 'eh': False, 'complimentary': False, 'chikku': False, 'lady': False, 'laptop': False, 'ipod': False, 'happiness': False, 'hee': False, 'john': False, 'charged': False, 'tired': False, 'knew': False, 'extra': False, 'computer': False, 'ago': False, 'information': False, 'orchard': False, 'request': False, 'via': False, '=': False, 'slow': False, 'whenever': False, 'road': False, 'confirm': False, 'crave': False, 'rply': False, 'link': False, 'fantasy': False, 'fact': False, 'comp': False, 'idea': False, 'slowly': False, 'clean': False, 'truth': False, 'rest': False, 'wana': False, 'india': False, 'mr': False, 'save': False, 'kate': False, 'dogging': False, 'bcoz': False, 'bath': False, 'heard': False, 'wow': False, 'hr': False, 'safe': False, 'me..': False, 'it..': False, 'checking': False, 'loved': False, 'loan': False, 'wine': False, 'lover': False, 'kid': False, 'entered': False, 'askd': False, 'joy': False, 'train': False, 'discount': False, 'eg': False, 'loving': False, 'muz': False, 'sub': False, 'study': False, 'abiola': False, 'å£2,000': False, 'small': False, 'somebody': False, 'door': False, 'frm': False, 'asking': False, 'comin': False, 'police': False, 'joke': False, 'txting': False, 'callertune': False, 'copy': False, 'woke': False, 'understand': False, 'mm': False, 'usf': False, 'different': False, 'leaf': False, 'del': False, 'oops': False, 'men': False, 'booked': False, 'short': False, 'catch': False, 'hmmm': False, 'gettin': False, 'em': False, 'admirer': False, 'spend': False, '/': False, 'monday': False, 'member': False, 'deal': False, 'met': False, 'ex': False, 'ntt': False, '10p/min': False, 'across': False, 's.': False, 'reached': False, 'bathe': False, 'england': False, 'asap': False, 'poor': False, 'voice': False, 'cheap': False, '%': False, 'fantastic': False, 'situation': False, 'kick': False, 'wap': False, 'merry': False, 'glad': False, 'remove': False, 'somewhere': False, 'difficult': False, 'warm': False, 'hoping': False, \"b'day\": False, 'opinion': False, 'summer': False, 'teach': False, 'she.s': False, 'rent': False, 'doin': False, 'stupid': False, 'yep': False, 'child': False, 'med': False, 'ldn': False, 'wishing': False, 'write': False, 'page': False, 'nah': False, 'red': False, 'empty': False, 'immediately': False, 'otherwise': False, 'worried': False, 'gave': False, 'reward': False, 'hmv': False, 'gap': False, 'representative': False, '1000': False, 'ho': False, 'near': False, 'k.': False, 'doesnt': False, 'kinda': False, 'xy': False, 'lect': False, '150': False, 'frnds': False, 'meh': False, 'mode': False, 'fall': False, 'reaching': False, 'using': False, 'il': False, 'pete': False, 'gay': False, 'forwarded': False, 'nobody': False, 'i.': False, 'm.': False, 'buying': False, 'flag': False, 'lazy': False, 'cake': False, 'normal': False, 'access': False, 'hotel': False, 'thinkin': False, 'decide': False, 'style': False, 'sport': False, 'å£200': False, 'trust': False, 'å£800': False, 'mistake': False, 'cover': False, 'flight': False, 'sitting': False, 'laugh': False, 'forever': False, 'colleague': False, 'bos': False, '2nite': False, 'completely': False, 'rose': False, 'tht': False, 'moral': False, 'lovable': False, 'silent': False, 'password': False, 'studying': False, 'seems': False, 'sunshine': False, 'sony': False, 'ending': False, 'hiya': False, 'result': False, 'specially': False, 'rain': False, 'bb': False, 'sale': False, 'turn': False, 'disturb': False, 'starting': False, 'tampa': False, 'urself': False, '--': False, 'www.getzed.co.uk': False, 'especially': False, 'staying': False, 'accept': False, 'mrt': False, 'street': False, 'std': False, 'add': False, '\\x89ûò': False, 'sick': False, 'wondering': False, 'convey': False, 'å£150': False, 'user': False, 'unless': False, 'water': False, 'possible': False, 'doctor': False, 'round': False, 'excuse': False, 'brings': False, 'charity': False, 'bluetooth': False, 'ive': False, 'bid': False, '3030': False, 'hg/suite342/2lands': False, 'nigeria': False, 'sp': False, 'omg': False, 'honey': False, 'moon': False, 'pray': False, 'tonite': False, 'custcare': False, 'picked': False, 'weed': False, 'planning': False, 'apartment': False, 'mo': False, 'weight': False, 'yahoo': False, 'cancel': False, 'cinema': False, '08712460324': False, 'present': False, 'self': False, 'cute': False, 'digital': False, 'frens': False, 'file': False, 'roommate': False, 'stand': False, 'longer': False, 'registered': False, '12': False, 'din': False, 'complete': False, 'mon': False, 'library': False, 'daddy': False, 'cheer': False, 'tear': False, 'tuesday': False, 'bak': False, 'inc': False, 'p': False, 'bedroom': False, 'mood': False, 'simple': False, 'dead': False, 'sign': False, 'list': False, 'dvd': False, 'letter': False, 'woman': False, 'spent': False, 'dog': False, 'alex': False, 'giving': False, 'u-find': False, 'r*reveal': False, 'special-call': False, '50': False, 'future': False, 'noon': False, '4u': False, 'aha': False, 'cup': False, 'slave': False, 'workin': False, 'fill': False, 'al': False, 'fat': False, 'slept': False, 'others': False, '11': False, 'entitled': False, 'love..': False, 'pc': False, 'excellent': False, 'bag': False, 'simple..': False, 'wednesday': False, 'facebook': False, 'record': False, 'reference': False, 'u..': False, 'awaiting': False, 'bt-national-rate': False, 'picture': False, 'trouble': False, 'medical': False, 'space': False, 'replying': False, 'paying': False, 'ice': False, 'mark': False, 'freephone': False, 'however': False, 'student': False, 'fixed': False, 'ave': False, 'goodnight': False, '25p': False, 'goto': False, 'deep': False, 'no1': False, 'fault': False, 'wiv': False, 'none': False, 'nyt': False, '87077': False, '2004': False, 'quick': False, 'pizza': False, 'lem': False, 'south': False, 'anymore': False, 'training': False, 'indian': False, '2day': False, 'battery': False, 'umma': False, 'system': False, 'paid': False, 'arrive': False, 'kb': False, 'spree': False, 'usual': False, 'issue': False, 'omw': False, 'doc': False, 'vl': False, 'awake': False, 'eatin': False, 'buzz': False, 'insurance': False, 'inside': False, '20p': False, '1327': False, 'croydon': False, 'cr9': False, '5wb': False, 'miracle': False, 'recently': False, 'rather': False, 'ar': False, 'sim': False, 'yijue': False, 'thnk': False, 'cine': False, 'cal': False, 'notice': False, 'tenerife': False, 'cuz': False, 'planned': False, 'age16': False, 'experience': False, 'wun': False, 'shuhui': False, 'instead': False, 'dollar': False, 'worse': False, 'funny': False, 'costa': False, 'sol': False, 'sk38xh': False, 'station': False, 'bother': False, '\\\\i': False, 'tough': False, '\\\\hey': False, 'country': False, 'hop': False, 'following': False, '3g': False, 'buck': False, 'j': False, 'forward': False, 'naked': False, 'location': False, 'character': False, 'coffee': False, 'sec': False, 'high': False, 'kept': False, 'lift': False, 'cell': False, 'mid': False, 'midnight': False, 'kallis': False, 'meaning': False, 'pix': False, 'shirt': False, 'sometimes': False, 'changed': False, 'shd': False, 'weather': False, 'horny': False, 'appreciate': False, 'menu': False, 'onto': False, 'la': False, 'heavy': False, 'connection': False, 'depends': False, 'quality': False, 'hw': False, 'malaria': False, 'rcvd': False, 'towards': False, 'net': False, '20': False, 'sense': False, 'mp3': False, 'holding': False, 'regard': False, 'polys': False, '85023': False, 'å£3.00': False, 'click': False, 'bird': False, 'waste': False, 'dear..': False, 'loyalty': False, 'murderer': False, 'murdered': False, 'including': False, 'yest': False, 'eating': False, 'pleasure': False, 'black': False, 'bugis': False, 'share': False, 'yoga': False, 'imagine': False, 'flower': False, 'f': False, 'holla': False, 'learn': False, 'sit': False, 'happens': False, 'marriage': False, 'showing': False, '36504': False, 'role': False, 'key': False, 'hell': False, 'hai': False, 'happening': False, 'imma': False, 'izzit': False, 'darling': False, 'ge': False, 'past': False, 'lmao': False, 'bold': False, 'torch': False, 'cash-balance': False, 'maximize': False, 'cash-in': False, 'liked': False, 'ahead': False, 'sky': False, 'å£900': False, 'suck': False, 'hurry': False, 'ad': False, 'thru': False, 'interested': False, 'flirt': False, 'blood': False, 'king': False, 'dint': False, 'fullonsms.com': False, 'brand': False, '86021': False, 'fyi': False, 'except': False, 'ended': False, 'sunny': False, 'fetch': False, 'guide': False, 'tea': False, 'handset': False, '|': False, 'five': False, 'choice': False, 'loverboy': False, 'fix': False, 'ahmad': False, 'begin': False, 'model': False, 'raining': False, 'gee': False, 'serious': False, 'theatre': False, 'joined': False, '08707509020': False, '0870': False, 'replied': False, 'local': False, '<': False, 'aiyah': False, 'lead': False, 'contract': False, 'lor..': False, '8th': False, 'sipix': False, 'official': False, 'sunday': False, 'wherever': False, 'exciting': False, 'damn': False, 'barely': False, 'pilate': False, 'howz': False, 'askin': False, 'group': False, 'exactly': False, 'report': False, 'num': False, 'directly': False, 'don\\x89û÷t': False, '09050090044': False, 'toclaim': False, 'pobox334': False, 'stockport': False, 'costå£1.50/pm': False, 'max10mins': False, '4th': False, 'nature': False, 'review': False, 'tncs': False, 'argument': False, 'personal': False, 'checked': False, 'wnt': False, 'surely': False, 'died': False, 'evng': False, 'walking': False, 'mother': False, 'straight': False, 'activate': False, '150pm': False, 'sup': False, 'sed': False, 'internet': False, 'matter': False, 'keeping': False, 'simply': False, 'anybody': False, 'q': False, 'isnt': False, 'feb': False, 'married': False, 'pin': False, '08712300220': False, 'standard': False, 'app': False, 'naughty': False, 'amazing': False, 'added': False, 'due': False, 'become': False, 'putting': False, 'balance': False, 'usually': False, 'partner': False, 'decision': False, 'willing': False, 'closed': False, 'inch': False, 'tick': False, 'title': False, 'tour': False, 'hate': False, 'arrange': False, 'cold': False, 'relax': False, 'spoke': False, '40gb': False, 'announcement': False, 'pobox84': False, 'envelope': False, 'ttyl': False, 'earth': False, 'tyler': False, 'receipt': False, 'track': False, 'pussy': False, 'fight': False, 'texting': False, 'vry': False, 'nxt': False, 'cancer': False, 'arcade': False, 'setting': False, 'running': False, 'txtauction': False, 'fb': False, 'ate': False, 'kerala': False, 'holder': False, 'daily': False, 'power': False, 'tariff': False, 'wer': False, 'aftr': False, 'dey': False, 'hl': False, 'wats': False, 'murder': False, 'vary': False, 'campus': False, 'condition': False, 'inviting': False, '62468': False, 'w45wq': False, 'norm150p/tone': False, 'moan': False, 'air': False, 'scream': False, 'adult': False, 'ish': False, 'lookin': False, 'super': False, 'zed': False, 'created': False, 'definitely': False, 'plenty': False, 'cc': False, 'joking': False, 'team': False, 'pleased': False, 'timing': False, 'aiyo': False, 'expensive': False, 'posted': False, 'logo': False, 'egg': False, 'wed': False, 'armand': False, 'london': False, 'coin': False, 'version': False, 'yay': False, 'vodafone': False, 'budget': False, '//www.urawinner.com': False, 'behind': False, 'arm': False, 'marry': False, 'cry': False, 'surfing': False, 'appointment': False, 'playing': False, '*9': False, 'geeee': False, 'sura': False, 'expecting': False, 'rem': False, 'i\\x89û÷m': False, 'hill': False, 'ray': False, 'yun': False, 'sen': False, 'advice': False, 'day\\\\': False, 'cartoon': False, 'listening': False, \"did't\": False, 'tt': False, 'thatåõs': False, 'alrite': False, 'donåõt': False, '1x150p/wk': False, 'bun': False, 'tat': False, 'contacted': False, 'pobox36504w45wq': False, 'urgnt': False, 'asleep': False, 'acc': False, 'bowl': False, 'vomit': False, 'law': False, 'original': False, 'hostel': False, 'selection': False, 'searching': False, 'site': False, 'deliver': False, '28': False, 'optout': False, 'eng': False, 'wet': False, 'ran': False, 'ok..': False, 'iam': False, 'yogasana': False, 'meal': False, 'strong': False, 'whether': False, 'obviously': False, 'intro': False, 'vikky': False, 'english': False, 'stopped': False, 'mths': False, '300': False, '3rd': False, 'alert': False, 'website': False, 'themob': False, 'everybody': False, 'flat': False, '3510i': False, 'competition': False, 'interview': False, 'informed': False, 'jazz': False, 'waking': False, 'videophones': False, 'videochat': False, 'java': False, 'dload': False, 'noline': False, 'rentl': False, 'ip4': False, '5we': False, 'throw': False, 'ride': False, 'boo': False, 'hook': False, \"did'nt\": False, 'cabin': False, \"''ok\": False, 'minuts': False, 'latr': False, 'stylish': False, 'season': False, 'google': False, 'asks': False, 'ignore': False, 'bitch': False, 'broke': False, 'voda': False, 'quoting': False, 'sofa': False, 'bought': False, 'lie': False, 'o2': False, 'city': False, '25': False, 'jordan': False, 'bf': False, 'beer': False, '[': False, ']': False, 'arrested': False, 'cbe': False, 'selling': False, 'social': False, 'island': False, 'scared': False, 'å£10,000': False, 'star': False, 'basically': False, 'ru': False, 'italian': False, 'fren': False, 'eerie': False, 'uni': False, 'horrible': False, 'step': False, '530': False, 'pongal': False, 'note': False, 'hopefully': False, 'finger': False, 'unable': False, 'current': False, 'unsub': False, 'purchase': False, 'realy': False, 'living': False, 'lick': False, 'score': False, 'transaction': False, 'hv': False, 'amt': False, 'nvm': False, 'wear': False, 'body': False, 'bye': False, 'sam': False, 'april': False, 'discus': False, 'å£10': False, 'energy': False, 'fool': False, 'travel': False, 'dropped': False, 'pissed': False, 'remind': False, 'stock': False, 'yan': False, 'jiu': False, 'euro2004': False, 'l8r': False, 'subscriber': False, '80062': False, 'polyphonic': False, '150p/tone': False, 'cheaper': False, 'brilliant': False, 'aint': False, 'december': False, '11mths+': False, 'common': False, 'xchat': False, 'affection': False, 'piece': False, 'www.comuk.net': False, 'nw': False, 'random': False, 'btw': False, 'totally': False, 'pa.': False, 'village': False, 'bin': False, 'green': False, 'derek': False, 'revealed': False, '\\\\hi': False, 'quote': False, 'å£400': False, 'boring': False, 'subscription': False, '2mrw': False, 'pple': False, 'affair': False, 'clock': False, 'airport': False, 'cafe': False, '*sighs*': False, 'looked': False, 'amount': False, 'centre': False, 'chinese': False, 'thursday': False, '08718720201': False, 'spook': False, 'gentle': False, 'respond': False, 'art': False, 'ringtones': False, 'thurs': False, 'lik': False, 'hug': False, 'laid': False, 'fighting': False, 'rd': False, 'row': False, 'blessing': False, 'somethin': False, 'vote': False, 'pack': False, 'seriously': False, 'ym': False, 'sonyericsson': False, 'linerental': False, 'belly': False, 'inclusive': False, 'weak': False, 'white': False, 'boston': False, 'ti': False, 'friends..': False, 'some1': False, 'sing': False, 'bet': False, 'hella': False, 'ai': False, 'bloody': False, 'connect': False, 'football': False, 'loss': False, 'abi': False, 'missing*': False, 'row/w1j6hl': False, 'inform': False, 'blackberry': False, 'package': False, 'bay': False, 'legal': False, 'tuition': False, 'temple': False, 'wearing': False, 'shortly': False, 'queen': False, 'ache': False, 'hun': False, 'series': False, '08715705022': False, 'vijay': False, 'assume': False, 'reveal': False, 'recd': False, 'cust': False, 'celebrate': False, '11mths': False, 'freefone': False, 'sha': False, 'profit': False, 'careful': False, 'thts': False, 'credited': False, '*loving': False, 'qatar': False, 'netcollex': False, 'bear': False, 'dare': False, '*kiss*': False, 'blood.send': False, 'oru': False, 'expect': False, '60p/min': False, 'roger': False, 'www.ringtones.co.uk': False, '3gbp': False, 'brought': False, '2optout': False, 'k.k': False, '09061221066': False, 'fromm': False, 'yer': False, '84199': False, 'box39822': False, 'w111wx': False, 'explain': False, 'dry': False, '5000': False, 'cw25wx': False, 'attend': False, 'activity': False, 'lion': False, 'happend': False, 'porn': False, '50p': False, 'bloke': False, 'befor': False, 'fifteen': False, 'fever': False, 'biggest': False, 'technical': False, 'radio': False, 'wud': False, 'shoot': False, 'leg': False, 'accidentally': False, 'deleted': False, 'seemed': False, '7th': False, '6th': False, '5th': False, 'personality': False, '\\\\ur': False, 'friendship\\\\': False, 'outta': False, 'theory': False, 'argue': False, 'aiya': False, 'sore': False, 'window': False, 'iq': False, 'rule': False, 'cleaning': False, 'process': False, 'moji': False, 'saved': False, 'purity': False, 'message..its': False, 'spk': False, 'lecture': False, 'faster': False, 'hip': False, 'passed': False, 'exact': False, 'talent': False, 'bday': False, 'purpose': False, 'tenant': False, 'refused': False, \"'help\": False, 'bx420': False, 'idk': False, 'intelligent': False, 'teacher': False, 'kidz': False, 'screaming..': False, 'sofa..': False, 'jada': False, 'kusruthi': False, 'spl': False, 'matured': False, 'reply..': False, 'wall': False, 'fml': False, '-p': False, 'released': False, 'mono': False, 'allah': False, 'losing': False, 'handle': False, 'hanging': False, 'sight': False, 'remain': False, 'bathing': False, 'gram': False, 'played': False, 'ansr': False, '82277.': False, 'tyrone': False, 'upto': False, 'dirty': False, 'å£3/wk': False, 'master': False, 'receiving': False, 'height': False, 'spending': False, 'total': False, 'solve': False, '7250i': False, 'row/w1jhl': False, 'ibiza': False, 'center': False, 'career': False, 'followed': False, 'action': False, 'apparently': False, 'spoken': False, 'grand': False, 'pie': False, 'kano': False, 'sugar': False, 'anyways': False, 'er': False, 'taunton': False, 'embarassed': False, 'gravity..': False, 'carefully': False, '\\\\our': False, 'it..\\\\': False, 'cat': False, 'belovd': False, 'enemy': False, 'cross': False, 'www.ldew.com1win150ppmx3age16': False, 'fa': False, 'tkts': False, '87121': False, 'lonely': False, '83600': False, 'takin': False, 'wah': False, 'mummy': False, 'v.': False, '83355': False, 'teeth': False, 'favour': False, 'dem': False, 'm263uz': False, 'advance..': False, 'hols': False, 'santa': False, '3mins': False, 'cam': False, 'laughing': False, 'aiyar': False, '87131': False, 'escape': False, 'module': False, 'oni': False, 'ntwk': False, '08001950382': False, 'pig': False, 'easier': False, 'source': False, 'day..': False, 'rush': False, 'vip': False, 'regret': False, 'ac': False, '4t': False, 'house-maid': False, 'january..': False, 'public': False, 'govt.instituitions': False, 'me.i': False, 'aunt': False, '-d': False, 'becoz': False, 'bahamas': False, 'seem': False, 'gorgeous': False, 'prepare': False, 'cud': False, 'quit': False, 'relation': False, 'iz': False, '542': False, 'jst': False, 'meetin': False, 'received': False, 'texted': False, 'truly': False, 'hunny': False, 'ure': False, 'mmm': False, 'confidence': False, '87575': False, 'txtin': False, '4info': False, 'ron': False, 'smile*': False, '87239': False, 'rude': False, '8552': False, 'forum': False, 'wc1n3xx': False, 'ppm': False, '\\\\a': False, 'cooking': False, 'basic': False, 'msg*': False, 'wkend': False, '08002986906': False, 'understanding': False, '150p/msgrcvdhg/suite342/2lands/row/w1j6hl': False, 'bcums': False, 'seriously..': False, 'childish': False, 'kettoda': False, 'manda': False, 'brain': False, 'opt-out': False, 'tm': False, '*smiles*': False, 'penny': False, '85': False, 'mite': False, 'bringing': False, 'login=': False, '3qxj9': False, '9ae': False, 'lab': False, 'pod': False, 'raise': False, 'appt': False, 'shame': False, 'wtf': False, 'cream': False, 'perfect': False, 'energy\\\\': False, 'machan': False, 'february': False, '250': False, 'practice': False, 'k..k': False, 'along': False, 'afraid': False, 'meanwhile': False, 'jess': False, 'infernal': False, 'today..': False, 'å£3': False, 'url': False, 'bud': False, 'dictionary': False, 'gently': False, 'three': False, 'bishan': False, 'settled': False, 'def': False, '786': False, 'unredeemed': False, 'sheet': False, 'preferably': False, 'throat': False, 'sooner': False, 'considering': False, 'surprised': False, '150p/min': False, '02/06/03': False, 'weird': False, 'ordered': False, 'ppl': False, 'bite': False, 'six': False, 'yes..': False, '4get': False, '0808': False, '145': False, '4742': False, '9am-11pm': False, '10am-7pm': False, '6hrs': False, '\\\\what': False, 'delivered': False, 'wanting': False, 'leona': False, 'å£4.50': False, 'effect': False, 'tablet': False, 'largest': False, 'ec2a': False, 'enjoyed': False, '3d': False, 'supply': False, 'drivin': False, 'tb': False, 'diet': False, 'twice': False, 'often': False, 'aunty': False, 'blank': False, 'essential': False, 'bright': False, 'answering': False, 'grl': False, '=d': False, 'mad': False, '_': False, 'rally': False, 'oz': False, 'suite': False, 'freak': False, '1/2': False, 'unique': False, 'moby': False, 'skype': False, 'i\\x89û÷ll': False, 'yetunde': False, 'waitin': False, 'atlanta': False, '08712405020': False, 'goal': False, 'research': False, 'nyc': False, 'urn': False, 'addicted': False, 'mumtaz': False, 'yuo': False, 'tihs': False, 'atm': False, 'register': False, 'sleeping..and': False, 'fathima': False, '09061790121': False, 'sender': False, 'count': False, 'push': False, 'burn': False, 'vava': False, 'aah': False, 'plane': False, 'program': False, 'wedding': False, 'boye': False, 'cuddle': False, 'soup': False, 'church..': False, 'fell': False, 'table': False, 'eight': False, '80878': False, 'yummy': False, 'lip': False, 'alcohol': False, 'mile': False, 'jealous': False, '88600': False, 'closer': False, 'speed': False, '1.50': False, 'valuable': False, 'ne': False, 'roast': False, '2stoptxt': False, 'messenger': False, 'k52': False, 'event': False, 'cock': False, 'diamond': False, 'remembered': False, 'female': False, 'tom': False, 'dick': False, 'upload': False, \"'melle\": False, 'melle': False, 'minnaminunginte': False, 'nurungu': False, 'vettam': False, 'nat': False, 'bloo': False, 'morn': False, 'captain': False, 'pop': False, 'di': False, 'repair': False, 'finishing': False, 'ranjith': False, '5min': False, 'dave': False, 'karaoke': False, 'ummmmmaah': False, 'heart..': False, '80082': False, 'eaten': False, 'cardiff': False, 'jan': False, 'message..no': False, 'responce..what': False, 'hardcore': False, 'iscoming': False, 'apologise': False, 'l': False, 'romantic': False, 'american': False, '121': False, 'ok.ok': False, 'ok..then..whats': False, '21st': False, 'oic': False, 'tog': False, 'challenge': False, 'mi': False, '***********': False, 'symbol': False, 'loses': False, 'just..': False, 'newest': False, 'gossip': False, 'fit': False, 'failed': False, 'painful': False, 'headache': False, 'math': False, 'deliveredtomorrow': False, 'fear': False, 'software': False, 'foreign': False, 'stamp': False, 'avatar': False, 'transfered': False, '9ja': False, 'msg..': False, 'jane': False, 'apps': False, 'booking': False, 'å£75,000': False, 'homeowner': False, 'previously': False, '1956669': False, 'returned': False, 'paris': False, 'tirupur': False, 'elsewhere': False, 'prabha..i': False, 'soryda..realy..frm': False, 'sory': False, 'booty': False, 'claire': False, 'havin': False, 'various': False, 'dark': False, 'stone': False, 'thm': False, 'in2': False, '2morow': False, 'death': False, 'flash': False, 'madam': False, 'hide': False, 'distance': False, 'spell': False, 'collected': False, 'verify': False, 'boat': False, 'july': False, 'regarding': False, 'bigger': False, 'evn': False, 'confirmed': False, 'concert': False, 'sometime': False, 'sight..': False, 'maintain': False, 'ends..': False, 'mac': False, 'liverpool': False, 'california': False, 'min..': False, 'giv': False, 'lounge': False, 'celeb': False, 'pocketbabe.co.uk': False, 'floor': False, 'nichols': False, 'middle': False, 'voicemail': False, 'doggy': False, 'fave': False, 'position': False, 'opening': False, 'anti': False, 'medicine': False, 'xxx.\\\\': False, 'prospect': False, 'teasing': False, 'reality': False, '434': False, 'sk3': False, '8wp': False, 'wylie': False, 'brothas': False, 'chasing': False, 'previous': False, 'g.': False, 'proof': False, 'hubby': False, 'magical': False, 'exhausted': False, '*pouts*': False, '*stomps': False, 'feet*': False, 'drunk': False, 'shorter': False, 'dress': False, 'billed': False, 'butt': False, 'fan': False, 'philosophy': False, 'popped': False, '18+only': False, 'that\\x89û÷s': False, 'å£1450': False, 'cs/stop': False, 'dot': False, 'violence': False, 'day..u': False, 'dear1': False, 'best1': False, 'clos1': False, 'lvblefrnd': False, 'jstfrnd': False, 'cutefrnd': False, 'lifpartnr': False, 'swtheart': False, 'bstfrnd': False, '2005': False, 'temp': False, 'maxå£7': False, 'lifetime': False, 'hg/suite342/2lands/row/w1j6hl': False, 'transfer': False, 'maneesha': False, 'satisfied': False, 'toll': False, 'ibhltd': False, 'ldnw15h': False, 'usual..iam': False, 'well..': False, 'raji..pls': False, 'nimya': False, 'dearer': False, 't-mobile': False, '0845': False, '\\\\x\\\\': False, '30': False, 'haiz': False, 'include': False, 'follow': False, 'instruction': False, 'membership': False, 'iouri': False, 'rakhesh': False, 'winning': False, 'comedy': False, 'ikea': False, 'audition': False, 'journey': False, 'downloads': False, 'jesus': False, 'salary': False, 'bmw': False, 'urgently..its': False, 'urgent.but': False, 'shortage': False, 'lacs.there': False, 'arng': False, 'lacs..thats': False, '4.50': False, 'calicut': False, 'nan': False, 'yor': False, 'invite': False, '0': False, 'xuhui': False, 'we\\x89û÷re': False, 'rang': False, 'morphine': False, '\\\\be': False, 'foot': False, 'realize': False, 'gang': False, 'buff': False, 'skip': False, 'pull': False, 'forevr': False, 'gudnite': False, 'office..understand': False, 'se': False, 'shut': False, 'spare': False, 'wise': False, 'sum1': False, 'chicken': False, 'upgrade': False, 'garage': False, 'university': False, 'cruise': False, 'farm': False, 'supervisor': False, '83222': False, '\\\\its': False, 'remains': False, 'cha': False, 'åð': False, 'lil': False, 'x\\\\': False, '84025': False, 'understood': False, 'knowing': False, '08717898035.': False, 'james': False, 'stupid.its': False, 'ear': False, 'blow': False, 'suggest': False, '2u': False, 'smoking': False, 'greeting': False, 'u4': False, 'accident': False, 'possession': False, 'bottom': False, 'clear': False, 'buzy': False, '88066': False, 'shld': False, 'wife.how': False, '09063458130': False, 'polyph': False, 'cn': False, 'seven': False, 'caught': False, 'swimming': False, 'frnds..': False, 'alwys': False, 'speechless': False, 'questioned': False, '4.cook': False, '5.gardener': False, 'vegetable': False, '6.house-maid': False, '7.children': False, '8.neighbour': False, 'postcode': False, 'honeybee': False, '*i': False, 'sweetest': False, 'world*': False, 'laughed': False, '*wait': False, 'havnt': False, 'crack': False, 'gm+gn+ge+gn': False, 'box95qu': False, '18yrs': False, 'fee': False, 'arsenal': False, 'toa': False, 'payoh': False, 'tscs': False, 'hahaha..use': False, 'option': False, 'flaked': False, 'germany': False, 'husband': False, 'display': False, 'welp': False, 'pg': False, 'suntec': False, 'rofl': False, 'force': False, 'warner': False, '\\\\oh': False, '08702840625.comuk': False, '220-cm2': False, 'vodka': False, 'oreo': False, '80182': False, '08452810073': False, 'behave': False, '89555': False, 'textoperator': False, 'railway': False, 'monkey': False, 'certainly': False, 'k.i': False, 'unsold': False, 'wn': False, 'instantly': False, 'shouted': False, 'drinking': False, 'boost': False, 'carry': False, 'stress': False, 'gona': False, 'map': False, 'taylor': False, 'missin': False, 'guilty': False, 'standing': False, '2morrow': False, 'express': False, 'na-tuition..': False, 'chart': False, 'lousy': False, 'jason': False, 'cleared': False, 'footprint': False, 'stomach': False, 'gentleman': False, 'dignity': False, 'respect': False, 'sept': False, 'xavier': False, 'randomly': False, 'pink': False, 'parked': False, 'slice': False, 'valid12hrs': False, 'sn': False, 'kadeem': False, 'handed': False, 'celebration': False, 'seat': False, '2moro': False, 'kill': False, 'tape': False, 'genuine': False, 'www.100percent-real.com': False, 'bat': False, 'inning': False, 'fish': False, 'fingers..': False, \"'til\": False, 'thanksgiving': False, 'subpoly': False, 'sorting': False, '88039': False, 'skilgme': False, 'tomarrow': False, 'esplanade': False, 'likely': False, 'prolly': False, 'onwards': False, 'macho': False, 'screen': False, 'hand..': False, 'interesting..': False, 'fair': False, 'calls..messages..missed': False, '10k': False, 'smart': False, 'm26': False, '3uz': False, 'quickly': False, 'settle': False, 'u': False, '45239': False, 'bar': False, 'ptbo': False, 'sentence': False, 'anythin': False, 'alfie': False, 'm8s': False, 'nokias': False, '08701417012': False, 'responsibility': False, 'potential': False, 'among': False, 'home..': False, 'dubsack': False, 'thangam': False, 'chosen': False, '6months': False, 'it\\x89û÷s': False, 'ic': False, 'advise': False, 'recent': False, 'å£1500': False, 'addie': False, 'aathi..where': False, 'wale': False, 'scotland': False, 'diff': False, 'box97n7qp': False, '4mths': False, 'mobilesdirect': False, '08000938767': False, 'or2stoptxt': False, 'monthly': False, 'terrible': False, 'concentrate': False, 'prefer': False, 'norm': False, '114/14': False, 'tcr/w1': False, 'june': False, 'male': False, 'snake': False, 'citizen': False, 'tease': False, 'prey': False, 'halloween': False, 'itz': False, '200': False, 'storming': False, 'phne': False, '\\\\hello\\\\': False, 'wt': False, 'girl..': False, 'margaret': False, 'hello\\\\': False, 'girlfrnd': False, 'grahmbell': False, 'invnted': False, 'telphone': False, 'slipper': False, 'chill': False, 'major': False, 'community': False, 'now..': False, 'lay': False, '*teasing': False, 'august': False, 'beauty': False, 'impossible': False, 'upset': False, 'constantly': False, 'strike': False, 'adore': False, 'generally': False, 'reminder': False, 'management': False, 'spring': False, 'virgin': False, 'dresser': False, 'china': False, 'dearly': False, '09066612661': False, 'stranger': False, 'successfully': False, 'normally': False, 'regular': False, 'beware': False, 'responding': False, 'ben': False, 'needed': False, 'business': False, 'building': False, 'callin': False, 'burger': False, 'euro': False, 'helen': False, 'today-sunday..sunday': False, 'holiday..so': False, 'work..': False, 'greet': False, 'tessy..pls': False, 'favor': False, 'nimya..pls': False, 'shijas': False, 'sh': False, 'arun': False, 'error': False, 'form': False, 'executive': False, 's.i.m': False, 'shelf': False, 'jamster': False, 'gim': False, 'walmart': False, '80488': False, 'hint': False, 'passionate': False, 'taken': False, 'exe': False, 'bell': False, 'ubi': False, 'login': False, 'market': False, 'auto': False, 'successful': False, 'blame': False, 'da..': False, 'provided': False, '87021': False, 'chain': False, '07xxxxxxxxx': False, '09066362231': False, 'fuckin': False, 'fran': False, 'knackered': False, 'str': False, 'tree': False, 'scary': False, 'mall': False, 'erm': False, 'abta': False, 'spanish': False, 'caring': False, 'payment': False, 'office..': False, 'freezing': False, 'xxx\\\\': False, 'value': False, 'realized': False, 'born': False, 'nearly': False, 'mmmm': False, 'wind': False, 'collecting': False, 'touched': False, 'chatting': False, 'tsunami': False, 'natural': False, '82242': False, 'rich': False, 'bein': False, 'callback': False, 'msging': False, 'chechi': False, 'argh': False, 'four': False, 'sorted': False, 'dislike': False, 'shipping': False, 'goodnite': False, '89545': False, 'å£1': False, 'www.4-tc.biz': False, '087187262701.50gbp/mtmsg18': False, 'dreams..': False, 'saucy': False, 'mini': False, 'opportunity': False, 'subscribed': False, '84128': False, 'iåõm': False, 'bottle': False, 'advance': False, 'avent': False, '2000': False, 'frying': False, 'catching': False, 'gary': False, 'birla': False, 'soft': False, 'bro': False, 'bros': False, 'birth': False, 'aathi..love': False, 'lot..': False, 'lido': False, 'walked': False, 'shesil': False, 'shot': False, 'january': False, 'outstanding': False, 'blake': False, 'lotr': False, 'chillin': False, 'ham': False, 'beyond': False, 'history': False, '125gift': False, '900': False, 'okey': False, 'idiot': False, 'fightng': False, 'dificult': False, 'cramp': False, 'dai': False, 'favourite': False, 'blah': False, '81303': False, '09061209465': False, 'suprman': False, 'matrix3': False, 'starwars3': False, 'bx420-ip4-5we': False, 'measure': False, 'juicy': False, 'slap': False, 'lock': False, 'cornwall': False, 'stuck': False, 'anywhere': False, 'ese': False, 'moved': False, 'ì©': False, 'wesley': False, 'tahan': False, 'anot': False, 'propose': False, 'funky': False, 'waheed': False, \"'maangalyam\": False, 'alaipayuthe': False, 'gain': False, '*number': False, '*sent': False, '*missing': False, 'ls15hb': False, 'division': False, '7250': False, 'twelve': False, 'huge': False, 'response': False, 'smashed': False, 'visionsms.com': False, 'lush': False, 'helloooo': False, 'up..': False, '\\\\sweet\\\\': False, 'morning\\\\': False, 'welcomes\\\\': False, 'you\\\\': False, 'enjoy\\\\': False, 'joy\\\\': False, 'mrng\\\\': False, 'recognise': False, 'stayed': False, 'hyde': False, 'mel': False, 'confused': False, 'odi': False, 'cousin': False, 'www.txt-2-shop.com': False, 'chocolate': False, 'sian': False, 'durban': False, 'hamster': False, 'million': False, 'mmmmmm': False, '08000776320': False, 'speedchat': False, '09065174042': False, '07821230901': False, 'fujitsu': False, 'toshiba': False, '\\\\song': False, 'dedicated': False, 'day..\\\\': False, 'dedicate': False, 'woot': False, 'begging': False, 'thgt': False, 'upd8': False, 'wating': False, 'strange': False, 'filthy': False, '69669': False, 'drinkin': False, 'printed': False, 'upstairs': False, 'charles': False, 'uh': False, 'chest': False, 'shitload': False, 'tissco': False, 'tayseer': False, 'randy': False, '08700621170150p': False, '08718730666': False, '88877': False, 'www.textcomp.com': False, 'interest': False, 'juan': False, '40533': False, '31/10/04': False, 'speaking': False, 'combine': False, 'alive': False, 'improve': False, 'joining': False, 'funk': False, 'tones2u': False, 'hardly': False, 'hrishi': False, 'superb': False, 'kent': False, 'vale': False, 'necessarily': False, 'relative': False, 'risk': False, 'benefit': False, 'thesis': False, 'anna': False, 'nagar': False, 'installing': False, 'silence': False, 'improved': False, 'science': False, 'melt': False, 'sunlight': False, 'kothi': False, 'print': False, 'rub': False, 'steam': False, 'pouch': False, 'drpd': False, 'deeraj': False, 'deepak': False, 'spoon': False, '09061743806': False, 'box326': False, '2go': False, '4a': False, 'forgotten': False, 'makin': False, 'brownie': False, 'cooky': False, 'knock': False, 'whose': False, 'unfortunately': False, 'arent': False, '24': False, 'tnc': False, 'cali': False, 'patty': False, 'box334sk38ch': False, 'status': False, 'beloved': False, '09094646899': False, 'vu': False, 'bcm1896wc1n3xx': False, 'fly': False, 'networking': False, 'brah': False, 'prabha': False, 'nd': False, 'kay': False, 'granite': False, 'strong-buy': False, 'explosive': False, '*****up': False, 'nasdaq': False, 'cdgt': False, '5.00': False, 'per..': False, 'easter': False, 'tension': False, 'k..k..i': False, 'realise': False, 'suzy': False, '82468': False, 'thought-': False, 'cashto': False, '08000407165': False, 'getstop': False, '88222': False, 'php': False, 'tlk': False, 'poem': False, 'block': False, 'howard': False, 'musthu': False, 'crisis': False, 'yunny': False, 'intention': False, '09050003091': False, 'c52': False, 'thx': False, 'neighbor': False, 'language': False, 'removed': False, 'taco': False, 'wrk': False, 'lst': False, 'transport': False, 'definite': False, 'wasted': False, 'applebees': False, 'pool': False, 'mmmmm': False, 'gibbs': False, '8am': False, 'bristol': False, 'place..': False, '09061744553': False, 'polyh': False, 'cliff': False, 'whatsup': False, 'parking': False, 'boyfriend': False, 'driver': False, 'ebay': False, 'gud..k': False, 'nyt..': False, 'elaine': False, 'prescription': False, 'dan': False, 'probs': False, 'hon': False, 'widelive.com/index': False, 'wml': False, 'borin': False, 'callså£1/minmoremobsemspobox45po139wa': False, 'royal': False, 'waited': False, 'ful': False, 'atlast': False, 'zoe': False, 'outage': False, 'nap': False, 'consider': False, 'peaceful': False, '\\\\mix\\\\': False, '85069': False, 'usher': False, 'britney': False, 'tmrw': False, '2007': False, 'lionm': False, 'lionp': False, '2morro': False, 'indeed': False, 'sake': False, 'switch': False, 'doubt': False, 'u\\\\': False, 'frnds\\\\': False, 'evr': False, 'selfish': False, 'director': False, '8.30': False, 'sarcastic': False, 'faggy': False, 'garden': False, 'bulb': False, 'seed': False, 'å£33:50': False, 'scotsman': False, 'go2': False, 'notxt.co.uk': False, 'indyarocks.com': False, '350': False, 'clothes': False, 'sary': False, 'attached': False, 'election': False, '7ish': False, 'select': False}, 'ham') \n",
      "\n"
     ]
    }
   ],
   "source": [
    "#implementing the find_features function defined above on all messages\n",
    "featuresets = [(find_features(msg), type) for (msg, type) in all_messages]\n",
    "\n",
    "print(featuresets[0], \"\\n\") #is the same as\n",
    "#print(find_features(all_messages[0][0]))"
   ]
  },
  {
   "cell_type": "code",
   "execution_count": 22,
   "metadata": {
    "collapsed": true
   },
   "outputs": [],
   "source": [
    "#set that we'll train our classifier with\n",
    "training_set = featuresets[:4000]\n",
    "\n",
    "#set that we'll test against\n",
    "#message #4000 to #5572\n",
    "testing_set = featuresets[4000:]"
   ]
  },
  {
   "cell_type": "code",
   "execution_count": 23,
   "metadata": {
    "collapsed": true
   },
   "outputs": [],
   "source": [
    "#Naive Bayes Classifier is popular machine learning algorithm for text classification\n",
    "\n",
    "#reminder that this is supervised machine learning\n",
    "#because we are feeding the computer already classified data before\n",
    "#testing it on another set of data\n",
    "\n",
    "#see http://www.nltk.org/book/ch06.html for more information on\n",
    "#Naive Bayes Classifier versus decision tree\n",
    "classifier = nltk.NaiveBayesClassifier.train(training_set)"
   ]
  },
  {
   "cell_type": "code",
   "execution_count": 24,
   "metadata": {
    "collapsed": false
   },
   "outputs": [
    {
     "name": "stdout",
     "output_type": "stream",
     "text": [
      "Classifier accuracy percent: 98.72773536895674\n"
     ]
    }
   ],
   "source": [
    "print(\"Classifier accuracy percent:\",(nltk.classify.accuracy(classifier, testing_set))*100)"
   ]
  },
  {
   "cell_type": "code",
   "execution_count": 31,
   "metadata": {
    "collapsed": false
   },
   "outputs": [
    {
     "name": "stdout",
     "output_type": "stream",
     "text": [
      "Most Informative Features\n",
      "                  urgent = True             spam : ham    =    121.0 : 1.0\n",
      "                    code = True             spam : ham    =    118.5 : 1.0\n",
      "                 voucher = True             spam : ham    =    106.0 : 1.0\n",
      "                landline = True             spam : ham    =    106.0 : 1.0\n",
      "                   nokia = True             spam : ham    =     93.6 : 1.0\n",
      "                  camera = True             spam : ham    =     93.6 : 1.0\n",
      "                   await = True             spam : ham    =     68.6 : 1.0\n",
      "                      16 = True             spam : ham    =     68.6 : 1.0\n",
      "                 service = True             spam : ham    =     65.8 : 1.0\n",
      "                 attempt = True             spam : ham    =     64.4 : 1.0\n",
      "                      uk = True             spam : ham    =     64.4 : 1.0\n",
      "               statement = True             spam : ham    =     64.4 : 1.0\n",
      "                   apply = True             spam : ham    =     63.6 : 1.0\n",
      "                     txt = True             spam : ham    =     62.1 : 1.0\n",
      "                    draw = True             spam : ham    =     61.5 : 1.0\n"
     ]
    }
   ],
   "source": [
    "classifier.show_most_informative_features(15)\n",
    "#shows ratio of occurences in spam to ham for the most valuable word features"
   ]
  },
  {
   "cell_type": "code",
   "execution_count": 32,
   "metadata": {
    "collapsed": true
   },
   "outputs": [],
   "source": [
    "#finally, you can save your classifiers with the pickle module\n",
    "import pickle\n",
    "\n",
    "with open(\"naivebayes.pickle\",\"wb\") as f:\n",
    "    pickle.dump(classifier, f)\n",
    "    \n",
    "with open(\"naivebayes.pickle\",\"rb\") as f:\n",
    "    classifier2 = pickle.load(f)"
   ]
  },
  {
   "cell_type": "code",
   "execution_count": 33,
   "metadata": {
    "collapsed": false
   },
   "outputs": [
    {
     "name": "stdout",
     "output_type": "stream",
     "text": [
      "Classifier accuracy percent: 98.72773536895674\n"
     ]
    }
   ],
   "source": [
    "print(\"Classifier accuracy percent:\",(nltk.classify.accuracy(classifier2, testing_set))*100)"
   ]
  },
  {
   "cell_type": "code",
   "execution_count": null,
   "metadata": {
    "collapsed": true
   },
   "outputs": [],
   "source": []
  }
 ],
 "metadata": {
  "kernelspec": {
   "display_name": "Python 3",
   "language": "python",
   "name": "python3"
  },
  "language_info": {
   "codemirror_mode": {
    "name": "ipython",
    "version": 3
   },
   "file_extension": ".py",
   "mimetype": "text/x-python",
   "name": "python",
   "nbconvert_exporter": "python",
   "pygments_lexer": "ipython3",
   "version": "3.6.0"
  }
 },
 "nbformat": 4,
 "nbformat_minor": 2
}
