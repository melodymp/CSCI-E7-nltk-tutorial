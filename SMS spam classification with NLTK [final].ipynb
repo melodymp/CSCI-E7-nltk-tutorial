{
 "cells": [
  {
   "cell_type": "code",
   "execution_count": 396,
   "metadata": {
    "collapsed": true
   },
   "outputs": [],
   "source": [
    "#import the Natural Language Toolkit module\n",
    "import nltk\n",
    "\n",
    "#import pandas module and pandas functions\n",
    "import pandas as pd\n",
    "from pandas import Series, DataFrame"
   ]
  },
  {
   "cell_type": "code",
   "execution_count": 397,
   "metadata": {
    "collapsed": false
   },
   "outputs": [
    {
     "name": "stdout",
     "output_type": "stream",
     "text": [
      "<class 'pandas.core.frame.DataFrame'>\n"
     ]
    },
    {
     "data": {
      "text/html": [
       "<div>\n",
       "<table border=\"1\" class=\"dataframe\">\n",
       "  <thead>\n",
       "    <tr style=\"text-align: right;\">\n",
       "      <th></th>\n",
       "      <th>v1</th>\n",
       "      <th>v2</th>\n",
       "      <th>Unnamed: 2</th>\n",
       "      <th>Unnamed: 3</th>\n",
       "      <th>Unnamed: 4</th>\n",
       "    </tr>\n",
       "  </thead>\n",
       "  <tbody>\n",
       "    <tr>\n",
       "      <th>0</th>\n",
       "      <td>ham</td>\n",
       "      <td>Go until jurong point, crazy.. Available only ...</td>\n",
       "      <td>NaN</td>\n",
       "      <td>NaN</td>\n",
       "      <td>NaN</td>\n",
       "    </tr>\n",
       "    <tr>\n",
       "      <th>1</th>\n",
       "      <td>ham</td>\n",
       "      <td>Ok lar... Joking wif u oni...</td>\n",
       "      <td>NaN</td>\n",
       "      <td>NaN</td>\n",
       "      <td>NaN</td>\n",
       "    </tr>\n",
       "    <tr>\n",
       "      <th>2</th>\n",
       "      <td>spam</td>\n",
       "      <td>Free entry in 2 a wkly comp to win FA Cup fina...</td>\n",
       "      <td>NaN</td>\n",
       "      <td>NaN</td>\n",
       "      <td>NaN</td>\n",
       "    </tr>\n",
       "    <tr>\n",
       "      <th>3</th>\n",
       "      <td>ham</td>\n",
       "      <td>U dun say so early hor... U c already then say...</td>\n",
       "      <td>NaN</td>\n",
       "      <td>NaN</td>\n",
       "      <td>NaN</td>\n",
       "    </tr>\n",
       "    <tr>\n",
       "      <th>4</th>\n",
       "      <td>ham</td>\n",
       "      <td>Nah I don't think he goes to usf, he lives aro...</td>\n",
       "      <td>NaN</td>\n",
       "      <td>NaN</td>\n",
       "      <td>NaN</td>\n",
       "    </tr>\n",
       "  </tbody>\n",
       "</table>\n",
       "</div>"
      ],
      "text/plain": [
       "     v1                                                 v2 Unnamed: 2  \\\n",
       "0   ham  Go until jurong point, crazy.. Available only ...        NaN   \n",
       "1   ham                      Ok lar... Joking wif u oni...        NaN   \n",
       "2  spam  Free entry in 2 a wkly comp to win FA Cup fina...        NaN   \n",
       "3   ham  U dun say so early hor... U c already then say...        NaN   \n",
       "4   ham  Nah I don't think he goes to usf, he lives aro...        NaN   \n",
       "\n",
       "  Unnamed: 3 Unnamed: 4  \n",
       "0        NaN        NaN  \n",
       "1        NaN        NaN  \n",
       "2        NaN        NaN  \n",
       "3        NaN        NaN  \n",
       "4        NaN        NaN  "
      ]
     },
     "execution_count": 397,
     "metadata": {},
     "output_type": "execute_result"
    }
   ],
   "source": [
    "#we are importing the SMS spam collection dataset as a datafram\n",
    "sms_dataset = pd.read_csv(\"SMS_dataset.csv\", encoding=\"latin-1\")\n",
    "print(type(sms_dataset))\n",
    "\n",
    "#this shows the top 5 rows of our dataframe as well as headers and index\n",
    "sms_dataset.head()"
   ]
  },
  {
   "cell_type": "code",
   "execution_count": 398,
   "metadata": {
    "collapsed": false
   },
   "outputs": [
    {
     "data": {
      "text/html": [
       "<div>\n",
       "<table border=\"1\" class=\"dataframe\">\n",
       "  <thead>\n",
       "    <tr style=\"text-align: right;\">\n",
       "      <th></th>\n",
       "      <th>v1</th>\n",
       "      <th>v2</th>\n",
       "      <th>Unnamed: 2</th>\n",
       "      <th>Unnamed: 3</th>\n",
       "      <th>Unnamed: 4</th>\n",
       "    </tr>\n",
       "  </thead>\n",
       "  <tbody>\n",
       "    <tr>\n",
       "      <th>5567</th>\n",
       "      <td>spam</td>\n",
       "      <td>This is the 2nd time we have tried 2 contact u...</td>\n",
       "      <td>NaN</td>\n",
       "      <td>NaN</td>\n",
       "      <td>NaN</td>\n",
       "    </tr>\n",
       "    <tr>\n",
       "      <th>5568</th>\n",
       "      <td>ham</td>\n",
       "      <td>Will Ì_ b going to esplanade fr home?</td>\n",
       "      <td>NaN</td>\n",
       "      <td>NaN</td>\n",
       "      <td>NaN</td>\n",
       "    </tr>\n",
       "    <tr>\n",
       "      <th>5569</th>\n",
       "      <td>ham</td>\n",
       "      <td>Pity, * was in mood for that. So...any other s...</td>\n",
       "      <td>NaN</td>\n",
       "      <td>NaN</td>\n",
       "      <td>NaN</td>\n",
       "    </tr>\n",
       "    <tr>\n",
       "      <th>5570</th>\n",
       "      <td>ham</td>\n",
       "      <td>The guy did some bitching but I acted like i'd...</td>\n",
       "      <td>NaN</td>\n",
       "      <td>NaN</td>\n",
       "      <td>NaN</td>\n",
       "    </tr>\n",
       "    <tr>\n",
       "      <th>5571</th>\n",
       "      <td>ham</td>\n",
       "      <td>Rofl. Its true to its name</td>\n",
       "      <td>NaN</td>\n",
       "      <td>NaN</td>\n",
       "      <td>NaN</td>\n",
       "    </tr>\n",
       "  </tbody>\n",
       "</table>\n",
       "</div>"
      ],
      "text/plain": [
       "        v1                                                 v2 Unnamed: 2  \\\n",
       "5567  spam  This is the 2nd time we have tried 2 contact u...        NaN   \n",
       "5568   ham              Will Ì_ b going to esplanade fr home?        NaN   \n",
       "5569   ham  Pity, * was in mood for that. So...any other s...        NaN   \n",
       "5570   ham  The guy did some bitching but I acted like i'd...        NaN   \n",
       "5571   ham                         Rofl. Its true to its name        NaN   \n",
       "\n",
       "     Unnamed: 3 Unnamed: 4  \n",
       "5567        NaN        NaN  \n",
       "5568        NaN        NaN  \n",
       "5569        NaN        NaN  \n",
       "5570        NaN        NaN  \n",
       "5571        NaN        NaN  "
      ]
     },
     "execution_count": 398,
     "metadata": {},
     "output_type": "execute_result"
    }
   ],
   "source": [
    "#this shows the last 5 rows of our dataframe as well as headers and index\n",
    "sms_dataset.tail()"
   ]
  },
  {
   "cell_type": "code",
   "execution_count": 399,
   "metadata": {
    "collapsed": false
   },
   "outputs": [
    {
     "data": {
      "text/html": [
       "<div>\n",
       "<table border=\"1\" class=\"dataframe\">\n",
       "  <thead>\n",
       "    <tr style=\"text-align: right;\">\n",
       "      <th></th>\n",
       "      <th>v1</th>\n",
       "      <th>v2</th>\n",
       "    </tr>\n",
       "  </thead>\n",
       "  <tbody>\n",
       "    <tr>\n",
       "      <th>0</th>\n",
       "      <td>ham</td>\n",
       "      <td>Go until jurong point, crazy.. Available only ...</td>\n",
       "    </tr>\n",
       "    <tr>\n",
       "      <th>1</th>\n",
       "      <td>ham</td>\n",
       "      <td>Ok lar... Joking wif u oni...</td>\n",
       "    </tr>\n",
       "    <tr>\n",
       "      <th>2</th>\n",
       "      <td>spam</td>\n",
       "      <td>Free entry in 2 a wkly comp to win FA Cup fina...</td>\n",
       "    </tr>\n",
       "    <tr>\n",
       "      <th>3</th>\n",
       "      <td>ham</td>\n",
       "      <td>U dun say so early hor... U c already then say...</td>\n",
       "    </tr>\n",
       "    <tr>\n",
       "      <th>4</th>\n",
       "      <td>ham</td>\n",
       "      <td>Nah I don't think he goes to usf, he lives aro...</td>\n",
       "    </tr>\n",
       "  </tbody>\n",
       "</table>\n",
       "</div>"
      ],
      "text/plain": [
       "     v1                                                 v2\n",
       "0   ham  Go until jurong point, crazy.. Available only ...\n",
       "1   ham                      Ok lar... Joking wif u oni...\n",
       "2  spam  Free entry in 2 a wkly comp to win FA Cup fina...\n",
       "3   ham  U dun say so early hor... U c already then say...\n",
       "4   ham  Nah I don't think he goes to usf, he lives aro..."
      ]
     },
     "execution_count": 399,
     "metadata": {},
     "output_type": "execute_result"
    }
   ],
   "source": [
    "#as you probably noticed, we have three columns at the end\n",
    "#called \"Unnamed: 2\" - \"Unnamed: 4\" that do not contain important data\n",
    "#and so we will clean up the dataframe further by removing those columns\n",
    "sms_dataset.drop([\"Unnamed: 2\",\"Unnamed: 3\",\"Unnamed: 4\"], axis = 1, inplace = True)\n",
    "#the default axis is 0, which is the index column\n",
    "\n",
    "sms_dataset.head()"
   ]
  },
  {
   "cell_type": "code",
   "execution_count": 400,
   "metadata": {
    "collapsed": false
   },
   "outputs": [
    {
     "data": {
      "text/html": [
       "<div>\n",
       "<table border=\"1\" class=\"dataframe\">\n",
       "  <thead>\n",
       "    <tr style=\"text-align: right;\">\n",
       "      <th></th>\n",
       "      <th>sms_type</th>\n",
       "      <th>message</th>\n",
       "    </tr>\n",
       "  </thead>\n",
       "  <tbody>\n",
       "    <tr>\n",
       "      <th>0</th>\n",
       "      <td>ham</td>\n",
       "      <td>Go until jurong point, crazy.. Available only ...</td>\n",
       "    </tr>\n",
       "    <tr>\n",
       "      <th>1</th>\n",
       "      <td>ham</td>\n",
       "      <td>Ok lar... Joking wif u oni...</td>\n",
       "    </tr>\n",
       "    <tr>\n",
       "      <th>2</th>\n",
       "      <td>spam</td>\n",
       "      <td>Free entry in 2 a wkly comp to win FA Cup fina...</td>\n",
       "    </tr>\n",
       "    <tr>\n",
       "      <th>3</th>\n",
       "      <td>ham</td>\n",
       "      <td>U dun say so early hor... U c already then say...</td>\n",
       "    </tr>\n",
       "    <tr>\n",
       "      <th>4</th>\n",
       "      <td>ham</td>\n",
       "      <td>Nah I don't think he goes to usf, he lives aro...</td>\n",
       "    </tr>\n",
       "  </tbody>\n",
       "</table>\n",
       "</div>"
      ],
      "text/plain": [
       "  sms_type                                            message\n",
       "0      ham  Go until jurong point, crazy.. Available only ...\n",
       "1      ham                      Ok lar... Joking wif u oni...\n",
       "2     spam  Free entry in 2 a wkly comp to win FA Cup fina...\n",
       "3      ham  U dun say so early hor... U c already then say...\n",
       "4      ham  Nah I don't think he goes to usf, he lives aro..."
      ]
     },
     "execution_count": 400,
     "metadata": {},
     "output_type": "execute_result"
    }
   ],
   "source": [
    "#next, let's rename \"v1\" and \"v2\" headers to something more meaningful\n",
    "sms_dataset = sms_dataset.rename(columns = {\"v1\":\"sms_type\",\"v2\":\"message\"})\n",
    "sms_dataset.head()"
   ]
  },
  {
   "cell_type": "code",
   "execution_count": 401,
   "metadata": {
    "collapsed": false
   },
   "outputs": [
    {
     "name": "stdout",
     "output_type": "stream",
     "text": [
      "5572 \n",
      "\n",
      "Go until jurong point, crazy.. Available only in bugis n great world la e buffet... Cine there got amore wat...\n",
      "<class 'str'>\n",
      "ham\n",
      "<class 'str'>\n"
     ]
    }
   ],
   "source": [
    "print(len(sms_dataset.index), \"\\n\")\n",
    "#so we have 5572 SMS messages in this dataframe\n",
    "\n",
    "print(sms_dataset.loc[0][\"message\"])\n",
    "print(type(sms_dataset.loc[0][\"message\"]))\n",
    "print(sms_dataset.loc[5571][\"sms_type\"])\n",
    "print(type(sms_dataset.loc[5571][\"sms_type\"]))\n",
    "#the data in both sms_type and message columns are strings"
   ]
  },
  {
   "cell_type": "code",
   "execution_count": 402,
   "metadata": {
    "collapsed": false
   },
   "outputs": [
    {
     "name": "stdout",
     "output_type": "stream",
     "text": [
      "{'most', 'against', 'where', 'his', 'will', 'they', 'each', 'didn', 'through', 'some', 'same', 'yourselves', 'be', 'its', 'wasn', 'down', 'once', 'does', 'been', 'at', 'mustn', 'up', 'am', 'and', 'such', 'won', 'd', 'hadn', 'themselves', 'y', 'what', 'so', 'into', 'an', 'did', 'more', 'weren', 'ain', 'here', 'few', 'her', 'who', 'herself', 'to', 'he', 'being', 'him', 'nor', 'own', 'll', 'have', 'until', 'were', 'before', 'yourself', 'a', 'it', 've', 'ours', 'doing', 'then', 'hasn', 'the', 'doesn', 'which', 'during', 'for', 'this', 'o', 'out', 'my', 'whom', 'other', 'hers', 'don', 'while', 'isn', 'ma', 'couldn', 'ourselves', 'under', 'are', 'further', 'any', 'or', 'off', 'after', 'do', 'how', 're', 'in', 'but', 'these', 'we', 'too', 'their', 'again', 'below', 'haven', 'there', 'should', 'about', 'shouldn', 'you', 'i', 'had', 'over', 'wouldn', 'of', 'very', 'than', 'not', 'having', 'both', 'himself', 'by', 'has', 'our', 'with', 'when', 'if', 'all', 'm', 'is', 'why', 'no', 'only', 'from', 'can', 'because', 'u', 'between', 'aren', 't', 'that', 'now', 'them', 'mightn', 'yours', 'myself', 'as', 'me', 'shan', 'just', 'on', 'above', 'your', 'theirs', 's', 'needn', 'was', 'itself', 'she', 'those'}\n"
     ]
    }
   ],
   "source": [
    "from nltk.corpus import stopwords\n",
    "\n",
    "#stop words are some of the most common words used in a language\n",
    "#in our case, the English language\n",
    "#and they will be removed from the data before data processing\n",
    "stop_words = set(stopwords.words('english'))\n",
    "\n",
    "stop_words.update([\"u\"]) \n",
    "#\"u\" was added to the list of stopwords because\n",
    "#it shows up so often in casual text messages,\n",
    "#likely as often as \"you\" shows up in more formal communications\n",
    "\n",
    "print(stop_words)"
   ]
  },
  {
   "cell_type": "code",
   "execution_count": 403,
   "metadata": {
    "collapsed": false
   },
   "outputs": [
    {
     "name": "stdout",
     "output_type": "stream",
     "text": [
      "mouse\n",
      "clock\n",
      "jump\n",
      "fast\n"
     ]
    }
   ],
   "source": [
    "#to further pre-process our data, we will use the following\n",
    "\n",
    "from nltk.tokenize import sent_tokenize, word_tokenize\n",
    "#according to nltk documentation (http://www.nltk.org/api/nltk.tokenize.html)\n",
    "#word_tokenize function should be applied to one sentence at a time\n",
    "#however, this might have been fixed to work on a multi-sentence argument\n",
    "#if https://github.com/nltk/nltk_book/issues/33 is true\n",
    "#but since I haven't found official documentation (yet)\n",
    "#we will run sent_tokenize before running word_tokenize on all sentences\n",
    "\n",
    "from nltk.stem import WordNetLemmatizer\n",
    "lemmatizer = WordNetLemmatizer()\n",
    "#lemmatizer function finds the lemma of a word argument\n",
    "#according to https://simple.wikipedia.org/wiki/Lemma_(linguistics) is \n",
    "#a word which stands at the head of a definition in a dictionary\n",
    "\n",
    "#this function has a default part of speech parameter of noun\n",
    "print(lemmatizer.lemmatize(\"mice\"))\n",
    "print(lemmatizer.lemmatize(\"clocks\"))\n",
    "print(lemmatizer.lemmatize(\"jumping\", \"v\"))\n",
    "print(lemmatizer.lemmatize(\"fastest\", pos=\"a\"))"
   ]
  },
  {
   "cell_type": "code",
   "execution_count": 404,
   "metadata": {
    "collapsed": false,
    "scrolled": true
   },
   "outputs": [
    {
     "data": {
      "text/html": [
       "<div>\n",
       "<table border=\"1\" class=\"dataframe\">\n",
       "  <thead>\n",
       "    <tr style=\"text-align: right;\">\n",
       "      <th></th>\n",
       "      <th>sms_type</th>\n",
       "      <th>message</th>\n",
       "    </tr>\n",
       "  </thead>\n",
       "  <tbody>\n",
       "    <tr>\n",
       "      <th>0</th>\n",
       "      <td>ham</td>\n",
       "      <td>go jurong point , crazy.. available bugis n gr...</td>\n",
       "    </tr>\n",
       "    <tr>\n",
       "      <th>1</th>\n",
       "      <td>ham</td>\n",
       "      <td>ok lar ... joking wif oni ...</td>\n",
       "    </tr>\n",
       "    <tr>\n",
       "      <th>2</th>\n",
       "      <td>spam</td>\n",
       "      <td>free entry 2 wkly comp win fa cup final tkts 2...</td>\n",
       "    </tr>\n",
       "    <tr>\n",
       "      <th>3</th>\n",
       "      <td>ham</td>\n",
       "      <td>dun say early hor ... c already say ...</td>\n",
       "    </tr>\n",
       "    <tr>\n",
       "      <th>4</th>\n",
       "      <td>ham</td>\n",
       "      <td>nah n't think go usf , life around though</td>\n",
       "    </tr>\n",
       "    <tr>\n",
       "      <th>5</th>\n",
       "      <td>spam</td>\n",
       "      <td>freemsg hey darling 's 3 week 's word back ! '...</td>\n",
       "    </tr>\n",
       "    <tr>\n",
       "      <th>6</th>\n",
       "      <td>ham</td>\n",
       "      <td>even brother like speak . treat like aid patent .</td>\n",
       "    </tr>\n",
       "    <tr>\n",
       "      <th>7</th>\n",
       "      <td>ham</td>\n",
       "      <td>per request 'melle melle ( oru minnaminunginte...</td>\n",
       "    </tr>\n",
       "    <tr>\n",
       "      <th>8</th>\n",
       "      <td>spam</td>\n",
       "      <td>winner ! ! valued network customer selected re...</td>\n",
       "    </tr>\n",
       "    <tr>\n",
       "      <th>9</th>\n",
       "      <td>spam</td>\n",
       "      <td>mobile 11 month ? r entitled update latest col...</td>\n",
       "    </tr>\n",
       "  </tbody>\n",
       "</table>\n",
       "</div>"
      ],
      "text/plain": [
       "  sms_type                                            message\n",
       "0      ham  go jurong point , crazy.. available bugis n gr...\n",
       "1      ham                      ok lar ... joking wif oni ...\n",
       "2     spam  free entry 2 wkly comp win fa cup final tkts 2...\n",
       "3      ham            dun say early hor ... c already say ...\n",
       "4      ham          nah n't think go usf , life around though\n",
       "5     spam  freemsg hey darling 's 3 week 's word back ! '...\n",
       "6      ham  even brother like speak . treat like aid patent .\n",
       "7      ham  per request 'melle melle ( oru minnaminunginte...\n",
       "8     spam  winner ! ! valued network customer selected re...\n",
       "9     spam  mobile 11 month ? r entitled update latest col..."
      ]
     },
     "execution_count": 404,
     "metadata": {},
     "output_type": "execute_result"
    }
   ],
   "source": [
    "#for i from index 0 to index 5571\n",
    "for i in range(len(sms_dataset.index)):\n",
    "    #create a list of word tokens by\n",
    "    \n",
    "    #tokenizing each string in the \"message\" column into sentences\n",
    "    #which returns a list of sentence strings\n",
    "    \n",
    "    #and then tokeninzing each sentence into words\n",
    "    #which returns a list of word strings\n",
    "    \n",
    "    #next we take each word and find their lemmas\n",
    "    #unfortunately, we will have to assume that all words are nouns\n",
    "    word_tokens = [lemmatizer.lemmatize(word.lower()) \n",
    "                   for sent in sent_tokenize(sms_dataset.loc[i][\"message\"])\n",
    "                   for word in word_tokenize(sent)]\n",
    "    #then from the word_tokens list we take elements that are not stopwords\n",
    "    #and add them to a new list\n",
    "    without_stop = [w for w in word_tokens if w not in stop_words]\n",
    "    #we convert this new list of words into a string\n",
    "    without_stop_str = \" \".join(without_stop)\n",
    "    #and replace all messages with lemmatized versions of the original\n",
    "    #that do not include stopwords\n",
    "    sms_dataset.loc[i][\"message\"] = without_stop_str\n",
    "\n",
    "sms_dataset.head(10)"
   ]
  },
  {
   "cell_type": "code",
   "execution_count": 405,
   "metadata": {
    "collapsed": false
   },
   "outputs": [
    {
     "data": {
      "text/html": [
       "<div>\n",
       "<table border=\"1\" class=\"dataframe\">\n",
       "  <thead>\n",
       "    <tr style=\"text-align: right;\">\n",
       "      <th></th>\n",
       "      <th>sms_type</th>\n",
       "      <th>message</th>\n",
       "    </tr>\n",
       "  </thead>\n",
       "  <tbody>\n",
       "    <tr>\n",
       "      <th>5567</th>\n",
       "      <td>spam</td>\n",
       "      <td>2nd time tried 2 contact u. å£750 pound prize ...</td>\n",
       "    </tr>\n",
       "    <tr>\n",
       "      <th>5568</th>\n",
       "      <td>ham</td>\n",
       "      <td>ì_ b going esplanade fr home ?</td>\n",
       "    </tr>\n",
       "    <tr>\n",
       "      <th>5569</th>\n",
       "      <td>ham</td>\n",
       "      <td>pity , * wa mood . ... suggestion ?</td>\n",
       "    </tr>\n",
       "    <tr>\n",
       "      <th>5570</th>\n",
       "      <td>ham</td>\n",
       "      <td>guy bitching acted like 'd interested buying s...</td>\n",
       "    </tr>\n",
       "    <tr>\n",
       "      <th>5571</th>\n",
       "      <td>ham</td>\n",
       "      <td>rofl . true name</td>\n",
       "    </tr>\n",
       "  </tbody>\n",
       "</table>\n",
       "</div>"
      ],
      "text/plain": [
       "     sms_type                                            message\n",
       "5567     spam  2nd time tried 2 contact u. å£750 pound prize ...\n",
       "5568      ham                     ì_ b going esplanade fr home ?\n",
       "5569      ham                pity , * wa mood . ... suggestion ?\n",
       "5570      ham  guy bitching acted like 'd interested buying s...\n",
       "5571      ham                                   rofl . true name"
      ]
     },
     "execution_count": 405,
     "metadata": {},
     "output_type": "execute_result"
    }
   ],
   "source": [
    "sms_dataset.tail()"
   ]
  },
  {
   "cell_type": "code",
   "execution_count": 406,
   "metadata": {
    "collapsed": false
   },
   "outputs": [
    {
     "name": "stdout",
     "output_type": "stream",
     "text": [
      "ham\n",
      "go jurong point , crazy.. available bugis n great world la e buffet ... cine got amore wat ... \n",
      "\n",
      "[(['go', 'jurong', 'point', ',', 'crazy..', 'available', 'bugis', 'n', 'great', 'world', 'la', 'e', 'buffet', '...', 'cine', 'got', 'amore', 'wat', '...'], 'ham'), (['ok', 'lar', '...', 'joking', 'wif', 'oni', '...'], 'ham'), (['free', 'entry', '2', 'wkly', 'comp', 'win', 'fa', 'cup', 'final', 'tkts', '21st', 'may', '2005', '.', 'text', 'fa', '87121', 'receive', 'entry', 'question', '(', 'std', 'txt', 'rate', ')', '&', 'c', \"'s\", 'apply', '08452810075over18', \"'s\"], 'spam'), (['dun', 'say', 'early', 'hor', '...', 'c', 'already', 'say', '...'], 'ham'), (['nah', \"n't\", 'think', 'go', 'usf', ',', 'life', 'around', 'though'], 'ham'), (['freemsg', 'hey', 'darling', \"'s\", '3', 'week', \"'s\", 'word', 'back', '!', \"'d\", 'like', 'fun', 'still', '?', 'tb', 'ok', '!', 'xxx', 'std', 'chgs', 'send', ',', 'å£1.50', 'rcv'], 'spam')]\n"
     ]
    }
   ],
   "source": [
    "#now following the template set in the python programming nltk tutorial\n",
    "#we format all the information in the dataframe into a list of tuples\n",
    "\n",
    "#this shows how you access strings in the sms_type and message columns\n",
    "for row in sms_dataset.iterrows():\n",
    "    print(row[1][0])\n",
    "    print(row[1][1], \"\\n\")\n",
    "    break\n",
    "\n",
    "all_messages = []\n",
    "\n",
    "for row in sms_dataset.iterrows():\n",
    "    #we had to tokenize strings into lists,\n",
    "    #convert lists into strings\n",
    "    #and finally tokenize the cleaned-up string again\n",
    "    #because pandas dataframes will not accept lists\n",
    "    all_messages.append((word_tokenize(row[1][1]),row[1][0]))\n",
    "\n",
    "print(all_messages[:6])"
   ]
  },
  {
   "cell_type": "code",
   "execution_count": 416,
   "metadata": {
    "collapsed": false
   },
   "outputs": [
    {
     "name": "stdout",
     "output_type": "stream",
     "text": [
      "([\"'s\", 'said', \"'s\", 'bad', 'dat', 'e', 'gal', 'know', '...', 'wat', '?'], 'ham')\n",
      "(['course', '!', \"n't\", 'tease', '...', 'know', 'simply', 'must', 'see', '!', '*grins*', '...', 'keep', 'posted', 'prey', '...', '*loving', 'smile*', '*devouring', 'kiss*'], 'ham')\n"
     ]
    }
   ],
   "source": [
    "#in case there was some pattern already set in the SMS dataset\n",
    "#such as all spam type messages living the first half\n",
    "#we are going to shuffle all the messages so that the different types\n",
    "#are better distributed throughout the all_messages list\n",
    "\n",
    "import random\n",
    "\n",
    "random.shuffle(all_messages)\n",
    "print(all_messages[0])\n",
    "print(all_messages[5571])"
   ]
  },
  {
   "cell_type": "code",
   "execution_count": 408,
   "metadata": {
    "collapsed": false
   },
   "outputs": [
    {
     "name": "stdout",
     "output_type": "stream",
     "text": [
      "68090\n",
      "9181\n",
      "<class 'nltk.probability.FreqDist'>\n",
      "[('.', 4933), (',', 1872), ('?', 1541), ('!', 1381), ('...', 1233), ('&', 916), (';', 764), (':', 717), ('call', 600), (')', 494), (\"'s\", 492), ('2', 485), ('get', 396), (\"'m\", 395), ('ur', 381), (\"n't\", 361), ('gt', 318), ('lt', 316), ('go', 303), (\"''\", 293), ('#', 287), ('free', 275), ('know', 269), ('4', 268), ('ok', 251)]\n"
     ]
    }
   ],
   "source": [
    "#now we will compile all words from all messages into a list\n",
    "#in order to extract the most common ones to use as features\n",
    "#that can help identify either spam or non-spam (ham)\n",
    "\n",
    "all_words = []\n",
    "#again, this is index 0 to index 5571\n",
    "for i in range(len(all_messages)):\n",
    "    #accessing the list of words for message with index i\n",
    "    for j in range(len(all_messages[i][0])):\n",
    "        #adding word from position j to the all_words list\n",
    "        all_words.append(all_messages[i][0][j])\n",
    "        \n",
    "print(len(all_words))\n",
    "#this just shows you that we have a lot of duplicate words\n",
    "print(len(set(all_words)))\n",
    "\n",
    "words_freq = nltk.FreqDist(all_words)\n",
    "print(type(words_freq))\n",
    "print(words_freq.most_common(25))"
   ]
  },
  {
   "cell_type": "code",
   "execution_count": 409,
   "metadata": {
    "collapsed": false
   },
   "outputs": [],
   "source": [
    "#taking only the 3000 most common words of 9181 from the FreqDist\n",
    "top_3000_dict = dict(words_freq.most_common(3000)).keys()\n",
    "#we create a feature list that will identify patterns in spam vs ham\n",
    "word_features = list(top_3000_dict)"
   ]
  },
  {
   "cell_type": "code",
   "execution_count": 410,
   "metadata": {
    "collapsed": false
   },
   "outputs": [],
   "source": [
    "#based off of pythonprogramming tutorial code,\n",
    "#we create a function using dictionary comprehension\n",
    "#that will tell use which of these 3000 most common words\n",
    "#exist in each of the messages\n",
    "\n",
    "def find_features(document):\n",
    "    words = set(document)\n",
    "    return {w: (True if w in words else False) for w in word_features}\n",
    "    \n",
    "\n",
    "#original pythonprogramming tutorial code\n",
    "# def find_features(document):\n",
    "#     words = set(document)\n",
    "#     features = {}\n",
    "#     for w in word_features:\n",
    "#         features[w] = (w in words)\n",
    "#     return features"
   ]
  },
  {
   "cell_type": "code",
   "execution_count": 411,
   "metadata": {
    "collapsed": false
   },
   "outputs": [
    {
     "name": "stdout",
     "output_type": "stream",
     "text": [
      "({'.': True, ',': True, '?': True, '!': False, '...': True, '&': False, ';': False, ':': False, 'call': False, ')': False, \"'s\": False, '2': False, 'get': False, \"'m\": False, 'ur': True, \"n't\": False, 'gt': False, 'lt': False, 'go': False, \"''\": False, '#': False, 'free': False, 'know': False, '4': False, 'ok': False, 'got': False, 'like': False, 'come': False, 'wa': True, 'good': False, 'time': False, 'day': True, \"'ll\": False, '-': False, 'text': False, 'want': False, 'love': False, 'send': False, 'one': False, 'need': False, 'going': False, 'txt': False, 'today': True, 'r': True, 'home': False, 'sorry': False, 'see': False, 'lor': False, 'still': False, 'c': False, 'back': False, 'stop': False, 'mobile': False, 'n': False, 'take': False, 'think': False, 'reply': False, 'tell': False, 'da': False, 'phone': False, 'dont': False, 'ha': False, 'new': False, 'later': False, 'week': False, 'hi': False, 'please': False, 'make': False, 'night': False, 'ì_': False, 'say': False, '(': False, 'pls': False, 'claim': False, 'thing': False, 'great': False, 'much': False, 'well': False, 'oh': False, 'hope': False, 'dear': False, 'na': False, 'give': False, 'number': False, 'happy': False, 'hey': False, 'work': False, 'wat': True, 'way': False, 'message': False, 'friend': False, 'prize': False, 'wan': False, 'right': False, 'let': True, 'msg': False, \"'ve\": False, '1': False, 'already': False, \"'re\": False, 'tomorrow': False, 'ask': True, 'said': False, 'yeah': False, 'yes': False, 'amp': False, 'really': False, 'k': False, 'min': False, 'babe': False, 'meet': False, '3': False, 'co': False, 'would': False, 'e': False, 'im': False, 'life': False, 'last': False, 'service': False, 'win': False, 'morning': False, 'year': False, 'miss': False, 'cash': False, 'thanks': False, 'lol': False, 'tone': False, 'find': False, 'anything': False, 'every': False, 'feel': False, 'sure': False, 'pick': False, 'contact': False, 'keep': False, 'also': False, 'something': True, 'nokia': False, 'sent': False, 'care': False, 'buy': False, 'urgent': False, 'cant': False, 'could': False, 'b': False, 'place': False, 'next': False, 'guy': False, 'someone': False, 'tonight': False, 'even': False, 'wish': False, 'around': False, 'went': False, 'show': False, 'first': False, 'customer': False, 'wait': False, 'ca': False, 'many': False, 'word': False, 'late': False, 'gon': False, 'money': False, 'nice': False, 'soon': False, 'ya': False, 'leave': False, 'always': False, 'per': False, 'dun': False, '\\\\': False, 'chat': False, 'sleep': False, 'ìï': False, 'told': False, 'gud': True, 'waiting': False, 'help': False, 'people': False, 'hour': False, 'minute': False, 'name': False, 'guaranteed': False, 'coming': False, 'haha': False, 'thk': False, 'getting': False, 'done': False, 'may': False, 'yet': False, 'girl': False, 'try': False, 'lot': False, 'v': False, 'end': False, 'offer': False, 'talk': False, 'class': False, 'person': False, 'fine': False, 'doe': False, 'best': False, 'thought': False, 'mean': False, 'lunch': False, 'line': False, 'use': False, 'man': False, 'x': False, 'stuff': False, 'draw': False, 'finish': False, 'heart': False, 'bit': False, 'live': False, 'car': False, 'job': False, 'god': False, 'start': False, 'holiday': False, 'never': False, 'special': False, 'meeting': False, 'sm': False, 'yup': False, 'month': False, 'plan': False, 'trying': False, '5': False, 'long': False, 'hello': False, 'ill': False, \"'\": False, 'smile': True, 'better': False, '..': False, 'dat': False, 'cool': False, 'ready': False, 'chance': False, 'account': False, 'mind': False, 'latest': False, 'weekend': False, 'room': False, 'problem': False, 'guess': False, 'thats': False, 'sir': False, '1st': False, 'yo': False, 'game': False, 'play': False, 'awarded': False, 'check': False, 'cost': False, 'look': False, 'half': False, '*': False, 'nothing': False, 'eat': False, 'world': False, 'receive': False, 'enjoy': False, 'voucher': False, 'lar': False, 'another': False, 'real': False, 'birthday': False, 'boy': False, 'big': False, 'camera': False, 'house': False, 'landline': False, 'å£1000': False, '@': False, 'luv': False, 'jus': False, 'box': False, 'pic': False, 'liao': False, 'ever': False, 'shit': False, 'dinner': False, 'watching': False, 'quite': False, 'might': False, 'watch': False, '150ppm': False, 'baby': False, 'aight': False, 'ah': False, 'rate': False, 'probably': False, 'sweet': False, 'called': False, 'point': False, 'speak': False, '6': False, 'question': False, 'remember': False, 'video': False, 'network': False, 'po': False, 'princess': False, 'two': False, 'bed': False, 'orange': False, 'wont': False, 'actually': False, 'hear': False, 'den': False, 'fun': False, 'apply': False, 'reach': False, 'shall': False, 'sat': False, 'part': False, 'early': False, 'easy': False, 'dunno': False, 'shopping': False, 'bad': False, 'worry': False, 'pay': False, 'maybe': False, 'little': False, 'thanx': False, '2nd': False, '>': False, 'dis': False, 'leh': False, 'left': False, 'forgot': False, 'bus': False, 'didnt': False, 'fuck': False, 'code': False, 'dad': False, 'put': False, 'face': False, 'made': False, 'mate': False, 'afternoon': False, 'award': False, 'selected': False, 'ringtone': False, 'school': False, 'working': False, 'enough': False, '+': False, 'looking': False, 'everything': False, 'tv': False, 'movie': False, 'thank': False, 'hurt': False, 'i.ll': False, 'collect': False, 'asked': False, 'without': False, 'evening': False, 'pound': False, 'hav': False, 'join': False, '150p': False, 'since': False, 'anyway': False, 'sexy': False, 'xmas': False, 'must': False, 'came': False, 'town': False, 'tmr': False, 'wif': False, \"'d\": False, 'detail': False, 'gift': False, 'pa': False, 'sound': False, 'okay': False, 'abt': False, 'bring': False, 'uk': False, 'entry': False, 'xxx': False, 'wanted': False, 'though': False, 'price': False, 'important': False, 'able': False, 'mail': False, 'wake': False, 'run': False, 'collection': False, 'juz': False, 'change': False, '7': False, 'book': False, 'decimal': False, '16+': False, 'lesson': False, 'test': False, 'stay': False, 'wot': False, 'plz': False, 'wife': False, 'charge': False, '16': False, 'pain': False, 'mob': False, 'plus': False, 'away': False, 'dream': False, 'true': False, 'saw': False, 'yesterday': False, '4*': False, '18': False, 'bt': False, 'hair': False, 'else': False, 'havent': False, 'wk': False, 'dude': False, 'update': False, 'weekly': False, 'till': False, 'de': False, 'u.': False, 'attempt': False, 'date': False, 'answer': False, 'wo': False, 'food': False, '$': False, 'trip': False, 'haf': False, 'office': False, 'bored': False, 'colour': False, 'double': False, 'music': False, 'top': False, 'making': False, 'online': False, 'valid': False, '500': False, 'oso': False, 'lei': False, 'wen': False, 'hot': False, 'sch': False, 'tried': False, 'driving': False, 'yr': False, 'missed': False, 'either': False, 'ard': False, 'å£100': False, 'til': False, 'goin': False, 'credit': False, 'alright': False, 'missing': False, 'delivery': False, 'coz': False, 'mom': False, 'tot': False, 'wid': False, 'family': False, 'story': False, '9': False, 'nite': False, 'together': False, 'address': False, 'beautiful': False, 'player': False, 'drink': False, 'bonus': False, 'sae': False, 'order': False, '8007': False, 'lose': False, 'close': False, 'å£2000': False, 'old': False, 'eve': False, 'noe': False, 'head': False, 'ring': False, 'brother': False, 'club': False, 'set': False, 'huh': False, 'post': False, 'calling': False, 'believe': False, 'happen': False, 'feeling': False, 'si': False, 'await': False, 'å£5000': False, 'full': False, 'id': False, 'smoke': False, 'sad': False, 'saying': False, 'email': False, 'mum': False, 'drive': False, 'leaving': False, 'walk': False, '18+': False, 'busy': False, 'rite': False, 'awesome': False, 'finished': False, 'tomo': False, 'took': False, 'http': False, 'second': False, 'cause': False, 'land': False, 'å£500': False, 'smiling': False, 'drop': False, 'congrats': False, 'aft': False, 'private': False, 'gr8': False, 'shop': False, 'match': False, '86688': False, 'parent': False, 'friendship': False, 'news': False, 'angry': False, 'wil': False, 'thinking': False, 'okie': False, 'mine': False, '750': False, 'unsubscribe': False, 'å£1.50': False, 'taking': False, 'final': False, 'company': False, 'pub': False, 'content': False, 'ok.': False, 'neva': False, 'started': False, 'ta': False, 'caller': False, 'gd': False, 'card': False, 'break': False, 'g': False, 'statement': False, 'everyone': False, 'forget': False, 'sleeping': False, 'poly': False, 'valentine': False, 'treat': False, 'sister': False, 'fancy': False, 'knw': False, '8': False, 'open': False, 'choose': False, 'auction': False, 'age': False, '100': False, 'whatever': False, 'worth': False, 'lucky': False, 'dating': False, 'expires': False, 'anyone': False, '12hrs': False, 'search': False, 'reason': False, 'touch': False, 'found': False, 'bank': False, 'secret': False, 'ticket': False, 'info': False, 'saturday': False, '10': False, 'far': False, 'hard': False, 'gone': False, 'anytime': False, '08000930705': False, 'pobox': False, 'sun': False, 'college': False, 'winner': False, 'alone': False, 'tho': False, 'decided': False, 'type': False, 'w': False, 'party': False, 'mobileupd8': False, 'congratulation': False, 'identifier': False, 'exam': False, 'available': False, 'boytoy': False, 'carlos': False, 'uncle': False, 'kiss': False, 'kind': False, 'hit': False, 'frnd': False, 'wit': False, 'lovely': False, 'operator': False, 'wonder': False, 'used': False, 'light': False, 'chennai': False, '150p/msg': False, 'camcorder': False, 'prob': False, 'happened': False, 'wonderful': False, 'nope': False, 'wrong': False, 'fucking': False, 'drug': False, '08000839402': False, 'finally': False, 'read': False, 'outside': False, 'pretty': False, 'fast': False, 'project': False, 'mu': False, 'hand': False, 'th': False, 'friday': False, 'visit': False, 'hows': False, 'bout': False, 'hungry': False, 'freemsg': False, 'quiz': False, 'case': False, 'gal': False, 'unlimited': False, 'meant': False, 'whats': False, 'wkly': False, 'whole': False, 'darlin': False, '\\x89û_': False, 'cum': False, 'xx': False, 'nt': False, '10p': False, 'jay': False, 'course': False, 'å£250': False, 'snow': False, 'fone': False, 'smth': False, 'log': False, 'fri': False, 'seeing': False, 'telling': False, 'oredi': False, 'b4': False, 'ten': False, 'hold': False, 'sea': False, 'term': False, 'least': False, 'welcome': False, 'listen': False, 'cd': False, 'crazy': False, 'bslvyl': False, 'opt': False, 'earlier': False, 'mayb': False, 'film': False, 'dnt': False, 'tel': False, 'hmm': False, 'sex': False, 'pm': False, 'almost': False, 'side': False, 'cut': False, 'area': False, 'press': False, 'move': False, 'rock': False, 'enter': False, 'txts': False, 'motorola': False, 'goodmorning': False, '87066': False, 'å£350': False, 'le': False, 'felt': False, 'single': False, 'yar': False, 'blue': False, 'fr': False, 'reading': False, 'father': False, 'paper': False, 'etc': False, 'support': False, 'march': False, 'talking': False, '0800': False, 'lost': False, 'valued': False, 'moment': False, 'gas': False, 'couple': False, '2003': False, '800': False, 'invited': False, 'within': False, 'currently': False, '||': False, 'song': False, 'download': False, 'christmas': False, 'savamob': False, 'ltd': False, 'information': False, 'complimentary': False, 'mah': False, 'sell': False, 'ni8': False, 'tired': False, 'national': False, 'return': False, 'supposed': False, 'seen': False, 'photo': False, 'hee': False, 'computer': False, 'correct': False, 'ago': False, 'luck': False, 'charged': False, 'hospital': False, 'store': False, 'pas': False, 'die': False, 'rental': False, 'picking': False, 'eh': False, 'surprise': False, 'darren': False, 'chikku': False, 'knew': False, 'shower': False, '*grins*': False, 'ipod': False, 'swing': False, 'sort': False, 'figure': False, 'promise': False, 'ugh': False, 'happiness': False, 'mrng': False, 'semester': False, 'eye': False, 'tc': False, 'laptop': False, 'gym': False, 'load': False, 'direct': False, 'lady': False, 'sending': False, 'park': False, 'st': False, 'bill': False, 'un-redeemed': False, 'kiss*': False, 'john': False, 'extra': False, 'train': False, 'joke': False, 'sub': False, 'orchard': False, 'india': False, 'dogging': False, 'slowly': False, 'txting': False, 'hr': False, 'fantasy': False, 'comp': False, 'kate': False, 'rest': False, 'safe': False, 'request': False, 'save': False, 'whenever': False, 'askd': False, 'door': False, 'comin': False, 'idea': False, 'wine': False, 'å£2,000': False, 'truth': False, 'it..': False, 'discount': False, 'muz': False, 'lover': False, 'rply': False, 'checking': False, 'confirm': False, 'link': False, 'abiola': False, 'clean': False, 'via': False, 'small': False, 'somebody': False, 'fact': False, 'frm': False, 'asking': False, 'mr': False, 'heard': False, 'study': False, 'bcoz': False, 'loan': False, 'kid': False, 'eg': False, 'me..': False, 'slow': False, 'road': False, 'joy': False, 'wana': False, 'wow': False, 'entered': False, 'loving': False, 'crave': False, 'bath': False, '=': False, 'police': False, 'loved': False, 'different': True, 'doin': False, '/': False, 'cheap': False, '10p/min': False, 'usf': False, 'del': False, 'she.s': False, 'ho': False, 'em': False, 'fantastic': False, 'booked': False, 'monday': False, 'deal': False, 'worried': False, 'reward': False, 'representative': False, 'situation': False, 'kick': False, 'leaf': False, 'understand': False, 'england': False, 'hmmm': False, 'nah': False, 'yep': False, 'somewhere': False, 'reached': False, '1000': False, 'ex': False, 'otherwise': False, 'oops': False, 'rent': False, 'remove': False, 'men': False, 'wishing': False, 'poor': False, 'immediately': False, 'asap': False, 'gave': False, 'med': False, 'gettin': False, 'bathe': False, 'page': False, 'admirer': False, 'ldn': False, 'glad': False, 'across': False, 'write': False, 'summer': False, 'stupid': False, 'opinion': False, 'hmv': False, '%': False, 'spend': False, 'short': False, 'met': False, 's.': False, 'woke': False, 'teach': False, \"b'day\": False, 'catch': False, 'difficult': False, 'child': False, 'voice': False, 'gap': False, 'copy': False, 'hoping': False, 'merry': False, 'red': False, 'warm': False, 'wap': False, 'ntt': False, 'member': False, 'empty': False, 'callertune': False, 'mm': False, 'password': False, 'style': False, 'trust': False, 'sunshine': False, 'lovable': False, 'urself': False, 'å£200': False, 'pete': False, 'sale': False, 'gay': False, 'disturb': False, '2nite': False, '\\x89ûò': False, 'laugh': False, 'nobody': False, 'moral': False, 'std': False, 'ive': False, 'studying': False, 'specially': False, 'flight': False, 'lect': False, 'forever': False, 'staying': False, 'round': False, 'mrt': False, 'flag': False, 'hotel': False, 'bid': False, 'silent': False, 'bluetooth': False, 'sony': False, 'thinkin': False, 'xy': False, 'starting': False, 'forwarded': False, 'user': False, 'wondering': False, 'å£150': False, 'accept': False, 'decide': False, 'convey': False, 'doesnt': False, 'water': False, 'cake': False, 'tht': False, 'lazy': False, '150': False, 'sitting': False, 'reaching': False, 'especially': False, 'www.getzed.co.uk': False, 'normal': False, 'mistake': False, 'kinda': False, 'rain': False, 'mode': False, 'cover': False, 'access': False, 'sport': False, 'hiya': False, 'bos': False, 'ending': False, 'possible': False, '--': False, 'å£800': False, 'result': False, 'turn': False, 'i.': False, 'm.': False, 'rose': False, 'brings': False, 'bb': False, 'fall': False, 'using': False, 'tampa': False, 'doctor': False, 'excuse': False, 'street': False, 'meh': False, 'il': False, 'charity': False, 'k.': False, 'completely': False, 'colleague': False, 'seems': False, 'unless': False, 'sick': False, 'frnds': False, 'near': False, 'buying': False, 'add': False, 'spent': False, 'cup': False, 'cute': False, 'pizza': False, 'ice': False, 'deep': False, 'record': False, 'entitled': False, 'pray': False, '08712460324': False, 'din': False, 'south': False, 'sign': False, 'bak': False, 'cancel': False, 'slept': False, 'trouble': False, 'ave': False, 'inc': False, 'picked': False, 'roommate': False, 'wednesday': False, 'pc': False, 'self': False, 'nyt': False, 'complete': False, 'aha': False, 'nigeria': False, 'anymore': False, 'slave': False, 'future': False, 'medical': False, 'student': False, 'fault': False, 'custcare': False, 'simple': False, 'registered': False, 'replying': False, 'stand': False, 'file': False, 'dvd': False, 'tonite': False, 'quick': False, 'goodnight': False, 'sp': False, 'awaiting': False, 'present': False, 'bt-national-rate': False, 'mark': False, 'paying': False, 'however': False, 'omg': False, '2004': False, 'goto': False, 'giving': False, 'reference': False, 'none': False, 'indian': False, 'fat': False, 'yahoo': False, '50': False, 'bedroom': False, 'mood': False, 'hg/suite342/2lands': False, 'weed': False, 'picture': False, 'lem': False, 'workin': False, 'longer': False, 'frens': False, 'freephone': False, '3030': False, 'mo': False, 'u..': False, '2day': False, '12': False, 'wiv': False, 'bag': False, 'woman': False, 'fixed': False, '4u': False, 'no1': False, 'dead': False, '25p': False, 'u-find': False, 'r*reveal': False, 'special-call': False, 'space': False, 'fill': False, 'alex': False, 'noon': False, 'cheer': False, 'list': False, 'moon': False, 'apartment': False, 'tear': False, 'tuesday': False, 'planning': False, 'mon': False, 'training': False, 'daddy': False, 'excellent': False, 'dog': False, 'facebook': False, '87077': False, 'love..': False, 'cinema': False, 'honey': False, '11': False, 'letter': False, 'p': False, 'digital': False, 'weight': False, 'others': False, 'al': False, 'simple..': False, 'library': False, 'thru': False, 'share': False, 'past': False, 'key': False, 'yijue': False, 'usual': False, 'rcvd': False, 'showing': False, '\\\\hey': False, 'umma': False, 'king': False, 'battery': False, 'wun': False, 'depends': False, '\\\\i': False, 'lmao': False, 'role': False, 'horny': False, 'lift': False, 'meaning': False, 'f': False, 'appreciate': False, 'liked': False, 'cell': False, 'marriage': False, 'bird': False, 'pleasure': False, 'yoga': False, 'shirt': False, 'shd': False, 'pix': False, 'hurry': False, 'station': False, 'naked': False, 'sit': False, 'planned': False, 'thnk': False, 'imagine': False, 'worse': False, 'waste': False, 'age16': False, 'ar': False, 'buzz': False, 'country': False, 'onto': False, 'black': False, 'high': False, 'heavy': False, 'kept': False, 'ahead': False, 'cal': False, '85023': False, 'å£3.00': False, 'midnight': False, 'quality': False, 'paid': False, '20': False, 'inside': False, 'kallis': False, 'eating': False, 'sense': False, 'mp3': False, 'miracle': False, 'menu': False, 'yest': False, 'holla': False, 'learn': False, 'experience': False, 'recently': False, 'regard': False, 'bother': False, 'dear..': False, 'towards': False, 'net': False, 'dollar': False, 'doc': False, 'spree': False, 'instead': False, 'weather': False, 'system': False, 'coffee': False, 'murderer': False, 'murdered': False, 'including': False, '36504': False, 'hell': False, 'interested': False, 'arrive': False, 'cine': False, 'flirt': False, 'funny': False, 'izzit': False, 'costa': False, 'sol': False, 'sk38xh': False, 'polys': False, 'sometimes': False, 'following': False, 'cuz': False, 'å£900': False, 'rather': False, 'la': False, 'tough': False, 'sec': False, 'tenerife': False, 'mid': False, 'shuhui': False, '3g': False, 'insurance': False, 'bold': False, 'torch': False, 'buck': False, 'notice': False, 'connection': False, 'omw': False, 'blood': False, 'loyalty': False, 'character': False, 'hai': False, 'happening': False, 'happens': False, 'imma': False, 'cash-balance': False, 'maximize': False, 'cash-in': False, 'j': False, 'ge': False, 'suck': False, 'vl': False, 'bugis': False, 'hop': False, 'kb': False, 'holding': False, 'sim': False, 'flower': False, 'malaria': False, 'awake': False, 'forward': False, 'darling': False, 'changed': False, 'eatin': False, 'location': False, 'issue': False, 'sky': False, '20p': False, '1327': False, 'croydon': False, 'cr9': False, '5wb': False, 'ad': False, 'click': False, 'hw': False, 'evng': True, 'pin': False, 'anybody': False, 'five': False, 'tea': False, '4th': False, 'nature': False, 'logo': False, 'behind': False, 'sunday': False, 'group': False, 'askin': False, 'mother': False, 'partner': False, 'air': False, 'keeping': False, 'begin': False, 'cry': False, 'lor..': False, 'lookin': False, 'handset': False, 'london': False, 'personal': False, 'ahmad': False, 'model': False, 'review': False, 'theatre': False, 'wherever': False, 'isnt': False, 'due': False, 'argument': False, 'naughty': False, 'holder': False, 'vry': False, 'fight': False, 'balance': False, 'official': False, 'adult': False, '150pm': False, 'kerala': False, 'arcade': False, 'setting': False, 'wer': False, 'aftr': False, 'dey': False, 'barely': False, 'tariff': False, 'super': False, '|': False, 'inch': False, 'straight': False, 'q': False, '<': False, '//www.urawinner.com': False, 'serious': False, 'report': False, 'local': False, 'coin': False, 'fyi': False, 'ended': False, 'sunny': False, 'pussy': False, 'version': False, '40gb': False, 'closed': False, 'expensive': False, 'spoke': False, 'hl': False, 'armand': False, 'walking': False, 'daily': False, 'damn': False, 'vary': False, 'sed': False, '86021': False, 'aiyo': False, 'running': False, 'envelope': False, 'choice': False, 'brand': False, 'pleased': False, 'plenty': False, 'murder': False, 'exactly': False, 'internet': False, 'willing': False, 'num': False, 'feb': False, 'egg': False, 'decision': False, 'announcement': False, 'w45wq': False, 'norm150p/tone': False, 'become': False, 'died': False, 'track': False, 'pilate': False, 'usually': False, 'lead': False, 'vodafone': False, 'definitely': False, 'checked': False, 'ish': False, '09050090044': False, 'toclaim': False, 'pobox334': False, 'stockport': False, 'costå£1.50/pm': False, 'max10mins': False, 'putting': False, 'ttyl': False, 'surely': False, 'dint': False, 'inviting': False, '62468': False, 'simply': False, 'texting': False, '8th': False, 'timing': False, 'directly': False, 'joined': False, 'loverboy': False, '08712300220': False, 'standard': False, 'app': False, 'amazing': False, 'cancer': False, 'txtauction': False, 'added': False, 'fullonsms.com': False, 'team': False, 'earth': False, 'fetch': False, 'exciting': False, 'fb': False, 'raining': False, 'posted': False, 'tour': False, 'aiyah': False, 'wed': False, 'howz': False, 'tyler': False, 'zed': False, 'cc': False, 'power': False, 'created': False, 'except': False, 'arrange': False, 'wnt': False, 'gee': False, 'relax': False, 'ate': False, 'arm': False, 'joking': False, 'wats': False, 'hate': False, 'tncs': False, 'guide': False, 'nxt': False, 'cold': False, 'sipix': False, 'budget': False, 'married': False, 'marry': False, 'pobox84': False, 'sup': False, 'scream': False, 'contract': False, 'yay': False, 'don\\x89û÷t': False, 'title': False, 'fix': False, 'moan': False, '08707509020': False, '0870': False, 'campus': False, 'receipt': False, 'condition': False, 'matter': False, 'replied': False, 'tick': False, 'activate': False, 'common': True, 'asks': False, 'yun': False, 'bin': False, 'dropped': False, 'finger': False, '3rd': False, 'stopped': False, 'ringtones': False, 'season': False, 'tat': False, 'affection': False, 'thursday': False, 'remind': False, 'pissed': False, 'fool': False, 'l8r': False, 'cheaper': False, 'horrible': False, 'everybody': False, 'alert': False, 'derek': False, 'bye': False, 'ride': False, 'expecting': False, '*sighs*': False, 'living': False, 'å£400': False, 'purchase': False, 'sura': False, 'btw': False, 'wear': False, '80062': False, 'village': False, 'pa.': False, 'green': False, 'quote': False, 'cartoon': False, '25': False, 'meal': False, 'whether': False, '530': False, 'optout': False, 'eng': False, 'playing': False, 'sing': False, 'o2': False, 'energy': False, 'å£10': False, 'april': False, 'white': False, '1x150p/wk': False, 'score': False, 'hostel': False, 'subscriber': False, 'obviously': False, 'sonyericsson': False, 'hook': False, '11mths+': False, 'bitch': False, '2mrw': False, 'original': False, 'wet': False, 'boo': False, '\\\\hi': False, 'rem': False, 'yogasana': False, 'contacted': False, 'weak': False, 'unable': False, 'italian': False, 'scared': False, 'throw': False, 'sofa': False, 'ray': False, 'chinese': False, 'laid': False, 'body': False, 'thurs': False, 'yan': False, 'jiu': False, 'affair': False, 'revealed': False, \"''ok\": False, 'minuts': False, 'latr': False, 'surfing': False, 'competition': False, 'sam': False, 'day\\\\': False, 'searching': False, 'blessing': False, 'social': False, 'iam': False, 'friends..': False, 'unsub': False, 'site': False, 'travel': False, 'urgnt': False, 'realy': False, 'mths': False, 'intro': False, 'selling': False, 'transaction': False, 'google': False, 'interview': False, 'bf': False, 'hopefully': False, 'ignore': False, 'looked': False, 'english': False, 'appointment': False, 'sen': False, 'cbe': False, 'respond': False, 'island': False, 'airport': False, 'lie': False, 'vote': False, 'acc': False, 'gentle': False, 'note': False, 'uni': False, 'hug': False, 'vomit': False, 'totally': False, 'star': False, 'broke': False, 'amount': False, '3510i': False, 'nvm': False, 'polyphonic': False, 'subscription': False, 'centre': False, 'ok..': False, 'art': False, 'rd': False, 'row': False, 'pple': False, 'videophones': False, 'videochat': False, 'java': False, 'dload': False, 'noline': False, 'rentl': False, 'fren': False, 'basically': False, 'lik': False, 'asleep': False, 'alrite': False, 'voda': False, 'quoting': False, 'ru': False, 'cabin': False, 'vikky': False, 'bun': False, 'law': False, 'stylish': False, 'xchat': False, \"did't\": False, 'hill': False, 'random': False, 'nw': False, 'piece': False, 'flat': False, 'fighting': False, 'some1': False, 'aint': False, 'cafe': False, 'somethin': False, 'donåõt': False, 'ym': False, 'clock': False, 'ti': False, 'discus': False, 'belly': False, '08718720201': False, 'step': False, 'å£10,000': False, 'selection': False, 'advice': False, 'www.comuk.net': False, 'spook': False, 'eerie': False, 'bought': False, 'inclusive': False, 'ip4': False, '5we': False, 'hv': False, 'amt': False, 'stock': False, 'linerental': False, 'jazz': False, 'informed': False, 'december': False, 'arrested': False, 'brilliant': False, 'current': False, 'strong': False, 'city': False, 'euro2004': False, 'i\\x89û÷m': False, 'deliver': False, '[': False, ']': False, 'boring': False, 'pack': False, 'beer': False, 'waking': False, 'geeee': False, 'boston': False, '300': False, '*9': False, 'themob': False, 'jordan': False, 'seriously': False, '150p/tone': False, 'bowl': False, 'pongal': False, 'pobox36504w45wq': False, '28': False, 'listening': False, 'ran': False, 'lick': False, 'tt': False, 'website': False, \"did'nt\": False, 'thatåõs': False, 'freefone': False, '7th': False, '6th': False, '5th': False, 'personality': False, '\\\\ur': False, 'friendship\\\\': False, '-p': False, 'cream': False, '87121': False, 'vijay': False, '83600': False, 'bcums': False, 'seriously..': False, 'childish': False, 'kettoda': False, 'manda': False, 'handle': False, 'qatar': False, 'argue': False, 'released': False, 'spk': False, '\\\\a': False, 'meetin': False, 'wtf': False, 'oni': False, 'day..': False, 'series': False, 'url': False, 'er': False, 'followed': False, 'hanging': False, 'diet': False, 'yes..': False, '4get': False, '60p/min': False, 'lecture': False, 'fa': False, 'tkts': False, 'technical': False, 'career': False, 'def': False, '-d': False, 'afraid': False, '10am-7pm': False, 'theory': False, 'basic': False, 'dem': False, 'relation': False, 'yer': False, '84199': False, 'box39822': False, 'w111wx': False, 'blackberry': False, 'meanwhile': False, 'suite': False, 'shortly': False, 'sha': False, 'height': False, 'confidence': False, 'action': False, 'goal': False, 'three': False, 'today..': False, 'rude': False, '3d': False, 'www.ringtones.co.uk': False, '3gbp': False, 'deleted': False, 'wanting': False, 'i\\x89û÷ll': False, '250': False, 'bright': False, 'me.i': False, 'aiya': False, 'sheet': False, 'escape': False, 'ansr': False, '82277.': False, 'tyrone': False, 'bday': False, 'rush': False, 'gravity..': False, 'carefully': False, '\\\\our': False, 'it..\\\\': False, 'brain': False, 'regret': False, 'inform': False, 'easier': False, 'cat': False, 'radio': False, '786': False, 'unredeemed': False, 'belovd': False, 'enemy': False, 'roger': False, 'receiving': False, 'perfect': False, 'bay': False, '83355': False, 'blood.send': False, 'apparently': False, 'texted': False, 'yetunde': False, 'moji': False, 'seem': False, 'v.': False, 'six': False, '87575': False, 'wah': False, 'cooking': False, 'gorgeous': False, 'faster': False, 'bishan': False, 'infernal': False, 'purity': False, 'message..its': False, 'along': False, 'cleaning': False, '\\\\what': False, '7250i': False, 'row/w1jhl': False, 'mummy': False, 'bloody': False, 'blank': False, '02/06/03': False, '08712405020': False, 'favour': False, 'ibiza': False, 'ppm': False, '0808': False, '145': False, '4742': False, '9am-11pm': False, '8552': False, 'hun': False, '*kiss*': False, 'hunny': False, 'thts': False, 'takin': False, 'leona': False, 'addicted': False, 'forum': False, 'ppl': False, 'hols': False, 'aunty': False, '87131': False, 'jess': False, 'anyways': False, 'cross': False, 'ntwk': False, '08001950382': False, 'reveal': False, 'recd': False, 'cust': False, '87239': False, 'house-maid': False, 'january..': False, 'public': False, 'govt.instituitions': False, 'exact': False, 'bloke': False, 'bud': False, 'wc1n3xx': False, 'often': False, 'gram': False, 'purpose': False, 'tenant': False, 'refused': False, \"'help\": False, 'master': False, 'fifteen': False, 'becoz': False, 'unique': False, 'netcollex': False, 'å£4.50': False, 'dictionary': False, 'gently': False, 'received': False, 'package': False, 'lab': False, 'essential': False, 'celebrate': False, 'sight': False, 'spoken': False, 'penny': False, 'bear': False, 'idk': False, 'mono': False, 'bathing': False, 'delivered': False, 'hella': False, 'machan': False, 'intelligent': False, '6hrs': False, 'prepare': False, 'ordered': False, 'settled': False, '85': False, 'grand': False, 'msg*': False, 'rule': False, 'cw25wx': False, '11mths': False, 'february': False, 'taunton': False, 'practice': False, 'å£3': False, 'k..k': False, 'appt': False, 'shame': False, 'freak': False, 'grl': False, 'kano': False, 'window': False, 'porn': False, '50p': False, '3mins': False, 'truly': False, 'wall': False, 'preferably': False, 'aiyar': False, 'dare': False, 'played': False, 'understanding': False, '4t': False, 'tm': False, '*smiles*': False, 'raise': False, 'jada': False, 'kusruthi': False, 'spl': False, 'matured': False, 'reply..': False, 'happend': False, 'shoot': False, 'enjoyed': False, 'dirty': False, '=d': False, 'mite': False, 'tablet': False, 'passed': False, '08715705022': False, 'opt-out': False, 'skype': False, '150p/min': False, '*loving': False, 'smile*': False, 'allah': False, 'befor': False, 'activity': False, 'answering': False, 'iq': False, 'jst': False, 'cam': False, 'moby': False, 'attend': False, 'pod': False, 'bet': False, 'wkend': False, 'connect': False, 'biggest': False, 'solve': False, 'hip': False, 'profit': False, 'row/w1j6hl': False, 'brought': False, 'leg': False, 'login=': False, '3qxj9': False, '9ae': False, 'center': False, 'iz': False, 'throat': False, 'atlanta': False, 'drivin': False, 'waitin': False, 'credited': False, 'outta': False, 'assume': False, 'source': False, '1/2': False, 'loss': False, 'explain': False, 'kidz': False, 'screaming..': False, 'sofa..': False, 'remain': False, '08002986906': False, 'abi': False, 'process': False, 'urn': False, 'cud': False, 'weird': False, 'mmm': False, 'wud': False, 'supply': False, 'lonely': False, 'surprised': False, '542': False, 'fml': False, 'tuition': False, 'bahamas': False, 'bringing': False, 'lion': False, 'spending': False, 'sugar': False, 'talent': False, 'ac': False, 'seemed': False, 'ure': False, 'ai': False, 'www.ldew.com1win150ppmx3age16': False, 'ache': False, 'aunt': False, 'laughing': False, 'module': False, 'bx420': False, 'sore': False, 'rally': False, 'oz': False, 'yuo': False, 'tihs': False, 'largest': False, 'ec2a': False, '_': False, 'legal': False, 'm263uz': False, 'football': False, '150p/msgrcvdhg/suite342/2lands/row/w1j6hl': False, 'nyc': False, 'oru': False, 'twice': False, 'total': False, 'queen': False, 'careful': False, 'å£3/wk': False, 'teeth': False, 'teacher': False, 'quit': False, 'sooner': False, '5000': False, 'embarassed': False, 'txtin': False, '4info': False, 'advance..': False, '2optout': False, 'missing*': False, 'effect': False, 'k.k': False, 'mad': False, 'research': False, 'pig': False, 'pie': False, 'tb': False, 'santa': False, 'ron': False, 'temple': False, 'upto': False, 'dry': False, 'mumtaz': False, 'fever': False, 'losing': False, 'expect': False, 'considering': False, '09061221066': False, 'fromm': False, 'saved': False, 'bite': False, 'accidentally': False, 'wearing': False, 'vip': False, 'energy\\\\': False, 'seat': False, 'mac': False, 'flash': False, '\\\\its': False, 'jamster': False, 'audition': False, 'chillin': False, 'accident': False, 'lifetime': False, 'office..': False, 'hide': False, 'distance': False, 'impossible': False, 'speed': False, 'building': False, 'wise': False, 'speechless': False, 'cha': False, 'åð': False, 'lil': False, 'x\\\\': False, 'male': False, 'lock': False, 'rofl': False, 'follow': False, 'instruction': False, 'argh': False, 'painful': False, 'membership': False, 'storming': False, 'phne': False, '\\\\hello\\\\': False, 'wt': False, 'girl..': False, 'margaret': False, 'hello\\\\': False, 'girlfrnd': False, 'grahmbell': False, 'invnted': False, 'telphone': False, 'ummmmmaah': False, 'heart..': False, 'nat': False, 'greeting': False, '21st': False, '2005': False, 'onwards': False, 'sentence': False, 'concentrate': False, '2moro': False, 'jane': False, 'taken': False, 'we\\x89û÷re': False, 'randomly': False, 'program': False, 'comedy': False, 'loses': False, 'just..': False, 'vodka': False, 'lay': False, 'k.i': False, 'transfered': False, 'avatar': False, 'beauty': False, 'express': False, 'wn': False, '\\\\oh': False, 'giv': False, 'gossip': False, 'xxx\\\\': False, 'ben': False, 'stomach': False, 'xavier': False, '0': False, 'g.': False, 'plane': False, 'oreo': False, 'concert': False, 'sometime': False, 'arsenal': False, 'liverpool': False, 'shot': False, 'collecting': False, 'scary': False, 'okey': False, 'doggy': False, 'standing': False, 'macho': False, 'realize': False, '4mths': False, 'mobilesdirect': False, '08000938767': False, 'or2stoptxt': False, 'tscs': False, 'confirmed': False, 'american': False, 'callin': False, 'na-tuition..': False, '89555': False, 'textoperator': False, 'sorting': False, 'fear': False, 'eaten': False, 'soup': False, 'ic': False, 'booking': False, 'salary': False, 'shesil': False, 'hahaha..use': False, 'yor': False, '08717898035.': False, 'tog': False, 'invite': False, 'havin': False, 'shipping': False, '07xxxxxxxxx': False, 'day..u': False, 'dear1': False, 'best1': False, 'clos1': False, 'lvblefrnd': False, 'jstfrnd': False, 'cutefrnd': False, 'lifpartnr': False, 'swtheart': False, 'bstfrnd': False, 'butt': False, 'now..': False, 'reminder': False, 'esplanade': False, 'da..': False, 'celebration': False, 'min..': False, 'community': False, 'strike': False, 'ibhltd': False, 'ldnw15h': False, 'messenger': False, 'china': False, 'fuckin': False, 'maneesha': False, 'satisfied': False, 'toll': False, 'cleared': False, 'birla': False, 'soft': False, 'aathi..love': False, 'lot..': False, 'gentleman': False, 'dignity': False, 'respect': False, 'normally': False, 'upset': False, 'constantly': False, 'spell': False, 'aathi..where': False, 'wedding': False, 'provided': False, 'valuable': False, 'alcohol': False, 'ranjith': False, '5min': False, 'å£1450': False, 'cs/stop': False, 'slipper': False, 'chill': False, 'atm': False, 'register': False, 'flaked': False, 'di': False, 'box97n7qp': False, 'subscribed': False, '84128': False, '80082': False, 'raji..pls': False, 'nimya': False, 'swimming': False, 'shelf': False, 'math': False, '434': False, 'sk3': False, '8wp': False, 'u4': False, 'parked': False, 'popped': False, 'advance': False, '88039': False, 'skilgme': False, '2000': False, 'opportunity': False, 'xxx.\\\\': False, 'outstanding': False, 'box95qu': False, 'hardcore': False, 'morn': False, 'wife.how': False, 'msging': False, 'oic': False, 'quickly': False, 'settle': False, 'mall': False, 'bottom': False, 'paris': False, 'knowing': False, '0845': False, 'dress': False, 'eight': False, 'jason': False, '1.50': False, 'regarding': False, 'successfully': False, 'office..understand': False, 'magical': False, 'chain': False, 'violence': False, 'foot': False, 'executive': False, 'home..': False, 'clear': False, 'responding': False, 'apologise': False, 'carry': False, 'nearly': False, 'iscoming': False, '121': False, 'stress': False, 'fair': False, 'railway': False, 'å£75,000': False, 'homeowner': False, 'previously': False, '1956669': False, 'beyond': False, 'sum1': False, 'jesus': False, 'passionate': False, 'screen': False, 'hand..': False, 'interesting..': False, 'bar': False, 'finishing': False, 'chasing': False, 'sept': False, 'blame': False, 'login': False, 'four': False, 'death': False, 'stupid.its': False, 'newest': False, 'among': False, 'january': False, 'natural': False, 'thanksgiving': False, 'tree': False, 'challenge': False, 'genuine': False, 'www.100percent-real.com': False, '200': False, 'valid12hrs': False, 'tomarrow': False, 'prospect': False, 'display': False, 'ikea': False, 'ear': False, 'sn': False, 'garage': False, 'germany': False, '\\\\be': False, '2stoptxt': False, 'boat': False, 'toa': False, 'payoh': False, 'returned': False, 'nichols': False, 'middle': False, 'seven': False, 'honeybee': False, '*i': False, 'sweetest': False, 'world*': False, 'laughed': False, '*wait': False, 'havnt': False, 'crack': False, 'gm+gn+ge+gn': False, 'shld': False, 'cramp': False, 'abta': False, '4.50': False, 'previous': False, 'dearer': False, 'u': False, 'moved': False, 'tape': False, '09063458130': False, 'polyph': False, 'remembered': False, 'shorter': False, 'that\\x89û÷s': False, 'monkey': False, 'unsold': False, 'blow': False, 'skip': False, 'stuck': False, 'generally': False, 'goodnite': False, 'chechi': False, 'possession': False, 'frnds..': False, '2morrow': False, 'adore': False, 'forevr': False, 'guilty': False, 'cock': False, 'hubby': False, 'tirupur': False, 'supervisor': False, 'female': False, 'buzy': False, 'bigger': False, 'prefer': False, 'welp': False, 'fan': False, 'norm': False, 'voicemail': False, 'iåõm': False, 'tease': False, 'history': False, 'opening': False, 'ì©': False, '900': False, 'mi': False, 'rakhesh': False, 'diamond': False, 'romantic': False, '9ja': False, 'hint': False, 'l': False, 'fightng': False, 'dificult': False, 'hg/suite342/2lands/row/w1j6hl': False, 'calls..messages..missed': False, 'billed': False, 'addie': False, 'caring': False, 'certainly': False, 'bat': False, 'prey': False, 'yummy': False, 'lip': False, 'teasing': False, 'juicy': False, 'evn': False, 'itz': False, 'alwys': False, '82242': False, 'inning': False, 'erm': False, 'business': False, 'chicken': False, 'calicut': False, 'husband': False, 'successful': False, '80182': False, '08452810073': False, 'warner': False, 'closer': False, 'august': False, 'alfie': False, 'm8s': False, 'nokias': False, '08701417012': False, 'fathima': False, 'str': False, 'ok.ok': False, 'ok..then..whats': False, 'drinking': False, 'frying': False, 'it\\x89û÷s': False, 'likely': False, 'floor': False, 'burn': False, '08702840625.comuk': False, '220-cm2': False, 'philosophy': False, 'sleeping..and': False, 'gim': False, 'halloween': False, 'se': False, 'ham': False, 'fingers..': False, 'chosen': False, 'fran': False, 'dearly': False, 'event': False, 'dot': False, '84025': False, 'madam': False, '80878': False, 'haiz': False, 'wind': False, 'lounge': False, 'advise': False, 'recent': False, 'å£1500': False, 'bmw': False, 'urgently..its': False, 'urgent.but': False, 'shortage': False, 'lacs.there': False, 'arng': False, 'lacs..thats': False, 'dubsack': False, 'downloads': False, 'upload': False, 'temp': False, 'rang': False, 'sorted': False, 'sight..': False, 'maintain': False, 'ends..': False, '45239': False, 'touched': False, '6months': False, 'questioned': False, '4.cook': False, '5.gardener': False, 'vegetable': False, '6.house-maid': False, '7.children': False, '8.neighbour': False, 't-mobile': False, 'beware': False, 'blake': False, 'in2': False, 'dai': False, 'exe': False, 'failed': False, 'claire': False, 'apps': False, 'bottle': False, 'maxå£7': False, 'euro': False, '83222': False, 'prabha..i': False, 'soryda..realy..frm': False, 'sory': False, 'missin': False, 'pull': False, 'form': False, 'arun': False, 'count': False, 'push': False, 'snake': False, 'buff': False, 'force': False, 'bell': False, 'dresser': False, 'james': False, 'freezing': False, 'aah': False, 'cruise': False, '18+only': False, 'map': False, 'shut': False, 'taylor': False, 'management': False, 'booty': False, 'monthly': False, 'journey': False, '2u': False, 'roast': False, 'jealous': False, 'medicine': False, 'transfer': False, 'citizen': False, '125gift': False, 'boye': False, 'major': False, 'usual..iam': False, 'well..': False, 'captain': False, 'nan': False, '*teasing': False, 'walked': False, '10k': False, 'drunk': False, 'headache': False, 'mini': False, 'smart': False, 'lido': False, 'walmart': False, 'mile': False, 'rich': False, 'regular': False, 'saucy': False, 'ese': False, 'msg..': False, 'dreams..': False, 'brothas': False, 'morphine': False, 'dark': False, 'option': False, 'lousy': False, 'blah': False, '18yrs': False, 'realized': False, 'handed': False, 'various': False, 'gona': False, '***********': False, 'symbol': False, \"'melle\": False, 'melle': False, 'minnaminunginte': False, 'nurungu': False, 'vettam': False, 'fit': False, 'spanish': False, 'xuhui': False, 'fee': False, 'university': False, 'celeb': False, 'pocketbabe.co.uk': False, 'lotr': False, '81303': False, 'smoking': False, 'callback': False, '88600': False, 'spring': False, '114/14': False, 'tcr/w1': False, 'measure': False, 'table': False, 'stranger': False, 'gary': False, 'ptbo': False, 'postcode': False, 'understood': False, 'auto': False, 'wale': False, 'scotland': False, 'bein': False, 'chatting': False, 'thangam': False, \"'til\": False, 'cornwall': False, '\\\\x\\\\': False, '89545': False, 'å£1': False, 'www.4-tc.biz': False, '087187262701.50gbp/mtmsg18': False, 'sender': False, 'mmmm': False, 'foreign': False, 'stamp': False, 's.i.m': False, '2morow': False, 'bro': False, 'greet': False, 'pop': False, 'elsewhere': False, 'helen': False, 'wylie': False, 'avent': False, '09066612661': False, 'spare': False, 'winning': False, 'value': False, '30': False, 'church..': False, 'fell': False, 'knackered': False, 'today-sunday..sunday': False, 'holiday..so': False, 'work..': False, 'slap': False, 'tessy..pls': False, 'favor': False, 'nimya..pls': False, 'shijas': False, 'cuddle': False, 'message..no': False, 'responce..what': False, 'reality': False, 'anti': False, 'shouted': False, 'include': False, 'anythin': False, 'pink': False, 'k52': False, '09061209465': False, 'suprman': False, 'matrix3': False, 'starwars3': False, 'bx420-ip4-5we': False, 'idiot': False, 'caught': False, 'error': False, 'kill': False, 'prolly': False, 'proof': False, 'payment': False, 'stone': False, 'anywhere': False, 'karaoke': False, 'slice': False, 'dave': False, 'virgin': False, 'diff': False, 'responsibility': False, 'market': False, 'repair': False, 'gang': False, 'tsunami': False, 'ne': False, 'm26': False, '3uz': False, 'position': False, 'vava': False, 'chart': False, 'tom': False, 'favourite': False, 'burger': False, 'upgrade': False, 'july': False, 'cardiff': False, '09061790121': False, 'jan': False, 'cn': False, 'dick': False, 'collected': False, 'verify': False, 'thm': False, 'suggest': False, 'remains': False, 'bros': False, 'june': False, 'gudnite': False, 'farm': False, 'behave': False, 'birth': False, 'fish': False, 'subpoly': False, 'california': False, 'born': False, 'pg': False, 'dislike': False, 'kadeem': False, 'catching': False, 'deliveredtomorrow': False, '*pouts*': False, '*stomps': False, 'feet*': False, 'iouri': False, 'sh': False, 'fave': False, '09066362231': False, 'bloo': False, '80488': False, 'needed': False, 'terrible': False, '88066': False, 'software': False, 'suntec': False, 'exhausted': False, 'potential': False, '87021': False, 'boost': False, 'instantly': False, 'ubi': False, 'footprint': False, 'avoid': False, 'beloved': False, 'protect': False, 'e-threats': False, 'sib': False, 'sensitive': False, 'atm/sms': False, 'twenty': False, 'permission': False, 'usb': False, '2geva': False, 'xxxx': False, 'necessary': False, 'cheese': False, '08006344447': False, 'shy': False, '88888': False, '16+only': False, 'jacket': False, 'shining': False, 'reserve': False, 'tirunelvali': False, 'indicate': False, 'eurodisinc': False, 'trav': False, 'aco': False, 'entry41': False, '18+6*å£1.50': False, 'morefrmmob': False, 'shracomorsglsuplt': False, 'ls1': False, '3aj': False, 'discussed': False, 'custcare:08718720201': False, 'ashley': False, 'alive': False, 'breathe': False, '4d': False, 'doubt': False, 'cashto': False, '08000407165': False, 'getstop': False, '88222': False, 'php': False, 'crisis': False, 'edison': False, 'rightly': False, 'answer\\\\': False, 'viva..': False, 'gm': False, 'thx': False, 'brah': False, '08709222922': False, '1.5p/min': False, '7.8p/min': False, 'peak': False, 'success': False, 'low': False, 'jokin': False, '5..': False, '69888': False, 'massage': False, 'sum': False, 'didn\\x89û÷t': False, 'exhaust': False, 'drinkin': False, 'cm': False, 'thought-': False, 'å£100,000': False, 'jackpot': False, '81010': False, 'www.dbuk.net': False, 'lccltd': False, '4403ldnw1a7rw18': False, 'feelin': False, 'wuld': False, 'nuther': False, 'cherish': False, 'sticky': False, 'everyday': False, 'cheat': False, 'charles': False, 'xin': False, 'lib': False, 'consider': False, 'tee': False, '08452810075over18': False, '\\\\because': False, 'educational': False, 'here..\\\\': False, 'switch': False, 'recovery': False, 'function': False, 'uh': False, 'callså£1/minmoremobsemspobox45po139wa': False, 'networking': False, 'maga': False, 'jolly': False, 'reverse': False, 'cheating': False, 'mathematics': False, 'loyal': False, '09066380611': False, 'lyfu': False, 'chikku..': False, 'lyf': False, 'ke': False, 'meow': False, 'northampton': False, 'skyped': False, 'kz': False, 'given': False, 'ultimatum': False, 'countin': False, 'aburo': False, 'cutting': False, 'mesages': False, 'jogging': False, 'fucked': False, '630': False, '//www.e-tlp.co.uk/expressoffer': False, 'accordingly': False, 'tahan': False, 'anot': False, 'thousand': False, 'jerry': False, 'irritates': False, 'fails': False, 'nap': False, 'quiet': False, 'nothin': False, 'eveb-': False, 'dock': False, 'paragon': False, 'shoppin': False, 'warning': False, '69698': False, 'causing': False, 'outage': False, 'e.': False, '83383': False, 'aeronautics': False, 'professor': False, 'calld': False, 'aeroplane': False, 'hurried': False, 'plane..': False, '\\\\if': False, 'clearly': False, '80608': False, 'www.movietrivia.tv': False, '08712405022': False, 'henry': False, 'gf': False, 'hrishi': False, 'annoying': False, 'shocking': False, 'crash': False, 'taxi': False, 'tomorro': False, '*deep': False, 'sigh*': False, 'delhi': False, 'complaint': False, 'capital': False, 'dokey': False, 'agree': False, 'ipad': False, 'dumb': False, 'nasty': False, 'slo': False, 'deus': False, 'www.idew.com': False, 'skillgame': False, '1winaweek': False, '150ppermesssubscription': False, 'schedule': False, 'elaine': False, 'reckon': False, 'jen': False, 'imp': False, 'funk': False, 'tones2u': False, 'kent': False, 'vale': False, 'tension': False, 'infront': False, 'g696ga': False, 'british': False, 'sw73ss': False, 'arent': False, 'messaged': False, 'necklace': False, 'properly': False, 'kavalan': False, 'tortilla': False, 'algarve': False, '88877': False, 'www.textcomp.com': False, '2morro': False, 'lotta': False, 'transport': False, 'definite': False, 'slip': False, 'flowing': False, 'guessing': False, 'silver': False, 'nd': False, 'parco': False, 'nb': False, 'pobox45w2tg150p': False, 'sucker': False, 'inconsiderate': False, 'nag': False, 'recession': False, 'hence': False, 'specific': False, 'gender': False, 'item': False, '2wks': False, 'lag': False, 'loud': False, 'nitros': False, 'hang': False, 'cooked': False, 'wat..': False, 'downloaded': False, '21': False, 'jiayin': False, 'filling': False, 'odi': False, 'cliff': False, 'epsilon': False, 'japanese': False, 'proverb': False, 'toot': False, 'prepared': False, '150p/mtmsgrcvd18': False, 'mca': False, 'conform': False, 'airtel': False, 'rhythm': False, 'cancelled': False, 'pattern': False, 'crap': False, '20,000': False, 'csh11': False, '150p/day': False, '6days': False, 'tsandcs': False, 'serving': False, 'desperate': False, 'puttin': False}, 'ham') \n",
      "\n"
     ]
    }
   ],
   "source": [
    "#implementing the find_features function defined above on all messages\n",
    "featuresets = [(find_features(msg), type) for (msg, type) in all_messages]\n",
    "\n",
    "print(featuresets[0], \"\\n\") #is the same as\n",
    "#print(find_features(all_messages[0][0]))"
   ]
  },
  {
   "cell_type": "code",
   "execution_count": 412,
   "metadata": {
    "collapsed": true
   },
   "outputs": [],
   "source": [
    "#set that we'll train our classifier with\n",
    "training_set = featuresets[:4000]\n",
    "\n",
    "#set that we'll test against\n",
    "#message #4000 to #5572\n",
    "testing_set = featuresets[4000:]"
   ]
  },
  {
   "cell_type": "code",
   "execution_count": 413,
   "metadata": {
    "collapsed": true
   },
   "outputs": [],
   "source": [
    "#Naive Bayes Classifier is popular machine learning algorithm for text classification\n",
    "#reminder that this is supervised machine learning\n",
    "#because we are feeding the computer already classified data before\n",
    "#testing it on another set of data\n",
    "classifier = nltk.NaiveBayesClassifier.train(training_set)"
   ]
  },
  {
   "cell_type": "code",
   "execution_count": 414,
   "metadata": {
    "collapsed": false
   },
   "outputs": [
    {
     "name": "stdout",
     "output_type": "stream",
     "text": [
      "Classifier accuracy percent: 98.85496183206108\n"
     ]
    }
   ],
   "source": [
    "print(\"Classifier accuracy percent:\",(nltk.classify.accuracy(classifier, testing_set))*100)"
   ]
  },
  {
   "cell_type": "code",
   "execution_count": 415,
   "metadata": {
    "collapsed": false
   },
   "outputs": [
    {
     "name": "stdout",
     "output_type": "stream",
     "text": [
      "Most Informative Features\n",
      "                landline = True             spam : ham    =    121.0 : 1.0\n",
      "                 voucher = True             spam : ham    =     99.8 : 1.0\n",
      "                   nokia = True             spam : ham    =     82.8 : 1.0\n",
      "                      uk = True             spam : ham    =     74.3 : 1.0\n",
      "                delivery = True             spam : ham    =     65.8 : 1.0\n",
      "                   await = True             spam : ham    =     65.8 : 1.0\n",
      "                 attempt = True             spam : ham    =     65.8 : 1.0\n",
      "                   apply = True             spam : ham    =     65.0 : 1.0\n",
      "                 service = True             spam : ham    =     63.1 : 1.0\n",
      "                     txt = True             spam : ham    =     62.8 : 1.0\n",
      "                    rate = True             spam : ham    =     62.4 : 1.0\n",
      "                   video = True             spam : ham    =     59.9 : 1.0\n",
      "                  camera = True             spam : ham    =     57.3 : 1.0\n",
      "                 content = True             spam : ham    =     53.1 : 1.0\n",
      "                   music = True             spam : ham    =     48.8 : 1.0\n"
     ]
    }
   ],
   "source": [
    "classifier.show_most_informative_features(15)\n",
    "#shows ratio of occurences in spam to ham for the most valuable word features"
   ]
  },
  {
   "cell_type": "code",
   "execution_count": 417,
   "metadata": {
    "collapsed": true
   },
   "outputs": [],
   "source": [
    "#finally, you can save your classifiers with the pickle module\n",
    "import pickle\n",
    "\n",
    "with open(\"naivebayes.pickle\",\"wb\") as f:\n",
    "    pickle.dump(classifier, f)\n",
    "    \n",
    "with open(\"naivebayes.pickle\",\"rb\") as f:\n",
    "    classifier2 = pickle.load(f)"
   ]
  },
  {
   "cell_type": "code",
   "execution_count": 418,
   "metadata": {
    "collapsed": false
   },
   "outputs": [
    {
     "name": "stdout",
     "output_type": "stream",
     "text": [
      "Classifier accuracy percent: 98.85496183206108\n"
     ]
    }
   ],
   "source": [
    "print(\"Classifier accuracy percent:\",(nltk.classify.accuracy(classifier2, testing_set))*100)"
   ]
  },
  {
   "cell_type": "markdown",
   "metadata": {},
   "source": [
    "* https://github.com/nltk/nltk_book/issues/338\n",
    "* http://stackoverflow.com/questions/19373296/consequences-of-abusing-nltks-word-tokenizesent\n",
    "* http://stackoverflow.com/questions/35345761/python-re-split-vs-nltk-word-tokenize-and-sent-tokenize\n",
    "* http://www.nltk.org/api/nltk.tokenize.html\n",
    "* http://www.nltk.org/book/ch03.html"
   ]
  },
  {
   "cell_type": "code",
   "execution_count": null,
   "metadata": {
    "collapsed": true
   },
   "outputs": [],
   "source": []
  }
 ],
 "metadata": {
  "kernelspec": {
   "display_name": "Python 3",
   "language": "python",
   "name": "python3"
  },
  "language_info": {
   "codemirror_mode": {
    "name": "ipython",
    "version": 3
   },
   "file_extension": ".py",
   "mimetype": "text/x-python",
   "name": "python",
   "nbconvert_exporter": "python",
   "pygments_lexer": "ipython3",
   "version": "3.6.0"
  }
 },
 "nbformat": 4,
 "nbformat_minor": 2
}
