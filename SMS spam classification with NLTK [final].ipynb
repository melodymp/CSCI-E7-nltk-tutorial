{
 "cells": [
  {
   "cell_type": "markdown",
   "metadata": {},
   "source": [
    "### Goal: classify SMS messages as spam or ham using a NLTK Naive Bayes Classifer"
   ]
  },
  {
   "cell_type": "code",
   "execution_count": 1,
   "metadata": {
    "collapsed": true
   },
   "outputs": [],
   "source": [
    "#import the Natural Language Toolkit module\n",
    "import nltk\n",
    "\n",
    "#import pandas module\n",
    "import pandas as pd"
   ]
  },
  {
   "cell_type": "code",
   "execution_count": 2,
   "metadata": {
    "collapsed": false
   },
   "outputs": [
    {
     "name": "stdout",
     "output_type": "stream",
     "text": [
      "<class 'pandas.core.frame.DataFrame'>\n"
     ]
    },
    {
     "data": {
      "text/html": [
       "<div>\n",
       "<table border=\"1\" class=\"dataframe\">\n",
       "  <thead>\n",
       "    <tr style=\"text-align: right;\">\n",
       "      <th></th>\n",
       "      <th>v1</th>\n",
       "      <th>v2</th>\n",
       "      <th>Unnamed: 2</th>\n",
       "      <th>Unnamed: 3</th>\n",
       "      <th>Unnamed: 4</th>\n",
       "    </tr>\n",
       "  </thead>\n",
       "  <tbody>\n",
       "    <tr>\n",
       "      <th>0</th>\n",
       "      <td>ham</td>\n",
       "      <td>Go until jurong point, crazy.. Available only ...</td>\n",
       "      <td>NaN</td>\n",
       "      <td>NaN</td>\n",
       "      <td>NaN</td>\n",
       "    </tr>\n",
       "    <tr>\n",
       "      <th>1</th>\n",
       "      <td>ham</td>\n",
       "      <td>Ok lar... Joking wif u oni...</td>\n",
       "      <td>NaN</td>\n",
       "      <td>NaN</td>\n",
       "      <td>NaN</td>\n",
       "    </tr>\n",
       "    <tr>\n",
       "      <th>2</th>\n",
       "      <td>spam</td>\n",
       "      <td>Free entry in 2 a wkly comp to win FA Cup fina...</td>\n",
       "      <td>NaN</td>\n",
       "      <td>NaN</td>\n",
       "      <td>NaN</td>\n",
       "    </tr>\n",
       "    <tr>\n",
       "      <th>3</th>\n",
       "      <td>ham</td>\n",
       "      <td>U dun say so early hor... U c already then say...</td>\n",
       "      <td>NaN</td>\n",
       "      <td>NaN</td>\n",
       "      <td>NaN</td>\n",
       "    </tr>\n",
       "    <tr>\n",
       "      <th>4</th>\n",
       "      <td>ham</td>\n",
       "      <td>Nah I don't think he goes to usf, he lives aro...</td>\n",
       "      <td>NaN</td>\n",
       "      <td>NaN</td>\n",
       "      <td>NaN</td>\n",
       "    </tr>\n",
       "  </tbody>\n",
       "</table>\n",
       "</div>"
      ],
      "text/plain": [
       "     v1                                                 v2 Unnamed: 2  \\\n",
       "0   ham  Go until jurong point, crazy.. Available only ...        NaN   \n",
       "1   ham                      Ok lar... Joking wif u oni...        NaN   \n",
       "2  spam  Free entry in 2 a wkly comp to win FA Cup fina...        NaN   \n",
       "3   ham  U dun say so early hor... U c already then say...        NaN   \n",
       "4   ham  Nah I don't think he goes to usf, he lives aro...        NaN   \n",
       "\n",
       "  Unnamed: 3 Unnamed: 4  \n",
       "0        NaN        NaN  \n",
       "1        NaN        NaN  \n",
       "2        NaN        NaN  \n",
       "3        NaN        NaN  \n",
       "4        NaN        NaN  "
      ]
     },
     "execution_count": 2,
     "metadata": {},
     "output_type": "execute_result"
    }
   ],
   "source": [
    "#download the SMS spam collection datasets from \n",
    "#https://www.kaggle.com/uciml/sms-spam-collection-dataset\n",
    "#import it as a pandas dataframe for straightforward manipulation\n",
    "sms_dataset = pd.read_csv(\"SMS_dataset.csv\", encoding=\"latin-1\")\n",
    "print(type(sms_dataset))\n",
    "\n",
    "#this shows the top 5 rows of our dataframe as well as headers and index\n",
    "sms_dataset.head()"
   ]
  },
  {
   "cell_type": "code",
   "execution_count": 3,
   "metadata": {
    "collapsed": false
   },
   "outputs": [
    {
     "data": {
      "text/html": [
       "<div>\n",
       "<table border=\"1\" class=\"dataframe\">\n",
       "  <thead>\n",
       "    <tr style=\"text-align: right;\">\n",
       "      <th></th>\n",
       "      <th>v1</th>\n",
       "      <th>v2</th>\n",
       "      <th>Unnamed: 2</th>\n",
       "      <th>Unnamed: 3</th>\n",
       "      <th>Unnamed: 4</th>\n",
       "    </tr>\n",
       "  </thead>\n",
       "  <tbody>\n",
       "    <tr>\n",
       "      <th>5567</th>\n",
       "      <td>spam</td>\n",
       "      <td>This is the 2nd time we have tried 2 contact u...</td>\n",
       "      <td>NaN</td>\n",
       "      <td>NaN</td>\n",
       "      <td>NaN</td>\n",
       "    </tr>\n",
       "    <tr>\n",
       "      <th>5568</th>\n",
       "      <td>ham</td>\n",
       "      <td>Will Ì_ b going to esplanade fr home?</td>\n",
       "      <td>NaN</td>\n",
       "      <td>NaN</td>\n",
       "      <td>NaN</td>\n",
       "    </tr>\n",
       "    <tr>\n",
       "      <th>5569</th>\n",
       "      <td>ham</td>\n",
       "      <td>Pity, * was in mood for that. So...any other s...</td>\n",
       "      <td>NaN</td>\n",
       "      <td>NaN</td>\n",
       "      <td>NaN</td>\n",
       "    </tr>\n",
       "    <tr>\n",
       "      <th>5570</th>\n",
       "      <td>ham</td>\n",
       "      <td>The guy did some bitching but I acted like i'd...</td>\n",
       "      <td>NaN</td>\n",
       "      <td>NaN</td>\n",
       "      <td>NaN</td>\n",
       "    </tr>\n",
       "    <tr>\n",
       "      <th>5571</th>\n",
       "      <td>ham</td>\n",
       "      <td>Rofl. Its true to its name</td>\n",
       "      <td>NaN</td>\n",
       "      <td>NaN</td>\n",
       "      <td>NaN</td>\n",
       "    </tr>\n",
       "  </tbody>\n",
       "</table>\n",
       "</div>"
      ],
      "text/plain": [
       "        v1                                                 v2 Unnamed: 2  \\\n",
       "5567  spam  This is the 2nd time we have tried 2 contact u...        NaN   \n",
       "5568   ham              Will Ì_ b going to esplanade fr home?        NaN   \n",
       "5569   ham  Pity, * was in mood for that. So...any other s...        NaN   \n",
       "5570   ham  The guy did some bitching but I acted like i'd...        NaN   \n",
       "5571   ham                         Rofl. Its true to its name        NaN   \n",
       "\n",
       "     Unnamed: 3 Unnamed: 4  \n",
       "5567        NaN        NaN  \n",
       "5568        NaN        NaN  \n",
       "5569        NaN        NaN  \n",
       "5570        NaN        NaN  \n",
       "5571        NaN        NaN  "
      ]
     },
     "execution_count": 3,
     "metadata": {},
     "output_type": "execute_result"
    }
   ],
   "source": [
    "#this shows the last 5 rows of our dataframe as well as headers and index\n",
    "sms_dataset.tail()"
   ]
  },
  {
   "cell_type": "code",
   "execution_count": 4,
   "metadata": {
    "collapsed": false
   },
   "outputs": [
    {
     "data": {
      "text/html": [
       "<div>\n",
       "<table border=\"1\" class=\"dataframe\">\n",
       "  <thead>\n",
       "    <tr style=\"text-align: right;\">\n",
       "      <th></th>\n",
       "      <th>v1</th>\n",
       "      <th>v2</th>\n",
       "    </tr>\n",
       "  </thead>\n",
       "  <tbody>\n",
       "    <tr>\n",
       "      <th>0</th>\n",
       "      <td>ham</td>\n",
       "      <td>Go until jurong point, crazy.. Available only ...</td>\n",
       "    </tr>\n",
       "    <tr>\n",
       "      <th>1</th>\n",
       "      <td>ham</td>\n",
       "      <td>Ok lar... Joking wif u oni...</td>\n",
       "    </tr>\n",
       "    <tr>\n",
       "      <th>2</th>\n",
       "      <td>spam</td>\n",
       "      <td>Free entry in 2 a wkly comp to win FA Cup fina...</td>\n",
       "    </tr>\n",
       "    <tr>\n",
       "      <th>3</th>\n",
       "      <td>ham</td>\n",
       "      <td>U dun say so early hor... U c already then say...</td>\n",
       "    </tr>\n",
       "    <tr>\n",
       "      <th>4</th>\n",
       "      <td>ham</td>\n",
       "      <td>Nah I don't think he goes to usf, he lives aro...</td>\n",
       "    </tr>\n",
       "  </tbody>\n",
       "</table>\n",
       "</div>"
      ],
      "text/plain": [
       "     v1                                                 v2\n",
       "0   ham  Go until jurong point, crazy.. Available only ...\n",
       "1   ham                      Ok lar... Joking wif u oni...\n",
       "2  spam  Free entry in 2 a wkly comp to win FA Cup fina...\n",
       "3   ham  U dun say so early hor... U c already then say...\n",
       "4   ham  Nah I don't think he goes to usf, he lives aro..."
      ]
     },
     "execution_count": 4,
     "metadata": {},
     "output_type": "execute_result"
    }
   ],
   "source": [
    "#as you probably noticed, we have three columns at the end\n",
    "#called \"Unnamed: 2\" - \"Unnamed: 4\" that do not contain important data\n",
    "#and so we will clean up the dataframe further by removing those columns\n",
    "sms_dataset.drop([\"Unnamed: 2\",\"Unnamed: 3\",\"Unnamed: 4\"], axis = 1, inplace = True)\n",
    "#the default axis is 0, which is the index column\n",
    "\n",
    "sms_dataset.head()"
   ]
  },
  {
   "cell_type": "code",
   "execution_count": 5,
   "metadata": {
    "collapsed": false
   },
   "outputs": [
    {
     "data": {
      "text/html": [
       "<div>\n",
       "<table border=\"1\" class=\"dataframe\">\n",
       "  <thead>\n",
       "    <tr style=\"text-align: right;\">\n",
       "      <th></th>\n",
       "      <th>sms_type</th>\n",
       "      <th>message</th>\n",
       "    </tr>\n",
       "  </thead>\n",
       "  <tbody>\n",
       "    <tr>\n",
       "      <th>0</th>\n",
       "      <td>ham</td>\n",
       "      <td>Go until jurong point, crazy.. Available only ...</td>\n",
       "    </tr>\n",
       "    <tr>\n",
       "      <th>1</th>\n",
       "      <td>ham</td>\n",
       "      <td>Ok lar... Joking wif u oni...</td>\n",
       "    </tr>\n",
       "    <tr>\n",
       "      <th>2</th>\n",
       "      <td>spam</td>\n",
       "      <td>Free entry in 2 a wkly comp to win FA Cup fina...</td>\n",
       "    </tr>\n",
       "    <tr>\n",
       "      <th>3</th>\n",
       "      <td>ham</td>\n",
       "      <td>U dun say so early hor... U c already then say...</td>\n",
       "    </tr>\n",
       "    <tr>\n",
       "      <th>4</th>\n",
       "      <td>ham</td>\n",
       "      <td>Nah I don't think he goes to usf, he lives aro...</td>\n",
       "    </tr>\n",
       "  </tbody>\n",
       "</table>\n",
       "</div>"
      ],
      "text/plain": [
       "  sms_type                                            message\n",
       "0      ham  Go until jurong point, crazy.. Available only ...\n",
       "1      ham                      Ok lar... Joking wif u oni...\n",
       "2     spam  Free entry in 2 a wkly comp to win FA Cup fina...\n",
       "3      ham  U dun say so early hor... U c already then say...\n",
       "4      ham  Nah I don't think he goes to usf, he lives aro..."
      ]
     },
     "execution_count": 5,
     "metadata": {},
     "output_type": "execute_result"
    }
   ],
   "source": [
    "#next, let's rename \"v1\" and \"v2\" headers to something more meaningful\n",
    "sms_dataset = sms_dataset.rename(columns = {\"v1\":\"sms_type\",\"v2\":\"message\"})\n",
    "sms_dataset.head()"
   ]
  },
  {
   "cell_type": "code",
   "execution_count": 6,
   "metadata": {
    "collapsed": false
   },
   "outputs": [
    {
     "name": "stdout",
     "output_type": "stream",
     "text": [
      "5572 \n",
      "\n",
      "Go until jurong point, crazy.. Available only in bugis n great world la e buffet... Cine there got amore wat...\n",
      "<class 'str'>\n",
      "ham\n",
      "<class 'str'>\n"
     ]
    }
   ],
   "source": [
    "print(len(sms_dataset.index), \"\\n\")\n",
    "#so we have 5572 SMS messages in this dataframe\n",
    "\n",
    "print(sms_dataset.loc[0][\"message\"])\n",
    "print(type(sms_dataset.loc[0][\"message\"]))\n",
    "\n",
    "print(sms_dataset.loc[5571][\"sms_type\"])\n",
    "print(type(sms_dataset.loc[5571][\"sms_type\"]))\n",
    "#the data in both sms_type and message columns are strings"
   ]
  },
  {
   "cell_type": "code",
   "execution_count": 7,
   "metadata": {
    "collapsed": false
   },
   "outputs": [
    {
     "name": "stdout",
     "output_type": "stream",
     "text": [
      "{'because', 'very', 'a', 'you', 'themselves', 'by', 'for', 'below', 'here', 'the', 'than', 'into', 'it', 'u', 'as', 'are', 'now', 'himself', 'we', 'have', 'am', 'this', 'don', 'then', 'same', 'll', 'shouldn', 'most', 'when', 'ain', 'just', 'yourselves', 'which', 's', 'mightn', 'doing', 'before', 'through', 'o', 'out', 'while', 'there', 'about', 'further', 'his', 'above', 'under', 'all', 'too', 'y', 'him', 'didn', 'again', 'why', 'more', 'haven', 'an', 'does', 'has', 'ours', 'with', 'from', 'weren', 'couldn', 'after', 'down', 'she', 'until', 'off', 'such', 'how', 'yourself', 'only', 'so', 'should', 'were', 'being', 'on', 'your', 'me', 'over', 'at', 've', 'd', 'who', 'those', 're', 'that', 'been', 'their', 'if', 'her', 'be', 'to', 'any', 'not', 'mustn', 'in', 'is', 'no', 'needn', 'aren', 'other', 'or', 'shan', 'ma', 'ourselves', 'what', 'theirs', 'wasn', 'its', 'some', 'wouldn', 'having', 'was', 'where', 'isn', 'during', 'doesn', 'and', 'hadn', 'he', 'hers', 'can', 'once', 'nor', 'they', 'few', 'i', 'them', 'did', 'myself', 't', 'had', 'but', 'whom', 'yours', 'own', 'of', 'up', 'each', 'won', 'between', 'these', 'our', 'against', 'm', 'both', 'hasn', 'my', 'herself', 'will', 'itself', 'do'}\n"
     ]
    }
   ],
   "source": [
    "from nltk.corpus import stopwords\n",
    "\n",
    "#stop words are some of the most common words used in a language\n",
    "#in our case, the English language\n",
    "#and they will be removed from the data before data processing\n",
    "stop_words = set(stopwords.words('english'))\n",
    "\n",
    "stop_words.update([\"u\"]) \n",
    "#\"u\" was added to the list of stopwords because\n",
    "#it shows up so often in casual text messages,\n",
    "#likely as often as \"you\" shows up in more formal communications\n",
    "\n",
    "print(stop_words)"
   ]
  },
  {
   "cell_type": "code",
   "execution_count": 8,
   "metadata": {
    "collapsed": false
   },
   "outputs": [
    {
     "name": "stdout",
     "output_type": "stream",
     "text": [
      "mouse\n",
      "clock\n",
      "jump\n",
      "fast\n",
      "jumping\n"
     ]
    }
   ],
   "source": [
    "#to further pre-process our data, we will use the following\n",
    "\n",
    "from nltk.tokenize import sent_tokenize, word_tokenize\n",
    "#according to nltk documentation (http://www.nltk.org/api/nltk.tokenize.html)\n",
    "#word_tokenize function should be applied to one sentence at a time\n",
    "#but this seems to have been fixed so that the function works on a multi-sentence arg\n",
    "#e.g., https://github.com/nltk/nltk_book/issues/33 and trying out\n",
    "#print(word_tokenize(\"I love you. You love me. We're a happy family.\"))\n",
    "#we will still run sent_tokenize before running word_tokenize \n",
    "#for the sake of exploring a bit more about what nltk has to offer\n",
    "\n",
    "from nltk.stem import WordNetLemmatizer\n",
    "lemmatizer = WordNetLemmatizer()\n",
    "#lemmatizer function finds the lemma of a word argument\n",
    "#according to https://simple.wikipedia.org/wiki/Lemma_(linguistics) is \n",
    "#a word which stands at the head of a definition in a dictionary\n",
    "\n",
    "#this function has a default part of speech parameter of noun\n",
    "print(lemmatizer.lemmatize(\"mice\"))\n",
    "print(lemmatizer.lemmatize(\"clocks\"))\n",
    "print(lemmatizer.lemmatize(\"jumping\", \"v\"))\n",
    "print(lemmatizer.lemmatize(\"fastest\", pos=\"a\"))\n",
    "print(lemmatizer.lemmatize(\"jumping\"))"
   ]
  },
  {
   "cell_type": "code",
   "execution_count": 9,
   "metadata": {
    "collapsed": false,
    "scrolled": true
   },
   "outputs": [
    {
     "data": {
      "text/html": [
       "<div>\n",
       "<table border=\"1\" class=\"dataframe\">\n",
       "  <thead>\n",
       "    <tr style=\"text-align: right;\">\n",
       "      <th></th>\n",
       "      <th>sms_type</th>\n",
       "      <th>message</th>\n",
       "    </tr>\n",
       "  </thead>\n",
       "  <tbody>\n",
       "    <tr>\n",
       "      <th>0</th>\n",
       "      <td>ham</td>\n",
       "      <td>go jurong point , crazy.. available bugis n gr...</td>\n",
       "    </tr>\n",
       "    <tr>\n",
       "      <th>1</th>\n",
       "      <td>ham</td>\n",
       "      <td>ok lar ... joking wif oni ...</td>\n",
       "    </tr>\n",
       "    <tr>\n",
       "      <th>2</th>\n",
       "      <td>spam</td>\n",
       "      <td>free entry 2 wkly comp win fa cup final tkts 2...</td>\n",
       "    </tr>\n",
       "    <tr>\n",
       "      <th>3</th>\n",
       "      <td>ham</td>\n",
       "      <td>dun say early hor ... c already say ...</td>\n",
       "    </tr>\n",
       "    <tr>\n",
       "      <th>4</th>\n",
       "      <td>ham</td>\n",
       "      <td>nah n't think go usf , life around though</td>\n",
       "    </tr>\n",
       "    <tr>\n",
       "      <th>5</th>\n",
       "      <td>spam</td>\n",
       "      <td>freemsg hey darling 's 3 week 's word back ! '...</td>\n",
       "    </tr>\n",
       "    <tr>\n",
       "      <th>6</th>\n",
       "      <td>ham</td>\n",
       "      <td>even brother like speak . treat like aid patent .</td>\n",
       "    </tr>\n",
       "    <tr>\n",
       "      <th>7</th>\n",
       "      <td>ham</td>\n",
       "      <td>per request 'melle melle ( oru minnaminunginte...</td>\n",
       "    </tr>\n",
       "    <tr>\n",
       "      <th>8</th>\n",
       "      <td>spam</td>\n",
       "      <td>winner ! ! valued network customer selected re...</td>\n",
       "    </tr>\n",
       "    <tr>\n",
       "      <th>9</th>\n",
       "      <td>spam</td>\n",
       "      <td>mobile 11 month ? r entitled update latest col...</td>\n",
       "    </tr>\n",
       "  </tbody>\n",
       "</table>\n",
       "</div>"
      ],
      "text/plain": [
       "  sms_type                                            message\n",
       "0      ham  go jurong point , crazy.. available bugis n gr...\n",
       "1      ham                      ok lar ... joking wif oni ...\n",
       "2     spam  free entry 2 wkly comp win fa cup final tkts 2...\n",
       "3      ham            dun say early hor ... c already say ...\n",
       "4      ham          nah n't think go usf , life around though\n",
       "5     spam  freemsg hey darling 's 3 week 's word back ! '...\n",
       "6      ham  even brother like speak . treat like aid patent .\n",
       "7      ham  per request 'melle melle ( oru minnaminunginte...\n",
       "8     spam  winner ! ! valued network customer selected re...\n",
       "9     spam  mobile 11 month ? r entitled update latest col..."
      ]
     },
     "execution_count": 9,
     "metadata": {},
     "output_type": "execute_result"
    }
   ],
   "source": [
    "#for i from index 0 to index 5571\n",
    "for i in range(len(sms_dataset.index)):\n",
    "    #create a list of word tokens by\n",
    "    \n",
    "    #tokenizing each string in the \"message\" column into sentences\n",
    "    #which returns a list of sentence strings\n",
    "    \n",
    "    #and then tokeninzing each sentence into words\n",
    "    #which returns a list of word strings\n",
    "    \n",
    "    #next we take each word and find their lemmas\n",
    "    #unfortunately, we will have to assume that all words are nouns\n",
    "    word_tokens = [lemmatizer.lemmatize(word.lower()) \n",
    "                   for sent in sent_tokenize(sms_dataset.loc[i][\"message\"])\n",
    "                   for word in word_tokenize(sent)] #better than str.split(sent)\n",
    "    #then from the word_tokens list we take elements that are not stopwords\n",
    "    #and add them to a new list\n",
    "    without_stop = [w for w in word_tokens if w not in stop_words]\n",
    "    #we convert this new list of words into a string\n",
    "    without_stop_str = \" \".join(without_stop)\n",
    "    #and replace all messages with lemmatized versions of the original\n",
    "    #that do not include stopwords\n",
    "    sms_dataset.loc[i][\"message\"] = without_stop_str\n",
    "\n",
    "sms_dataset.head(10)"
   ]
  },
  {
   "cell_type": "code",
   "execution_count": 10,
   "metadata": {
    "collapsed": false
   },
   "outputs": [
    {
     "data": {
      "text/html": [
       "<div>\n",
       "<table border=\"1\" class=\"dataframe\">\n",
       "  <thead>\n",
       "    <tr style=\"text-align: right;\">\n",
       "      <th></th>\n",
       "      <th>sms_type</th>\n",
       "      <th>message</th>\n",
       "    </tr>\n",
       "  </thead>\n",
       "  <tbody>\n",
       "    <tr>\n",
       "      <th>5567</th>\n",
       "      <td>spam</td>\n",
       "      <td>2nd time tried 2 contact u. å£750 pound prize ...</td>\n",
       "    </tr>\n",
       "    <tr>\n",
       "      <th>5568</th>\n",
       "      <td>ham</td>\n",
       "      <td>ì_ b going esplanade fr home ?</td>\n",
       "    </tr>\n",
       "    <tr>\n",
       "      <th>5569</th>\n",
       "      <td>ham</td>\n",
       "      <td>pity , * wa mood . ... suggestion ?</td>\n",
       "    </tr>\n",
       "    <tr>\n",
       "      <th>5570</th>\n",
       "      <td>ham</td>\n",
       "      <td>guy bitching acted like 'd interested buying s...</td>\n",
       "    </tr>\n",
       "    <tr>\n",
       "      <th>5571</th>\n",
       "      <td>ham</td>\n",
       "      <td>rofl . true name</td>\n",
       "    </tr>\n",
       "  </tbody>\n",
       "</table>\n",
       "</div>"
      ],
      "text/plain": [
       "     sms_type                                            message\n",
       "5567     spam  2nd time tried 2 contact u. å£750 pound prize ...\n",
       "5568      ham                     ì_ b going esplanade fr home ?\n",
       "5569      ham                pity , * wa mood . ... suggestion ?\n",
       "5570      ham  guy bitching acted like 'd interested buying s...\n",
       "5571      ham                                   rofl . true name"
      ]
     },
     "execution_count": 10,
     "metadata": {},
     "output_type": "execute_result"
    }
   ],
   "source": [
    "sms_dataset.tail()"
   ]
  },
  {
   "cell_type": "code",
   "execution_count": 11,
   "metadata": {
    "collapsed": false
   },
   "outputs": [
    {
     "name": "stdout",
     "output_type": "stream",
     "text": [
      "ham\n",
      "go jurong point , crazy.. available bugis n great world la e buffet ... cine got amore wat ... \n",
      "\n",
      "[(['go', 'jurong', 'point', ',', 'crazy..', 'available', 'bugis', 'n', 'great', 'world', 'la', 'e', 'buffet', '...', 'cine', 'got', 'amore', 'wat', '...'], 'ham'), (['ok', 'lar', '...', 'joking', 'wif', 'oni', '...'], 'ham'), (['free', 'entry', '2', 'wkly', 'comp', 'win', 'fa', 'cup', 'final', 'tkts', '21st', 'may', '2005', '.', 'text', 'fa', '87121', 'receive', 'entry', 'question', '(', 'std', 'txt', 'rate', ')', '&', 'c', \"'s\", 'apply', '08452810075over18', \"'s\"], 'spam'), (['dun', 'say', 'early', 'hor', '...', 'c', 'already', 'say', '...'], 'ham'), (['nah', \"n't\", 'think', 'go', 'usf', ',', 'life', 'around', 'though'], 'ham'), (['freemsg', 'hey', 'darling', \"'s\", '3', 'week', \"'s\", 'word', 'back', '!', \"'d\", 'like', 'fun', 'still', '?', 'tb', 'ok', '!', 'xxx', 'std', 'chgs', 'send', ',', 'å£1.50', 'rcv'], 'spam')]\n"
     ]
    }
   ],
   "source": [
    "#now following the template set in the pythonprogramming nltk tutorial\n",
    "#we format all the information in the dataframe into a list of tuples\n",
    "\n",
    "#this shows how you access strings in the sms_type and message columns\n",
    "for row in sms_dataset.iterrows():\n",
    "    print(row[1][0])\n",
    "    print(row[1][1], \"\\n\")\n",
    "    break\n",
    "\n",
    "all_messages = []\n",
    "\n",
    "for row in sms_dataset.iterrows():\n",
    "    all_messages.append((word_tokenize(row[1][1]),row[1][0]))\n",
    "\n",
    "print(all_messages[:6])"
   ]
  },
  {
   "cell_type": "code",
   "execution_count": 12,
   "metadata": {
    "collapsed": false
   },
   "outputs": [
    {
     "name": "stdout",
     "output_type": "stream",
     "text": [
      "(['please', 'attend', 'phone', ':', ')'], 'ham')\n",
      "(['urgent', '!', 'trying', 'contact', 'u.', 'today', 'draw', 'show', 'å£800', 'prize', 'guaranteed', '.', 'call', '09050001808', 'land', 'line', '.', 'claim', 'm95', '.', 'valid12hrs'], 'spam')\n"
     ]
    }
   ],
   "source": [
    "#in case there was some pattern already set in the SMS dataset\n",
    "#such as all spam type messages living the first half\n",
    "#we are going to shuffle all the messages so that the different types\n",
    "#are better distributed throughout the all_messages list\n",
    "\n",
    "import random\n",
    "\n",
    "random.shuffle(all_messages)\n",
    "print(all_messages[0])\n",
    "print(all_messages[5571])"
   ]
  },
  {
   "cell_type": "code",
   "execution_count": 13,
   "metadata": {
    "collapsed": false
   },
   "outputs": [
    {
     "name": "stdout",
     "output_type": "stream",
     "text": [
      "68090\n",
      "9181\n",
      "<class 'nltk.probability.FreqDist'>\n",
      "[('.', 4933), (',', 1872), ('?', 1541), ('!', 1381), ('...', 1233), ('&', 916), (';', 764), (':', 717), ('call', 600), (')', 494), (\"'s\", 492), ('2', 485), ('get', 396), (\"'m\", 395), ('ur', 381), (\"n't\", 361), ('gt', 318), ('lt', 316), ('go', 303), (\"''\", 293), ('#', 287), ('free', 275), ('know', 269), ('4', 268), ('ok', 251)]\n"
     ]
    }
   ],
   "source": [
    "#now we will compile all words from all messages into a list\n",
    "#in order to extract the most common ones to use as features\n",
    "#that can help identify either spam or non-spam (ham)\n",
    "\n",
    "all_words = []\n",
    "#again, this is index 0 to index 5571\n",
    "for i in range(len(all_messages)):\n",
    "    #accessing the list of words for message with index i\n",
    "    for j in range(len(all_messages[i][0])):\n",
    "        #adding word from position j to the all_words list\n",
    "        all_words.append(all_messages[i][0][j])\n",
    "        \n",
    "print(len(all_words))\n",
    "#this just shows you that we have a lot of duplicate words\n",
    "print(len(set(all_words)))\n",
    "\n",
    "words_freq = nltk.FreqDist(all_words)\n",
    "print(type(words_freq))\n",
    "print(words_freq.most_common(25))"
   ]
  },
  {
   "cell_type": "code",
   "execution_count": 14,
   "metadata": {
    "collapsed": false
   },
   "outputs": [],
   "source": [
    "#taking only the 3000 most common words of 9181 from the FreqDist\n",
    "top_3000_dict = dict(words_freq.most_common(3000)).keys()\n",
    "#we create a feature list that will identify patterns in spam vs ham\n",
    "word_features = list(top_3000_dict)"
   ]
  },
  {
   "cell_type": "code",
   "execution_count": 15,
   "metadata": {
    "collapsed": false
   },
   "outputs": [],
   "source": [
    "#based off of pythonprogramming tutorial code,\n",
    "#we create a function using dictionary comprehension\n",
    "#that will tell us which of these 3000 most common words\n",
    "#exist in each of the messages\n",
    "\n",
    "def find_features(document):\n",
    "    words = set(document)\n",
    "    return {w: (True if w in words else False) for w in word_features}\n",
    "    \n",
    "\n",
    "#original pythonprogramming tutorial code\n",
    "# def find_features(document):\n",
    "#     words = set(document)\n",
    "#     features = {}\n",
    "#     for w in word_features:\n",
    "#         features[w] = (w in words)\n",
    "#     return features"
   ]
  },
  {
   "cell_type": "code",
   "execution_count": 16,
   "metadata": {
    "collapsed": false
   },
   "outputs": [
    {
     "name": "stdout",
     "output_type": "stream",
     "text": [
      "({'.': False, ',': False, '?': False, '!': False, '...': False, '&': False, ';': False, ':': True, 'call': False, ')': True, \"'s\": False, '2': False, 'get': False, \"'m\": False, 'ur': False, \"n't\": False, 'gt': False, 'lt': False, 'go': False, \"''\": False, '#': False, 'free': False, 'know': False, '4': False, 'ok': False, 'got': False, 'come': False, 'like': False, 'wa': False, 'good': False, 'time': False, 'day': False, \"'ll\": False, '-': False, 'text': False, 'want': False, 'love': False, 'send': False, 'one': False, 'need': False, 'going': False, 'txt': False, 'today': False, 'r': False, 'home': False, 'sorry': False, 'see': False, 'lor': False, 'still': False, 'back': False, 'c': False, 'stop': False, 'mobile': False, 'n': False, 'take': False, 'think': False, 'reply': False, 'tell': False, 'da': False, 'phone': True, 'dont': False, 'ha': False, 'new': False, 'later': False, 'week': False, 'hi': False, 'please': True, 'make': False, 'night': False, 'ì_': False, 'say': False, '(': False, 'pls': False, 'claim': False, 'thing': False, 'well': False, 'great': False, 'much': False, 'oh': False, 'hope': False, 'dear': False, 'na': False, 'number': False, 'hey': False, 'give': False, 'happy': False, 'work': False, 'way': False, 'wat': False, 'message': False, 'friend': False, 'prize': False, 'right': False, 'wan': False, 'let': False, 'msg': False, '1': False, \"'ve\": False, 'already': False, \"'re\": False, 'tomorrow': False, 'ask': False, 'said': False, 'yeah': False, 'amp': False, 'really': False, 'yes': False, 'k': False, 'babe': False, 'min': False, 'meet': False, 'co': False, '3': False, 'would': False, 'e': False, 'im': False, 'last': False, 'life': False, 'service': False, 'win': False, 'morning': False, 'year': False, 'miss': False, 'thanks': False, 'cash': False, 'lol': False, 'tone': False, 'find': False, 'anything': False, 'every': False, 'feel': False, 'pick': False, 'sure': False, 'contact': False, 'keep': False, 'also': False, 'something': False, 'sent': False, 'nokia': False, 'care': False, 'could': False, 'urgent': False, 'b': False, 'cant': False, 'buy': False, 'place': False, 'guy': False, 'next': False, 'someone': False, 'went': False, 'tonight': False, 'show': False, 'around': False, 'even': False, 'wish': False, 'ca': False, 'wait': False, 'first': False, 'customer': False, 'late': False, 'gon': False, 'money': False, 'many': False, 'word': False, 'nice': False, 'soon': False, 'leave': False, 'ya': False, 'per': False, 'always': False, 'sleep': False, 'chat': False, '\\\\': False, 'dun': False, 'ìï': False, 'told': False, 'gud': False, 'help': False, 'waiting': False, 'people': False, 'minute': False, 'hour': False, 'name': False, 'thk': False, 'guaranteed': False, 'haha': False, 'coming': False, 'may': False, 'yet': False, 'getting': False, 'lot': False, 'done': False, 'girl': False, 'try': False, 'end': False, 'v': False, 'talk': False, 'class': False, 'fine': False, 'offer': False, 'person': False, 'doe': False, 'best': False, 'mean': False, 'line': False, 'lunch': False, 'thought': False, 'use': False, 'draw': False, 'heart': False, 'stuff': False, 'x': False, 'man': False, 'finish': False, 'god': False, 'car': False, 'start': False, 'holiday': False, 'live': False, 'bit': False, 'job': False, 'sm': False, 'special': False, 'plan': False, 'yup': False, 'month': False, 'trying': False, 'meeting': False, 'never': False, \"'\": False, 'hello': False, '5': False, 'long': False, 'ill': False, 'dat': False, 'cool': False, 'ready': False, 'better': False, 'chance': False, 'smile': False, 'account': False, 'mind': False, '..': False, 'latest': False, 'weekend': False, 'guess': False, 'sir': False, 'problem': False, 'room': False, 'thats': False, 'awarded': False, 'nothing': False, 'eat': False, 'check': False, 'cost': False, 'look': False, '1st': False, '*': False, 'yo': False, 'half': False, 'play': False, 'game': False, 'another': False, 'voucher': False, 'lar': False, 'receive': False, 'enjoy': False, 'world': False, 'house': False, 'camera': False, 'birthday': False, 'boy': False, 'landline': False, 'real': False, 'big': False, 'shit': False, 'ever': False, 'pic': False, 'luv': False, 'jus': False, 'box': False, 'liao': False, 'å£1000': False, 'dinner': False, '@': False, '150ppm': False, 'quite': False, 'might': False, 'watching': False, 'watch': False, 'baby': False, 'point': False, 'rate': False, 'ah': False, 'aight': False, 'sweet': False, 'called': False, 'probably': False, 'remember': False, 'question': False, 'speak': False, 'two': False, 'fun': False, 'hear': False, 'princess': False, 'po': False, 'den': False, 'video': False, 'network': False, 'bed': False, '6': False, 'actually': False, 'orange': False, 'wont': False, 'shopping': False, 'bad': False, 'dunno': False, 'early': False, 'worry': False, 'apply': False, 'easy': False, 'shall': False, 'maybe': False, 'sat': False, 'part': False, 'pay': False, 'reach': False, 'little': False, 'left': False, 'thanx': False, '>': False, 'didnt': False, 'leh': False, 'dad': False, 'put': False, 'fuck': False, 'dis': False, 'code': False, 'face': False, '2nd': False, 'forgot': False, 'bus': False, 'working': False, 'afternoon': False, 'school': False, 'looking': False, 'mate': False, 'ringtone': False, 'selected': False, 'award': False, 'made': False, 'enough': False, '+': False, 'hurt': False, 'without': False, 'evening': False, 'asked': False, 'collect': False, 'i.ll': False, 'movie': False, 'thank': False, 'tv': False, 'everything': False, 'since': False, 'anyway': False, 'must': False, \"'d\": False, 'xmas': False, '150p': False, 'pound': False, 'town': False, 'join': False, 'hav': False, 'sexy': False, 'tmr': False, 'came': False, 'detail': False, 'wif': False, 'pa': False, 'wake': False, 'mail': False, 'okay': False, 'uk': False, 'xxx': False, 'able': False, 'price': False, 'run': False, 'entry': False, 'collection': False, 'sound': False, 'though': False, 'important': False, 'gift': False, 'bring': False, 'wanted': False, 'abt': False, 'plus': False, '16': False, 'mob': False, 'book': False, 'change': False, '7': False, 'away': False, 'test': False, 'stay': False, 'charge': False, 'dream': False, 'pain': False, 'juz': False, 'lesson': False, 'decimal': False, 'wot': False, 'wife': False, '16+': False, 'plz': False, '18': False, 'havent': False, 'hair': False, 'wk': False, 'saw': False, 'true': False, 'answer': False, 'update': False, 'yesterday': False, 'wo': False, 'till': False, 'de': False, '4*': False, 'u.': False, 'bt': False, 'weekly': False, 'else': False, 'date': False, 'dude': False, 'attempt': False, '$': False, 'oso': False, 'office': False, 'valid': False, 'colour': False, 'online': False, 'bored': False, 'trip': False, '500': False, 'food': False, 'top': False, 'making': False, 'double': False, 'music': False, 'haf': False, 'sch': False, 'driving': False, 'hot': False, 'goin': False, 'lei': False, 'yr': False, 'alright': False, 'til': False, 'wen': False, 'missed': False, 'missing': False, 'delivery': False, 'credit': False, 'ard': False, 'tried': False, 'either': False, 'å£100': False, 'nite': False, 'together': False, 'lose': False, 'sae': False, 'tot': False, 'drink': False, 'story': False, 'mom': False, 'family': False, 'beautiful': False, 'bonus': False, '9': False, 'address': False, 'coz': False, 'order': False, '8007': False, 'player': False, 'wid': False, 'brother': False, 'believe': False, 'huh': False, 'å£2000': False, 'full': False, 'feeling': False, 'post': False, 'head': False, 'happen': False, 'smoke': False, 'await': False, 'ring': False, 'sad': False, 'å£5000': False, 'club': False, 'set': False, 'saying': False, 'old': False, 'close': False, 'noe': False, 'id': False, 'si': False, 'eve': False, 'calling': False, 'gr8': False, 'finished': False, 'match': False, 'land': False, 'congrats': False, 'mum': False, 'smiling': False, 'cause': False, 'second': False, '18+': False, 'email': False, 'drop': False, 'awesome': False, 'rite': False, 'http': False, 'shop': False, 'private': False, '86688': False, 'busy': False, 'parent': False, 'walk': False, 'leaving': False, 'tomo': False, 'took': False, 'å£500': False, 'drive': False, 'aft': False, 'break': False, 'ok.': False, 'content': False, 'unsubscribe': False, 'mine': False, 'neva': False, 'å£1.50': False, 'thinking': False, 'okie': False, 'friendship': False, 'taking': False, 'g': False, 'final': False, 'caller': False, 'started': False, 'pub': False, 'statement': False, 'ta': False, '750': False, 'gd': False, 'company': False, 'forget': False, 'wil': False, 'news': False, 'angry': False, 'everyone': False, 'card': False, 'bank': False, '12hrs': False, 'search': False, 'lucky': False, 'open': False, 'worth': False, '100': False, 'treat': False, 'sister': False, 'age': False, 'dating': False, 'reason': False, 'knw': False, '8': False, 'found': False, 'touch': False, 'fancy': False, 'expires': False, 'choose': False, 'auction': False, 'valentine': False, 'sleeping': False, 'anyone': False, 'poly': False, 'whatever': False, 'saturday': False, 'congratulation': False, 'available': False, '10': False, 'far': False, 'boytoy': False, 'info': False, 'carlos': False, 'alone': False, 'decided': False, 'kind': False, 'hit': False, 'pobox': False, 'sun': False, 'gone': False, 'uncle': False, 'hard': False, 'college': False, 'type': False, 'identifier': False, 'exam': False, 'kiss': False, 'anytime': False, '08000930705': False, 'tho': False, 'secret': False, 'w': False, 'winner': False, 'mobileupd8': False, 'ticket': False, 'party': False, 'fast': False, 'finally': False, 'drug': False, 'bout': False, 'nope': False, 'wrong': False, '150p/msg': False, 'used': False, 'light': False, 'fucking': False, 'camcorder': False, 'outside': False, 'th': False, 'mu': False, 'chennai': False, 'visit': False, 'wonderful': False, 'hand': False, 'project': False, 'wit': False, 'happened': False, 'hows': False, 'read': False, 'operator': False, '08000839402': False, 'prob': False, 'pretty': False, 'frnd': False, 'friday': False, 'lovely': False, 'wonder': False, 'seeing': False, 'oredi': False, 'ten': False, 'whats': False, 'welcome': False, 'fri': False, 'meant': False, 'smth': False, 'darlin': False, 'telling': False, 'log': False, '\\x89û_': False, 'case': False, 'cum': False, 'xx': False, 'fone': False, 'snow': False, 'nt': False, 'whole': False, 'wkly': False, 'å£250': False, 'jay': False, 'listen': False, 'term': False, 'hungry': False, 'course': False, 'hold': False, 'quiz': False, 'b4': False, 'sea': False, '10p': False, 'cd': False, 'unlimited': False, 'freemsg': False, 'least': False, 'gal': False, 'rock': False, 'paper': False, 'talking': False, 'hmm': False, 'film': False, 'currently': False, 'savamob': False, 'sex': False, 'ltd': False, 'reading': False, 'blue': False, 'valued': False, 'earlier': False, 'gas': False, 'song': False, 'area': False, 'le': False, 'move': False, '0800': False, 'dnt': False, 'press': False, 'mayb': False, '2003': False, '800': False, 'march': False, 'download': False, 'moment': False, 'å£350': False, 'enter': False, 'bslvyl': False, 'lost': False, 'support': False, 'crazy': False, 'couple': False, 'goodmorning': False, 'yar': False, 'etc': False, 'pm': False, 'opt': False, 'felt': False, 'almost': False, 'motorola': False, '||': False, 'father': False, '87066': False, 'within': False, 'fr': False, 'txts': False, 'tel': False, 'invited': False, 'side': False, 'christmas': False, 'cut': False, 'single': False, 'store': False, 'national': False, 'mrng': False, 'hospital': False, 'mah': False, 'load': False, 'knew': False, 'kiss*': False, 'eh': False, 'picking': False, 'laptop': False, 'chikku': False, 'complimentary': False, 'st': False, 'figure': False, 'supposed': False, 'tired': False, 'eye': False, '*grins*': False, 'photo': False, 'seen': False, 'sort': False, 'un-redeemed': False, 'rental': False, 'semester': False, 'luck': False, 'happiness': False, 'sending': False, 'john': False, 'darren': False, 'hee': False, 'ugh': False, 'swing': False, 'bill': False, 'direct': False, 'ipod': False, 'computer': False, 'extra': False, 'sell': False, 'ni8': False, 'information': False, 'tc': False, 'die': False, 'promise': False, 'park': False, 'lady': False, 'shower': False, 'charged': False, 'correct': False, 'surprise': False, 'ago': False, 'return': False, 'pas': False, 'gym': False, 'slowly': False, 'clean': False, 'abiola': False, 'whenever': False, 'study': False, 'discount': False, 'sub': False, 'it..': False, 'rply': False, 'wine': False, 'idea': False, 'save': False, 'train': False, 'joke': False, 'kid': False, 'asking': False, 'kate': False, 'heard': False, 'comp': False, 'orchard': False, 'frm': False, 'door': False, 'checking': False, 'dogging': False, 'muz': False, 'safe': False, 'bath': False, 'request': False, 'loving': False, 'comin': False, 'crave': False, 'fact': False, 'link': False, 'bcoz': False, 'mr': False, 'joy': False, 'hr': False, 'road': False, 'wow': False, 'askd': False, 'fantasy': False, 'india': False, 'lover': False, 'å£2,000': False, 'txting': False, 'somebody': False, 'rest': False, 'via': False, 'small': False, 'entered': False, 'me..': False, 'wana': False, 'loved': False, 'eg': False, 'slow': False, 'truth': False, 'police': False, 'loan': False, '=': False, 'confirm': False, 'teach': False, 'member': False, '%': False, 'wishing': False, 'summer': False, 'cheap': False, '10p/min': False, 'gettin': False, 'stupid': False, 'hmmm': False, 'hoping': False, 'usf': False, 'reached': False, 'understand': False, 'red': False, 'kick': False, 'met': False, 'yep': False, 'difficult': False, 'ex': False, 'spend': False, 'em': False, 'poor': False, 'copy': False, 'merry': False, 'somewhere': False, 'mm': False, 'representative': False, 'different': False, 'nah': False, 'ho': False, 'callertune': False, 's.': False, 'worried': False, 'situation': False, 'opinion': False, 'admirer': False, \"b'day\": False, 'she.s': False, 'bathe': False, 'glad': False, 'doin': False, 'write': False, 'remove': False, 'med': False, 'voice': False, 'rent': False, 'wap': False, 'woke': False, 'monday': False, 'reward': False, 'ntt': False, 'warm': False, 'page': False, 'across': False, 'hmv': False, 'leaf': False, '1000': False, 'deal': False, 'oops': False, 'catch': False, 'england': False, 'gave': False, 'short': False, 'ldn': False, 'otherwise': False, '/': False, 'empty': False, 'booked': False, 'immediately': False, 'gap': False, 'child': False, 'del': False, 'men': False, 'asap': False, 'fantastic': False, 'unless': False, 'å£200': False, 'forever': False, 'specially': False, 'forwarded': False, 'sale': False, 'gay': False, 'wondering': False, 'user': False, 'lazy': False, 'å£150': False, 'mistake': False, 'moral': False, 'disturb': False, 'round': False, 'tht': False, 'possible': False, 'il': False, '2nite': False, 'bos': False, 'kinda': False, 'reaching': False, 'water': False, 'mrt': False, 'ive': False, 'å£800': False, 'silent': False, 'mode': False, 'decide': False, 'rain': False, 'hiya': False, 'especially': False, 'studying': False, 'sitting': False, 'staying': False, 'sick': False, 'pete': False, 'k.': False, '--': False, 'xy': False, 'i.': False, 'm.': False, 'laugh': False, 'accept': False, 'completely': False, 'bid': False, 'ending': False, 'excuse': False, 'fall': False, 'cake': False, 'convey': False, 'colleague': False, 'cover': False, 'sunshine': False, 'trust': False, 'frnds': False, 'std': False, 'result': False, 'rose': False, 'bb': False, 'starting': False, 'www.getzed.co.uk': False, 'tampa': False, 'nobody': False, 'bluetooth': False, 'near': False, 'flight': False, 'password': False, 'add': False, 'access': False, 'buying': False, 'urself': False, 'doctor': False, 'sport': False, 'street': False, 'lect': False, 'turn': False, '150': False, 'thinkin': False, 'hotel': False, 'lovable': False, 'seems': False, 'style': False, 'meh': False, 'normal': False, 'doesnt': False, '\\x89ûò': False, 'sony': False, 'using': False, 'flag': False, 'charity': False, 'brings': False, 'goodnight': False, 'training': False, 'picture': False, 'facebook': False, '2day': False, 'space': False, 'daddy': False, 'medical': False, 'nigeria': False, 'student': False, '08712460324': False, '3030': False, '11': False, 'entitled': False, 'fat': False, 'alex': False, 'fill': False, 'complete': False, 'slave': False, 'trouble': False, 'sign': False, 'none': False, 'indian': False, 'cancel': False, 'u..': False, 'fixed': False, 'ice': False, 'ave': False, 'honey': False, 'p': False, 'list': False, 'weed': False, 'stand': False, 'slept': False, 'din': False, 'file': False, 'love..': False, 'moon': False, 'spent': False, 'wednesday': False, 'pc': False, 'future': False, 'aha': False, 'hg/suite342/2lands': False, 'custcare': False, 'pray': False, 'pizza': False, 'u-find': False, 'r*reveal': False, 'special-call': False, 'reference': False, 'others': False, 'quick': False, 'cheer': False, 'workin': False, 'dog': False, 'self': False, 'tear': False, 'however': False, 'nyt': False, 'registered': False, 'replying': False, 'paying': False, 'giving': False, 'picked': False, 'freephone': False, 'no1': False, '50': False, 'woman': False, 'dvd': False, '2004': False, 'inc': False, 'tonite': False, 'digital': False, 'cute': False, 'awaiting': False, 'south': False, 'mo': False, 'lem': False, '12': False, 'bag': False, 'mood': False, 'dead': False, 'omg': False, 'record': False, 'noon': False, 'al': False, 'fault': False, 'apartment': False, 'bedroom': False, '4u': False, 'longer': False, 'sp': False, 'excellent': False, 'frens': False, 'roommate': False, 'weight': False, 'goto': False, 'deep': False, 'anymore': False, 'library': False, '25p': False, 'simple': False, 'tuesday': False, 'mon': False, 'bt-national-rate': False, 'present': False, 'cinema': False, 'cup': False, 'letter': False, 'planning': False, '87077': False, 'yahoo': False, 'wiv': False, 'mark': False, 'bak': False, 'simple..': False, 'role': False, 'midnight': False, 'usual': False, 'miracle': False, 'issue': False, 'spree': False, 'age16': False, 'high': False, '85023': False, 'å£3.00': False, 'black': False, 'imagine': False, 'buck': False, 'happening': False, 'ad': False, 'shirt': False, 'naked': False, 'instead': False, 'weather': False, '\\\\i': False, 'interested': False, 'ar': False, 'click': False, 'sense': False, 'tenerife': False, 'cash-balance': False, 'maximize': False, 'cash-in': False, 'bold': False, 'torch': False, 'bugis': False, 'hop': False, 'cine': False, 'forward': False, 'lift': False, 'key': False, 'past': False, 'buzz': False, 'system': False, 'cuz': False, 'ahead': False, 'sit': False, 'worse': False, 'pleasure': False, 'yest': False, 'kb': False, 'marriage': False, 'umma': False, 'thnk': False, 'darling': False, 'sec': False, 'j': False, 'net': False, 'changed': False, 'bother': False, 'waste': False, 'izzit': False, 'dollar': False, 'wun': False, 'shuhui': False, 'learn': False, 'appreciate': False, 'following': False, 'liked': False, 'awake': False, 'battery': False, 'ge': False, 'lmao': False, 'location': False, 'paid': False, 'bird': False, 'sky': False, 'notice': False, 'hai': False, 'happens': False, '20p': False, '1327': False, 'croydon': False, 'cr9': False, '5wb': False, '36504': False, 'holla': False, 'yijue': False, 'kallis': False, 'tough': False, 'showing': False, 'horny': False, 'thru': False, 'share': False, 'å£900': False, '3g': False, 'cell': False, 'recently': False, 'omw': False, 'funny': False, '\\\\hey': False, 'depends': False, 'shd': False, '20': False, 'menu': False, 'arrive': False, 'planned': False, 'kept': False, 'hurry': False, 'experience': False, 'quality': False, 'sometimes': False, 'polys': False, 'eatin': False, 'rather': False, 'sim': False, 'including': False, 'rcvd': False, 'insurance': False, 'cal': False, 'heavy': False, 'la': False, 'meaning': False, 'f': False, 'murdered': False, 'murderer': False, 'mp3': False, 'regard': False, 'coffee': False, 'vl': False, 'holding': False, 'blood': False, 'malaria': False, 'station': False, 'mid': False, 'costa': False, 'sol': False, 'sk38xh': False, 'doc': False, 'hw': False, 'flirt': False, 'pix': False, 'dear..': False, 'onto': False, 'yoga': False, 'flower': False, 'eating': False, 'character': False, 'king': False, 'country': False, 'towards': False, 'hell': False, 'imma': False, 'connection': False, 'inside': False, 'suck': False, 'loyalty': False, 'model': False, 'due': False, 'willing': False, 'super': False, 'checked': False, 'added': False, '<': False, 'pin': False, 'tour': False, 'version': False, 'kerala': False, 'tick': False, 'brand': False, '8th': False, 'campus': False, 'evng': False, 'murder': False, 'exactly': False, 'nxt': False, 'feb': False, 'married': False, 'usually': False, 'tea': False, 'ate': False, 'argument': False, 'fix': False, 'posted': False, 'cold': False, 'air': False, 'cc': False, 'barely': False, 'arrange': False, 'group': False, 'damn': False, 'decision': False, 'except': False, 'vodafone': False, 'aftr': False, 'begin': False, 'simply': False, 'pleased': False, 'holder': False, 'app': False, 'handset': False, 'keeping': False, 'wed': False, 'raining': False, 'putting': False, 'armand': False, 'arm': False, 'definitely': False, 'don\\x89û÷t': False, 'ish': False, 'fyi': False, 'fight': False, 'nature': False, 'review': False, 'fb': False, 'yay': False, 'q': False, 'theatre': False, 'wer': False, 'dey': False, 'envelope': False, 'track': False, 'internet': False, 'howz': False, 'naughty': False, 'loverboy': False, 'died': False, 'joined': False, 'team': False, 'askin': False, '0870': False, 'sed': False, 'lor..': False, 'announcement': False, 'cry': False, 'arcade': False, 'setting': False, 'marry': False, 'five': False, 'replied': False, 'become': False, 'hl': False, 'standard': False, 'activate': False, 'pobox84': False, 'serious': False, 'created': False, 'joking': False, '08712300220': False, 'expensive': False, 'fullonsms.com': False, 'num': False, 'contract': False, 'anybody': False, 'tncs': False, 'behind': False, 'surely': False, 'sipix': False, 'earth': False, 'vry': False, 'budget': False, 'adult': False, 'ttyl': False, 'w45wq': False, 'norm150p/tone': False, 'sup': False, 'tariff': False, 'local': False, 'choice': False, 'london': False, '86021': False, 'dint': False, 'matter': False, 'inviting': False, '62468': False, 'texting': False, 'receipt': False, 'mother': False, 'moan': False, 'spoke': False, 'plenty': False, 'cancer': False, 'lookin': False, 'vary': False, 'lead': False, 'guide': False, '40gb': False, 'exciting': False, 'balance': False, 'relax': False, 'tyler': False, 'timing': False, 'pilate': False, 'wherever': False, 'inch': False, '|': False, 'directly': False, 'pussy': False, '09050090044': False, 'toclaim': False, 'pobox334': False, 'stockport': False, 'costå£1.50/pm': False, 'max10mins': False, 'egg': False, 'wats': False, 'closed': False, '08707509020': False, '//www.urawinner.com': False, 'walking': False, 'fetch': False, 'aiyo': False, 'wnt': False, 'aiyah': False, 'power': False, 'isnt': False, 'gee': False, 'ended': False, 'sunny': False, 'txtauction': False, 'partner': False, 'daily': False, 'scream': False, 'logo': False, 'ahmad': False, 'sunday': False, 'zed': False, '4th': False, 'hate': False, 'straight': False, 'report': False, 'official': False, '150pm': False, 'coin': False, 'condition': False, 'running': False, 'amazing': False, 'personal': False, 'title': False, 'island': False, 'competition': False, '300': False, 'city': False, 'bowl': False, 'boring': False, 'energy': False, 'strong': False, 'o2': False, 'alert': False, 'brilliant': False, 'cheaper': False, 'unsub': False, 'green': False, 'searching': False, 'boo': False, '*sighs*': False, 'geeee': False, 'white': False, 'living': False, 'ignore': False, 'btw': False, 'tat': False, 'å£10,000': False, 'ok..': False, 'revealed': False, '08718720201': False, 'ru': False, 'yan': False, 'jiu': False, 'art': False, 'score': False, 'fren': False, 'hug': False, 'respond': False, 'pack': False, 'bin': False, '*9': False, '80062': False, 'cbe': False, 'jordan': False, 'piece': False, 'cafe': False, '1x150p/wk': False, '25': False, 'å£10': False, 'nw': False, 'ride': False, 'somethin': False, 'transaction': False, 'body': False, \"did'nt\": False, 'themob': False, 'surfing': False, 'hopefully': False, 'centre': False, 'airport': False, 'rd': False, 'quote': False, 'april': False, 'flat': False, 'vikky': False, 'laid': False, 'iam': False, 'friends..': False, 'purchase': False, 'subscriber': False, 'bought': False, 'bun': False, 'law': False, 'finger': False, 'current': False, 'fighting': False, 'some1': False, '[': False, ']': False, 'bye': False, 'contacted': False, 'å£400': False, '150p/tone': False, 'wear': False, 'optout': False, 'broke': False, 'voda': False, 'quoting': False, 'december': False, '11mths+': False, 'hostel': False, 'sonyericsson': False, 'ran': False, 'ti': False, 'asks': False, 'listening': False, 'stopped': False, 'looked': False, 'hook': False, 'jazz': False, 'linerental': False, 'season': False, 'pissed': False, '3rd': False, 'cartoon': False, 'asleep': False, 'amount': False, '28': False, 'horrible': False, 'appointment': False, 'google': False, 'uni': False, 'random': False, 'original': False, 'selection': False, 'common': False, 'tt': False, '3510i': False, 'ray': False, 'weak': False, 'xchat': False, 'donåõt': False, 'ym': False, 'thatåõs': False, 'thursday': False, 'basically': False, 'waking': False, 'cabin': False, \"''ok\": False, 'minuts': False, 'latr': False, 'deliver': False, 'social': False, 'blessing': False, 'alrite': False, 'sam': False, 'lie': False, '2mrw': False, 'polyphonic': False, 'sen': False, 'advice': False, 'yogasana': False, 'site': False, 'amt': False, 'everybody': False, 'step': False, 'nvm': False, 'videophones': False, 'videochat': False, 'java': False, 'dload': False, 'noline': False, 'rentl': False, 'ip4': False, '5we': False, 'whether': False, 'vomit': False, \"did't\": False, '530': False, 'travel': False, 'note': False, 'stock': False, 'urgnt': False, 'pa.': False, 'row': False, 'unable': False, 'clock': False, 'affection': False, 'arrested': False, 'hill': False, 'beer': False, 'sofa': False, 'inclusive': False, 'www.comuk.net': False, 'discus': False, 'italian': False, 'informed': False, 'playing': False, 'dropped': False, 'vote': False, 'affair': False, 'remind': False, 'english': False, 'selling': False, 'seriously': False, 'fool': False, '\\\\hi': False, 'meal': False, 'thurs': False, 'intro': False, 'lick': False, 'bf': False, 'derek': False, 'l8r': False, 'scared': False, 'belly': False, 'hv': False, 'bitch': False, 'website': False, 'wet': False, 'sing': False, 'stylish': False, 'village': False, 'euro2004': False, 'star': False, 'pobox36504w45wq': False, 'sura': False, 'yun': False, 'lik': False, 'acc': False, 'subscription': False, 'interview': False, 'pple': False, 'eng': False, 'realy': False, 'boston': False, 'i\\x89û÷m': False, 'rem': False, 'expecting': False, 'ringtones': False, 'totally': False, 'day\\\\': False, 'throw': False, 'mths': False, 'chinese': False, 'gentle': False, 'aint': False, 'pongal': False, 'eerie': False, 'spook': False, 'obviously': False, 'attend': True, 'idk': False, 'handle': False, 'waitin': False, 'day..': False, 'blood.send': False, 'queen': False, 'module': False, 'ac': False, 'cat': False, 'aunt': False, 'tablet': False, 'enjoyed': False, 'total': False, 'texted': False, 'tm': False, 'passed': False, 'pig': False, 'fifteen': False, 'teeth': False, '50p': False, 'seem': False, 'lecture': False, 'msg*': False, 'goal': False, 'purity': False, 'message..its': False, 'throat': False, 'six': False, 'i\\x89û÷ll': False, '*loving': False, 'released': False, 'lab': False, 'tb': False, 'oz': False, 'yetunde': False, 'pie': False, 'k..k': False, 'assume': False, 'grl': False, 'kano': False, '08715705022': False, 'k.k': False, '83600': False, 'expect': False, 'sore': False, 'hip': False, '*smiles*': False, 'shortly': False, 'mmm': False, 'accidentally': False, 'brought': False, 'master': False, 'brain': False, 'easier': False, 'becoz': False, 'shoot': False, 'anyways': False, 'bite': False, 'cleaning': False, 'afraid': False, 'drivin': False, 'oru': False, 'spoken': False, 'lonely': False, 'wkend': False, '3d': False, 'ron': False, 'dictionary': False, 'research': False, 'row/w1j6hl': False, 'action': False, 'advance..': False, 'outta': False, 'source': False, 'å£3/wk': False, 'saved': False, 'netcollex': False, 'ai': False, 'considering': False, 'apparently': False, 'cust': False, '08712405020': False, '=d': False, 'credited': False, 'favour': False, 'truly': False, 'er': False, 'hella': False, 'grand': False, 'package': False, 'effect': False, 'gorgeous': False, 'essential': False, 'process': False, 'ppl': False, 'aiyar': False, 'befor': False, 'activity': False, 'shame': False, 'today..': False, 'bathing': False, 'losing': False, 'confidence': False, 'escape': False, 'gently': False, 'height': False, '6hrs': False, 'hols': False, 'largest': False, 'ec2a': False, 'addicted': False, 'unique': False, 'belovd': False, 'wearing': False, 'football': False, 'pod': False, 'often': False, 'cream': False, 'iz': False, '542': False, 'enemy': False, 'txtin': False, '4info': False, 'upto': False, 'diet': False, 'jess': False, '08002986906': False, 'missing*': False, '*kiss*': False, 'dem': False, 'relation': False, 'blank': False, 'iq': False, '2optout': False, 'url': False, 'www.ldew.com1win150ppmx3age16': False, 'bright': False, 'cross': False, 'ntwk': False, '1/2': False, '08001950382': False, 'freefone': False, 'technical': False, 'february': False, 'qatar': False, '\\\\what': False, 'bear': False, '\\\\a': False, 'freak': False, '09061221066': False, 'fromm': False, 'machan': False, 'fml': False, 'spk': False, 'faster': False, 'lion': False, 'answering': False, 'temple': False, 'porn': False, 'mono': False, 'www.ringtones.co.uk': False, '3gbp': False, 'wc1n3xx': False, 'reveal': False, 'recd': False, 'cam': False, 'delivered': False, 'ordered': False, 'wud': False, 'supply': False, '3mins': False, '150p/min': False, 'suite': False, '7250i': False, 'row/w1jhl': False, '-d': False, 'happend': False, '150p/msgrcvdhg/suite342/2lands/row/w1j6hl': False, 'ure': False, 'intelligent': False, 'wall': False, 'leg': False, 'å£4.50': False, 'kidz': False, 'screaming..': False, 'sofa..': False, 'quit': False, 'deleted': False, 'appt': False, 'dry': False, 'three': False, 'mad': False, 'moby': False, 'rule': False, 'receiving': False, '87575': False, '87121': False, 'skype': False, 'theory': False, 'argue': False, 'sooner': False, 'sha': False, 'wtf': False, 'mummy': False, '10am-7pm': False, 'bx420': False, 'played': False, '60p/min': False, 'santa': False, 'thts': False, 'settled': False, 'v.': False, 'basic': False, 'career': False, 'twice': False, 'gravity..': False, 'carefully': False, '\\\\our': False, 'it..\\\\': False, 'yes..': False, '4get': False, 'm263uz': False, 'series': False, 'bcums': False, 'seriously..': False, 'childish': False, 'kettoda': False, 'manda': False, 'mite': False, 'talent': False, 'bringing': False, 'solve': False, 'cooking': False, '83355': False, 'sight': False, 'remain': False, 'login=': False, '3qxj9': False, '9ae': False, '87239': False, 'sheet': False, 'inform': False, '250': False, 'hunny': False, 'loss': False, 'meanwhile': False, 'aiya': False, 'moji': False, 'infernal': False, 'radio': False, 'regret': False, 'understanding': False, 'roger': False, 'raise': False, '11mths': False, 'penny': False, 'abi': False, 'exact': False, '0808': False, '145': False, '4742': False, '9am-11pm': False, 'hun': False, 'explain': False, '87131': False, 'blackberry': False, 'practice': False, 'ibiza': False, 'house-maid': False, 'january..': False, 'public': False, 'govt.instituitions': False, 'received': False, 'yuo': False, 'tihs': False, 'jst': False, 'fever': False, 'surprised': False, 'rally': False, 'gram': False, 'vijay': False, 'bloody': False, 'takin': False, 'tuition': False, 'purpose': False, 'tenant': False, 'refused': False, \"'help\": False, 'perfect': False, 'bay': False, 'rush': False, 'allah': False, 'jada': False, 'kusruthi': False, 'spl': False, 'matured': False, 'reply..': False, 'tkts': False, 'followed': False, '_': False, 'bet': False, 'leona': False, 'ansr': False, '82277.': False, 'tyrone': False, 'cud': False, 'along': False, 'spending': False, 'hanging': False, 'oni': False, '786': False, 'unredeemed': False, 'smile*': False, 'meetin': False, 'energy\\\\': False, 'urn': False, 'taunton': False, 'biggest': False, '7th': False, '6th': False, '5th': False, 'personality': False, '\\\\ur': False, 'friendship\\\\': False, 'nyc': False, 'vip': False, 'weird': False, 'bud': False, 'forum': False, 'ache': False, 'celebrate': False, '-p': False, 'seemed': False, 'dirty': False, 'yer': False, '84199': False, 'opt-out': False, 'box39822': False, 'w111wx': False, 'legal': False, 'atlanta': False, 'bday': False, 'center': False, 'careful': False, '4t': False, 'profit': False, 'sugar': False, 'å£3': False, 'aunty': False, 'me.i': False, 'prepare': False, 'preferably': False, 'bahamas': False, '5000': False, 'cw25wx': False, 'rude': False, '8552': False, 'ppm': False, 'def': False, 'laughing': False, 'window': False, 'bloke': False, 'dare': False, 'connect': False, '85': False, 'embarassed': False, 'wah': False, 'teacher': False, 'bishan': False, '02/06/03': False, 'fa': False, 'wanting': False, 'mumtaz': False, 'chicken': False, 'å£1450': False, 'cs/stop': False, 'apps': False, '***********': False, 'symbol': False, 'tirupur': False, '88039': False, 'skilgme': False, 'chillin': False, 'lounge': False, 'ok.ok': False, 'ok..then..whats': False, 'haiz': False, 'january': False, 'male': False, 'shut': False, 'provided': False, '09061790121': False, 'cornwall': False, 'iåõm': False, 'karaoke': False, 'juicy': False, 'gossip': False, 'middle': False, 'previous': False, 'display': False, '08717898035.': False, 'strike': False, 'responding': False, 'honeybee': False, '*i': False, 'sweetest': False, 'world*': False, 'laughed': False, '*wait': False, 'havnt': False, 'crack': False, 'gm+gn+ge+gn': False, '87021': False, 'l': False, 'cleared': False, 'birla': False, 'soft': False, 'lousy': False, 'fee': False, 'atm': False, 'history': False, 'shesil': False, 'event': False, 'wife.how': False, 'bar': False, 'ptbo': False, 'frying': False, 'it\\x89û÷s': False, 'that\\x89û÷s': False, 'likely': False, 'claire': False, 'havin': False, 'login': False, 'bottom': False, 'nan': False, 'helen': False, 'popped': False, 'evn': False, 'born': False, 'jamster': False, 'building': False, 'aah': False, 'cuddle': False, 'soup': False, 'map': False, 'chain': False, '80878': False, '114/14': False, 'tcr/w1': False, 'wind': False, 'scary': False, 'rakhesh': False, 'alcohol': False, 'stuck': False, 'oic': False, 'roast': False, 'magical': False, 'cock': False, 'k52': False, 'repair': False, 'hahaha..use': False, 'boat': False, 'goodnite': False, 'salary': False, 'sum1': False, 'tomarrow': False, 'regular': False, 'beware': False, 'snake': False, 'vava': False, 'k.i': False, '9ja': False, 'fuckin': False, 'shelf': False, 'voicemail': False, 'comedy': False, 'min..': False, 'jason': False, \"'melle\": False, 'melle': False, 'minnaminunginte': False, 'nurungu': False, 'vettam': False, 'seven': False, 'handed': False, 'count': False, 'celebration': False, 'hint': False, 'journey': False, 'terrible': False, 'generally': False, 'shorter': False, 'fran': False, 'flash': False, 'jealous': False, 'today-sunday..sunday': False, 'holiday..so': False, 'work..': False, '\\\\x\\\\': False, 'saucy': False, 'celeb': False, 'pocketbabe.co.uk': False, 'calls..messages..missed': False, 'form': False, 'billed': False, 'stupid.its': False, 'g.': False, 'welp': False, '84128': False, 'force': False, 'thangam': False, 'business': False, 'mall': False, 'railway': False, 'raji..pls': False, 'nimya': False, 'greeting': False, 'lay': False, 'blake': False, 'randomly': False, 'fit': False, 'advise': False, 'recent': False, 'å£1500': False, 'auto': False, 'spring': False, 'jane': False, 'screen': False, 'hand..': False, 'interesting..': False, 'plane': False, 'prabha..i': False, 'soryda..realy..frm': False, 'sory': False, 'impossible': False, 'chill': False, 'farm': False, 'frnds..': False, 'kill': False, 'outstanding': False, 'august': False, 'dot': False, 'elsewhere': False, 'msging': False, 'valuable': False, 'parked': False, 'butt': False, 'adore': False, 'register': False, 'giv': False, 'cruise': False, '80182': False, '08452810073': False, 'knowing': False, 'push': False, 'fightng': False, 'dificult': False, '0': False, 'various': False, 'responsibility': False, 'suntec': False, 'seat': False, 'walmart': False, 'day..u': False, 'dear1': False, 'best1': False, 'clos1': False, 'lvblefrnd': False, 'jstfrnd': False, 'cutefrnd': False, 'lifpartnr': False, 'swtheart': False, 'bstfrnd': False, 'ben': False, 'box95qu': False, 'suggest': False, 'include': False, 'follow': False, 'instruction': False, 'norm': False, 'm26': False, '3uz': False, 'dislike': False, 'stomach': False, 'teasing': False, 'female': False, 'bottle': False, 'tree': False, 'forevr': False, 'newest': False, 'among': False, 'table': False, 'freezing': False, 'university': False, 'pink': False, 'sender': False, 'genuine': False, 'www.100percent-real.com': False, 'remains': False, 'bro': False, 'bros': False, 'wn': False, 'ham': False, 'fear': False, 'lock': False, 'prefer': False, 'erm': False, '89545': False, 'å£1': False, 'www.4-tc.biz': False, '087187262701.50gbp/mtmsg18': False, 'bat': False, 'argh': False, 'dreams..': False, 'valid12hrs': False, 'audition': False, 'moved': False, 'calicut': False, 'now..': False, 'xxx\\\\': False, 'june': False, 'express': False, 'gary': False, 'community': False, 'mac': False, 'membership': False, '*pouts*': False, '*stomps': False, 'feet*': False, 'wedding': False, 'executive': False, 'yummy': False, 'lip': False, 'four': False, 'ne': False, 'stress': False, 'idiot': False, 'mmmm': False, 'church..': False, 'hardcore': False, 'chatting': False, 'dresser': False, 'collecting': False, 'gentleman': False, 'dignity': False, 'respect': False, 'rofl': False, 'anti': False, 'fell': False, 'knackered': False, 'eaten': False, '1.50': False, 'booty': False, 'floor': False, 'distance': False, '200': False, 'virgin': False, '\\\\be': False, 'garage': False, 'certainly': False, 'scotland': False, 'program': False, 'shot': False, 'dai': False, 'da..': False, 'bloo': False, 'payment': False, 'message..no': False, 'responce..what': False, '18yrs': False, 'flaked': False, 'jan': False, 'sorted': False, 'burn': False, '88066': False, 'slap': False, '89555': False, 'textoperator': False, 'xuhui': False, 'we\\x89û÷re': False, 'american': False, 'callin': False, '21st': False, 'dress': False, 'alwys': False, 'toa': False, 'payoh': False, 'prospect': False, 'ì©': False, '900': False, 'mini': False, 'arun': False, 'loses': False, 'just..': False, 'cramp': False, 'speed': False, 'diamond': False, 'inning': False, 'addie': False, '\\\\its': False, 'di': False, 'yor': False, 'thanksgiving': False, 'jesus': False, 'tom': False, 'dick': False, 'upload': False, '09063458130': False, 'polyph': False, 'lido': False, 'nat': False, 'catching': False, 'home..': False, 'cha': False, '30': False, '10k': False, 'aathi..love': False, 'lot..': False, 'in2': False, '80082': False, 'itz': False, 'dark': False, 'medicine': False, 'maneesha': False, 'satisfied': False, 'toll': False, 'hg/suite342/2lands/row/w1j6hl': False, 'major': False, 'temp': False, '81303': False, 'sentence': False, 'concentrate': False, 'understood': False, 'fan': False, 'hubby': False, 'storming': False, 'phne': False, '\\\\hello\\\\': False, 'wt': False, 'girl..': False, 'margaret': False, 'hello\\\\': False, 'girlfrnd': False, 'grahmbell': False, 'invnted': False, 'telphone': False, 'prolly': False, 'sometime': False, 'painful': False, 'dubsack': False, 'beyond': False, 'downloads': False, 'james': False, 'questioned': False, '4.cook': False, '5.gardener': False, 'vegetable': False, '6.house-maid': False, '7.children': False, '8.neighbour': False, 'collected': False, 'verify': False, 'software': False, 'ibhltd': False, 'ldnw15h': False, 'bigger': False, 'onwards': False, 'sight..': False, 'maintain': False, 'ends..': False, 'violence': False, '08702840625.comuk': False, '220-cm2': False, 'ic': False, 'husband': False, 'value': False, 'realized': False, 'str': False, 'reminder': False, '80488': False, '2005': False, 'death': False, 'smart': False, 'realize': False, 'fingers..': False, '84025': False, 'chosen': False, 'doggy': False, 'fave': False, 'position': False, 'closer': False, 'remembered': False, 'xavier': False, 'favourite': False, 'msg..': False, 'california': False, 'sh': False, 'anythin': False, 'speechless': False, 'sept': False, 'oreo': False, 'madam': False, 'management': False, 'unsold': False, '4mths': False, 'mobilesdirect': False, '08000938767': False, 'or2stoptxt': False, 'successfully': False, '88600': False, 's.i.m': False, '2stoptxt': False, 'behave': False, 'normally': False, 'supervisor': False, 'wise': False, 'opportunity': False, 'rang': False, 'error': False, 'iscoming': False, 'gudnite': False, 'aathi..where': False, '434': False, 'sk3': False, '8wp': False, 'office..understand': False, 'ese': False, 'arsenal': False, 'liverpool': False, '18+only': False, '4.50': False, 'buzy': False, '82242': False, 'maxå£7': False, 'hide': False, 'math': False, '*teasing': False, 'proof': False, 'eight': False, 'morphine': False, 'confirmed': False, 'gim': False, 'cardiff': False, 'skip': False, 'pull': False, 'lil': False, 'u': False, 'x\\\\': False, 'spare': False, 'birth': False, 'sorting': False, 'postcode': False, 'opening': False, 'swimming': False, 'option': False, 'slice': False, 'deliveredtomorrow': False, 'quickly': False, 'usual..iam': False, 'well..': False, 'å£75,000': False, 'homeowner': False, 'previously': False, '1956669': False, 'macho': False, 'bmw': False, 'urgently..its': False, 'urgent.but': False, 'shortage': False, 'lacs.there': False, 'arng': False, 'lacs..thats': False, 'captain': False, 'nearly': False, 'spell': False, 'regarding': False, 'kadeem': False, 'potential': False, 'reality': False, 'mile': False, 'okey': False, '2morow': False, 'nichols': False, 'fathima': False, 'ranjith': False, 'se': False, 'clear': False, 'taylor': False, '45239': False, 'chart': False, 'touched': False, 'thm': False, 'cn': False, 'instantly': False, 'shouted': False, 'drinking': False, 'boost': False, 'tease': False, 'prey': False, 'dearer': False, 'germany': False, 'tog': False, 'vodka': False, 'ubi': False, 'invite': False, 'successful': False, 'tessy..pls': False, 'favor': False, 'nimya..pls': False, 'shijas': False, 'chasing': False, 'monkey': False, 'tsunami': False, 'concert': False, 'accident': False, 'passionate': False, 'sn': False, 'shld': False, '125gift': False, 'buff': False, 'rich': False, 'iouri': False, 'wylie': False, 'greet': False, 'callback': False, 'chechi': False, 'boye': False, 'fish': False, '2u': False, 'gang': False, '2morrow': False, 'blame': False, 'tscs': False, 'tape': False, 'beauty': False, 'diff': False, 'transfer': False, 'citizen': False, 'drunk': False, 'gona': False, 'taken': False, \"'til\": False, 'walked': False, 'possession': False, 'messenger': False, 'xxx.\\\\': False, 'ikea': False, 'caught': False, 'lotr': False, 'sleeping..and': False, 'alfie': False, 'm8s': False, 'nokias': False, '08701417012': False, 'warner': False, '6months': False, 'foreign': False, 'stamp': False, 'pg': False, 'subscribed': False, 'natural': False, '09066612661': False, 'ummmmmaah': False, 'heart..': False, '09061209465': False, 'suprman': False, 'matrix3': False, 'starwars3': False, 'bx420-ip4-5we': False, 'philosophy': False, 'exe': False, 'dave': False, 'apologise': False, 'u4': False, 'upgrade': False, 'july': False, 'settle': False, 'abta': False, 'failed': False, 'winning': False, 'brothas': False, 'burger': False, 'subpoly': False, '\\\\oh': False, 'spanish': False, 'guilty': False, 'advance': False, 'caring': False, 'morn': False, 'euro': False, '83222': False, 'exhausted': False, 'smoking': False, 'stranger': False, '5min': False, 'office..': False, 't-mobile': False, 'challenge': False, 'lifetime': False, 'pop': False, 'foot': False, 'blow': False, '0845': False, 'dearly': False, 'bell': False, 'avent': False, 'avatar': False, 'fair': False, 'wale': False, 'åð': False, 'bein': False, 'standing': False, 'booking': False, 'carry': False, '2000': False, 'monthly': False, 'finishing': False, 'measure': False, 'stone': False, 'china': False, '09066362231': False, '07xxxxxxxxx': False, 'esplanade': False, 'paris': False, '121': False, 'shipping': False, 'headache': False, 'na-tuition..': False, 'mi': False, 'ear': False, 'box97n7qp': False, 'slipper': False, 'halloween': False, 'constantly': False, 'needed': False, 'blah': False, 'transfered': False, '2moro': False, 'anywhere': False, 'market': False, 'upset': False, 'missin': False, 'returned': False, 'romantic': False, 'footprint': False, 'cherish': False, 'traffic': False, 'album': False, '+123': False, '09050002311': False, 'b4280703': False, '08718727868': False, 'attached': False, 'fire': False, 'granite': False, 'strong-buy': False, 'explosive': False, '*****up': False, 'nasdaq': False, 'cdgt': False, '5.00': False, 'per..': False, 'several': False, 'painting': False, 'tscs087147403231winawk': False, 'å£1.50perwksub': False, 'sar': False, 'jsco': False, 'west': False, 'coast': False, 'select': False, 'benefit': False, '21870000': False, 'mailbox': False, 'messaging': False, '40': False, '09056242159': False, 'retrieve': False, 'solved': False, '08709222922': False, '1.5p/min': False, '7.8p/min': False, 'peak': False, 'size': False, '61610': False, 'help:08712400602450p': False, 'tones2you.co.uk': False, 'craziest': False, 'itåõs': False, 'jiayin': False, '08002986030': False, 'prof': False, 'sem': False, 'mcat': False, 'calm': False, 'suggestion': False, 'lower': False, 'mesages': False, 'wan2': False, 'meet+greet': False, 'westlife': False, 'm8': False, 'unbreakable': False, 'untamed': False, 'unkempt': False, '1,2': False, '83049': False, '+std': False, 'mila': False, 'age23': False, 'blonde': False, 'mtalk': False, '69866.18': False, '30pp/txt': False, '5free': False, 'increment': False, 'help08718728876': False, 'japanese': False, 'proverb': False, 'filthy': False, '69669': False, 'agent': False, 'dealer': False, 'impatient': False, 'ned': False, 'hurting': False, 'main': False, '7.30': False, '8.30': False, 'pan': False, 'perhaps': False, 'crap': False, 'borin': False, 'callså£1/minmoremobsemspobox45po139wa': False, 'vday': False, 'underwear': False, 'holy': False, 'christ': False, 'phoned': False, 'prince': False, 'u\\\\': False, 'frnds\\\\': False, 'evr': False, 'flaky': False, 'replacement': False, 'melt': False, 'ground': False, 'eek': False, 'wallpaper': False, '88888': False, 'admin': False, 'slightly': False, 'lush': False, 'appreciated': False, 'apart': False, 'kent': False, 'vale': False, 'batch': False, 'gold': False, 'agalla': False, 'necklace': False, '09058094565': False, 'anna': False, 'nagar': False, 'depressed': False, 'necessarily': False, 'headin': False, 'tip': False, 'parco': False, 'nb': False, '1030': False, 'geeeee': False, 'chest': False, 'infection': False, 'bone': False, 'purse': False, 'rewarding': False, 'delete': False, 'delay': False, 'simpler': False, 'gent': False, '09064012160': False, 'installing': False, 'peace..': False, 'jesus..': False, 'blessed': False, 'cali': False, 'beneath': False, 'pale': False, 'pours': False, 'neither': False, 'snogs': False, 'discussed': False, 'prem': False, 'dancing': False, '169': False, '6031': False, '10am-9pm': False, 'panic': False, 'cm': False, '2geva': False, 'xxxx': False, 'minimum': False, 'period': False, 'gender': False, 'northampton': False, 'develop': False, '//www.e-tlp.co.uk/expressoffer': False, 'reg': False, 'feelin': False, 'wuld': False, 'nuther': False, 'tap': False, 'spile': False, 'broad': False, 'canal': False, 'visionsms.com': False, 'mega': False, 'costume': False, '40533': False, '31/10/04': False, 'huge': False, 'denis': False, 'ding': False, 'noun': False, 'length': False, 'fringe': False, 'distract': False, 'revision': False, 'exeter': False, '4eva': False, '80608': False, 'www.movietrivia.tv': False, '08712405022': False, 'bruv': False, 'mb': False, 'realise': False, 'dealing': False, 'free2day': False, 'george': False, '89080': False, '0870241182716': False, 'tension': False, 'innocent': False, 'swatch': False, 'officially': False, 'clark': False, 'utter': False, 'strip': False, 'ltd.': False, 'musthu': False, 'dime': False, 'practical': False, 'although': False, 'build': False, 'fucked': False, 'e.': False, '83383': False, '4882': False, '09064019014': False, 'bless': False, 'msn': False, 'www.textcomp.com': False, 'falling': False, 'smeone': False, 'tee': False, 'staff': False, 'placement': False, 'rice': False, 'tok': False, 'nydc': False, 'hardly': False, 'neft': False, 'beneficiary': False, 'rhythm': False, 'delhi': False, 'adventure': False, 'galileo': False, 'priscilla': False, 'clearly': False, 'jia': False, 'wee': False, 'lou': False, 'wrk': False, 'lst': False, 'aka': False, 'donno': False, 'ability': False, 'birthdate': False, 'annie': False, 'language': False, 'kavalan': False, 'salon': False, 'moving': False, 'caroline': False, 'ba': False, 'aeronautics': False, 'professor': False}, 'ham') \n",
      "\n"
     ]
    }
   ],
   "source": [
    "#implementing the find_features function defined above on all messages\n",
    "featuresets = [(find_features(msg), type) for (msg, type) in all_messages]\n",
    "\n",
    "print(featuresets[0], \"\\n\") #is the same as\n",
    "#print(find_features(all_messages[0][0]))"
   ]
  },
  {
   "cell_type": "code",
   "execution_count": 17,
   "metadata": {
    "collapsed": true
   },
   "outputs": [],
   "source": [
    "#set that we'll train our classifier with\n",
    "training_set = featuresets[:4000]\n",
    "\n",
    "#set that we'll test against\n",
    "#message #4000 to #5572\n",
    "testing_set = featuresets[4000:]"
   ]
  },
  {
   "cell_type": "code",
   "execution_count": 18,
   "metadata": {
    "collapsed": false
   },
   "outputs": [],
   "source": [
    "#Naive Bayes Classifier is popular machine learning algorithm for text classification\n",
    "\n",
    "#reminder that this is supervised machine learning\n",
    "#because we are feeding the computer already classified data before\n",
    "#testing it on another set of data\n",
    "\n",
    "#see http://www.nltk.org/book/ch06.html for more information on\n",
    "#Naive Bayes Classifier versus decision tree\n",
    "classifier = nltk.NaiveBayesClassifier.train(training_set)"
   ]
  },
  {
   "cell_type": "code",
   "execution_count": 19,
   "metadata": {
    "collapsed": false
   },
   "outputs": [
    {
     "name": "stdout",
     "output_type": "stream",
     "text": [
      "Classifier accuracy percent: 98.9821882951654\n"
     ]
    }
   ],
   "source": [
    "print(\"Classifier accuracy percent:\",(nltk.classify.accuracy(classifier, testing_set))*100)"
   ]
  },
  {
   "cell_type": "code",
   "execution_count": 20,
   "metadata": {
    "collapsed": false
   },
   "outputs": [
    {
     "name": "stdout",
     "output_type": "stream",
     "text": [
      "Most Informative Features\n",
      "                  urgent = True             spam : ham    =    180.1 : 1.0\n",
      "                    rate = True             spam : ham    =    103.8 : 1.0\n",
      "                    code = True             spam : ham    =     86.9 : 1.0\n",
      "                     txt = True             spam : ham    =     81.9 : 1.0\n",
      "                      16 = True             spam : ham    =     78.4 : 1.0\n",
      "                 service = True             spam : ham    =     74.2 : 1.0\n",
      "                   video = True             spam : ham    =     74.2 : 1.0\n",
      "                      uk = True             spam : ham    =     69.9 : 1.0\n",
      "                landline = True             spam : ham    =     64.8 : 1.0\n",
      "                      po = True             spam : ham    =     62.3 : 1.0\n",
      "                   await = True             spam : ham    =     61.4 : 1.0\n",
      "                   nokia = True             spam : ham    =     60.8 : 1.0\n",
      "                 private = True             spam : ham    =     57.2 : 1.0\n",
      "                    land = True             spam : ham    =     57.2 : 1.0\n",
      "                  latest = True             spam : ham    =     57.2 : 1.0\n"
     ]
    }
   ],
   "source": [
    "classifier.show_most_informative_features(15)\n",
    "#shows ratio of occurences in spam to ham for the most valuable word features"
   ]
  },
  {
   "cell_type": "code",
   "execution_count": null,
   "metadata": {
    "collapsed": true
   },
   "outputs": [],
   "source": [
    "#finally, you can save your classifiers with the pickle module\n",
    "import pickle\n",
    "\n",
    "with open(\"naivebayes.pickle\",\"wb\") as f:\n",
    "    pickle.dump(classifier, f)\n",
    "    \n",
    "with open(\"naivebayes.pickle\",\"rb\") as f:\n",
    "    classifier2 = pickle.load(f)"
   ]
  },
  {
   "cell_type": "code",
   "execution_count": null,
   "metadata": {
    "collapsed": false
   },
   "outputs": [],
   "source": [
    "print(\"Classifier accuracy percent:\",(nltk.classify.accuracy(classifier2, testing_set))*100)"
   ]
  },
  {
   "cell_type": "code",
   "execution_count": null,
   "metadata": {
    "collapsed": true
   },
   "outputs": [],
   "source": []
  }
 ],
 "metadata": {
  "kernelspec": {
   "display_name": "Python 3",
   "language": "python",
   "name": "python3"
  },
  "language_info": {
   "codemirror_mode": {
    "name": "ipython",
    "version": 3
   },
   "file_extension": ".py",
   "mimetype": "text/x-python",
   "name": "python",
   "nbconvert_exporter": "python",
   "pygments_lexer": "ipython3",
   "version": "3.6.0"
  }
 },
 "nbformat": 4,
 "nbformat_minor": 2
}
